{
 "cells": [
  {
   "cell_type": "code",
   "execution_count": 0,
   "metadata": {
    "id": "3m3w1Cw49Zkt",
    "colab_type": "code",
    "colab": {}
   },
   "outputs": [],
   "source": [
    "#Enhancements to the 4th improvement\n",
    "# 1. Image Normalization\n",
    "# 2. L2 regularization\n",
    "# 3. ReLU after BN\n",
    "\n",
    "\n",
    "# https://keras.io/\n",
    "\n",
    "#Statement start with \"!\" is a command in Colab.\n",
    "#The following command will quitly install keras python module from python packaging index\n",
    "#After installing keras, it is being imported\n",
    "\n",
    "!pip install -q keras\n",
    "import keras"
   ]
  },
  {
   "cell_type": "code",
   "execution_count": 69,
   "metadata": {
    "id": "RK0tUxaYQBw0",
    "colab_type": "code",
    "colab": {
     "base_uri": "https://localhost:8080/",
     "height": 35.0
    },
    "outputId": "65f8c8f6-0702-4c44-a538-467f464cc113"
   },
   "outputs": [
    {
     "name": "stdout",
     "output_type": "stream",
     "text": [
      "mkdir: cannot create directory ‘/content/model’: File exists\n"
     ]
    }
   ],
   "source": [
    "!mkdir /content/model"
   ]
  },
  {
   "cell_type": "code",
   "execution_count": 0,
   "metadata": {
    "id": "Eso6UHE080D4",
    "colab_type": "code",
    "colab": {}
   },
   "outputs": [],
   "source": [
    "#numpy is imported with \"np\" as kind of alias. \n",
    "#From here on we can use np instead of numpy.\n",
    "\n",
    "import numpy as np\n",
    "\n",
    "#The following would import relevant models and layer. \n",
    "#Also, we have imported the mnist data set.\n",
    "\n",
    "from keras.models import Sequential\n",
    "from keras.layers import Dense, Dropout, Activation, Flatten, Add, BatchNormalization\n",
    "from keras.preprocessing.image import ImageDataGenerator\n",
    "from keras.layers import Convolution2D, MaxPooling2D\n",
    "from keras.utils import np_utils\n",
    "from keras.callbacks import *\n",
    "from keras.models import load_model\n",
    "#from keras.regularizers import l2\n",
    "from keras import regularizers\n",
    "\n",
    "from keras.datasets import mnist"
   ]
  },
  {
   "cell_type": "code",
   "execution_count": 0,
   "metadata": {
    "id": "7eRM0QWN83PV",
    "colab_type": "code",
    "colab": {}
   },
   "outputs": [],
   "source": [
    "# Load MNIST data set into training data and test set data\n",
    "# There are 70,000 images with their labels in MNIST dataset.\n",
    "# Randomly, 60k will be loaded into X_train and their corresponding labels y_train.\n",
    "# Remaining 10k images will be loaded into X_test and their labels y_test.\n",
    "\n",
    "(X_train, y_train), (X_test, y_test) = mnist.load_data()\n",
    "\n",
    "X_test_orig = X_test"
   ]
  },
  {
   "cell_type": "code",
   "execution_count": 73,
   "metadata": {
    "id": "4a4Be72j8-ZC",
    "colab_type": "code",
    "outputId": "868baa2e-1260-4f7e-ba73-53040011d6ce",
    "colab": {
     "base_uri": "https://localhost:8080/",
     "height": 304.0
    }
   },
   "outputs": [
    {
     "name": "stdout",
     "output_type": "stream",
     "text": [
      "(60000, 28, 28)\n"
     ]
    },
    {
     "data": {
      "text/plain": [
       "<matplotlib.image.AxesImage at 0x7fb2d0493f60>"
      ]
     },
     "execution_count": 73,
     "metadata": {
      "tags": []
     },
     "output_type": "execute_result"
    },
    {
     "data": {
      "image/png": "[encoded data removed]",
      "text/plain": [
       "<Figure size 432x288 with 1 Axes>"
      ]
     },
     "metadata": {
      "tags": []
     },
     "output_type": "display_data"
    }
   ],
   "source": [
    "#Printing the shape of Training data set\n",
    "#From this print statement, there are 60,000 images in X train of size 28X28.\n",
    "#Correspoindingly, y_train is a column matrics of size 60000\n",
    "\n",
    "print (X_train.shape)\n",
    "\n",
    "\n",
    "# Using plt.imshow method from matplot library, the first image is printed. y[0] will be have a value of 5.\n",
    "from matplotlib import pyplot as plt\n",
    "%matplotlib inline\n",
    "plt.imshow(X_train[0])"
   ]
  },
  {
   "cell_type": "code",
   "execution_count": 0,
   "metadata": {
    "id": "dkmprriw9AnZ",
    "colab_type": "code",
    "colab": {}
   },
   "outputs": [],
   "source": [
    "#Convert the images in training dataset and test set into multidimentional arrays of their pixel intensity values.\n",
    "\n",
    "X_train = X_train.reshape(X_train.shape[0], 28, 28,1)\n",
    "X_test = X_test.reshape(X_test.shape[0], 28, 28,1)"
   ]
  },
  {
   "cell_type": "code",
   "execution_count": 0,
   "metadata": {
    "id": "X2m4YS4E9CRh",
    "colab_type": "code",
    "colab": {}
   },
   "outputs": [],
   "source": [
    "#Convert the pixel intensity values into floating point value and normalize the pixel intensities by dividing with 255. Max value of pixel intensity is 255.\n",
    "\n",
    "X_train = X_train.astype('float32')\n",
    "X_test = X_test.astype('float32')\n"
   ]
  },
  {
   "cell_type": "code",
   "execution_count": 76,
   "metadata": {
    "id": "0Mn0vAYD9DvB",
    "colab_type": "code",
    "outputId": "964ad0ee-439b-43ba-f108-02c02a88f2ba",
    "colab": {
     "base_uri": "https://localhost:8080/",
     "height": 35.0
    }
   },
   "outputs": [
    {
     "data": {
      "text/plain": [
       "array([5, 0, 4, 1, 9, 2, 1, 3, 1, 4], dtype=uint8)"
      ]
     },
     "execution_count": 76,
     "metadata": {
      "tags": []
     },
     "output_type": "execute_result"
    }
   ],
   "source": [
    "# Convert 1-dimensional class arrays to 10-dimensional class matrices\n",
    "\n",
    "y_train[:10]"
   ]
  },
  {
   "cell_type": "code",
   "execution_count": 0,
   "metadata": {
    "id": "ZG8JiXR39FHC",
    "colab_type": "code",
    "colab": {}
   },
   "outputs": [],
   "source": [
    "# Convert 1-dimensional class arrays to 10-dimensional class matrices\n",
    "\n",
    "# This will convert the numbers in the Y_train and y_test into column metrics of size 10. Element corresponding to the number will have value 1 and all other elements will be 0.\n",
    "# For example, 5 will be represented by the column matrics [0,0,0,0,1,0,0,0,0,0]\n",
    "\n",
    "\n",
    "Y_train = np_utils.to_categorical(y_train, 10)\n",
    "Y_test = np_utils.to_categorical(y_test, 10)"
   ]
  },
  {
   "cell_type": "code",
   "execution_count": 78,
   "metadata": {
    "id": "fYlFRvKS9HMB",
    "colab_type": "code",
    "outputId": "fce85878-4ff3-45c9-a6bf-887c13319d84",
    "colab": {
     "base_uri": "https://localhost:8080/",
     "height": 195.0
    }
   },
   "outputs": [
    {
     "data": {
      "text/plain": [
       "array([[0., 0., 0., 0., 0., 1., 0., 0., 0., 0.],\n",
       "       [1., 0., 0., 0., 0., 0., 0., 0., 0., 0.],\n",
       "       [0., 0., 0., 0., 1., 0., 0., 0., 0., 0.],\n",
       "       [0., 1., 0., 0., 0., 0., 0., 0., 0., 0.],\n",
       "       [0., 0., 0., 0., 0., 0., 0., 0., 0., 1.],\n",
       "       [0., 0., 1., 0., 0., 0., 0., 0., 0., 0.],\n",
       "       [0., 1., 0., 0., 0., 0., 0., 0., 0., 0.],\n",
       "       [0., 0., 0., 1., 0., 0., 0., 0., 0., 0.],\n",
       "       [0., 1., 0., 0., 0., 0., 0., 0., 0., 0.],\n",
       "       [0., 0., 0., 0., 1., 0., 0., 0., 0., 0.]], dtype=float32)"
      ]
     },
     "execution_count": 78,
     "metadata": {
      "tags": []
     },
     "output_type": "execute_result"
    }
   ],
   "source": [
    "#Print first 10 elements in the Y_train after converting into catogorical matrices.\n",
    "\n",
    "Y_train[:10]\n"
   ]
  },
  {
   "cell_type": "code",
   "execution_count": 116,
   "metadata": {
    "id": "osKqT73Q9JJB",
    "colab_type": "code",
    "outputId": "9a5c3635-3591-4bb4-b6ab-1ddb4b754daf",
    "colab": {
     "base_uri": "https://localhost:8080/",
     "height": 144.0
    }
   },
   "outputs": [
    {
     "name": "stderr",
     "output_type": "stream",
     "text": [
      "/usr/local/lib/python3.6/dist-packages/ipykernel_launcher.py:16: UserWarning: Update your `Conv2D` call to the Keras 2 API: `Conv2D(8, (3, 3), kernel_regularizer=<keras.reg..., input_shape=(28, 28, 1...)`\n",
      "  app.launch_new_instance()\n",
      "/usr/local/lib/python3.6/dist-packages/ipykernel_launcher.py:20: UserWarning: Update your `Conv2D` call to the Keras 2 API: `Conv2D(16, (3, 3), kernel_regularizer=<keras.reg...)`\n",
      "/usr/local/lib/python3.6/dist-packages/ipykernel_launcher.py:24: UserWarning: Update your `Conv2D` call to the Keras 2 API: `Conv2D(32, (3, 3), kernel_regularizer=<keras.reg...)`\n",
      "/usr/local/lib/python3.6/dist-packages/ipykernel_launcher.py:35: UserWarning: Update your `Conv2D` call to the Keras 2 API: `Conv2D(8, (3, 3), kernel_regularizer=<keras.reg...)`\n",
      "/usr/local/lib/python3.6/dist-packages/ipykernel_launcher.py:39: UserWarning: Update your `Conv2D` call to the Keras 2 API: `Conv2D(32, (3, 3), kernel_regularizer=<keras.reg...)`\n"
     ]
    }
   ],
   "source": [
    "# create generator to standardize images\n",
    "datagen = ImageDataGenerator(featurewise_center=True, featurewise_std_normalization=True)\n",
    "\n",
    "# calculate mean on training dataset\n",
    "datagen.fit(X_train)\n",
    "\n",
    "# prepare an iterators to scale images\n",
    "train_iterator = datagen.flow(X_train, Y_train, batch_size=128, shuffle=False)\n",
    "validation_iterator = datagen.flow(X_test, Y_test, batch_size=128, shuffle=False)\n",
    "\n",
    "\n",
    "# Applying L2 Regularization and ReLU after the batch normalizaion\n",
    "model = Sequential()\n",
    " \n",
    "model.add(Convolution2D(8, 3, 3, kernel_regularizer=regularizers.l2(0.01),input_shape=(28,28,1)))#26,3\n",
    "model.add(BatchNormalization())\n",
    "model.add(Activation('relu'))\n",
    "model.add(Dropout(0.1))\n",
    "model.add(Convolution2D(16, 3, 3, kernel_regularizer=regularizers.l2(0.01)))#24,5\n",
    "model.add(BatchNormalization())\n",
    "model.add(Activation('relu'))\n",
    "model.add(Dropout(0.1))\n",
    "model.add(Convolution2D(32, 3, 3, kernel_regularizer=regularizers.l2(0.01)))#22,7\n",
    "model.add(BatchNormalization())\n",
    "model.add(Activation('relu'))\n",
    "model.add(Dropout(0.1))\n",
    "\n",
    "model.add(Convolution2D(8, 1, kernel_regularizer=regularizers.l2(0.01)))#22,7\n",
    "model.add(BatchNormalization())\n",
    "model.add(Activation('relu'))\n",
    "model.add(Dropout(0.25))\n",
    "model.add(MaxPooling2D(2, 2))#11,14\n",
    "\n",
    "model.add(Convolution2D(8, 3, 3, kernel_regularizer=regularizers.l2(0.01)))#9,16\n",
    "model.add(BatchNormalization())\n",
    "model.add(Activation('relu'))\n",
    "model.add(Dropout(0.1))\n",
    "model.add(Convolution2D(32, 3, 3, kernel_regularizer=regularizers.l2(0.01)))#7,18\n",
    "model.add(BatchNormalization())\n",
    "model.add(Activation('relu'))\n",
    "model.add(Dropout(0.1))\n",
    "\n",
    "model.add(Convolution2D(10, 1, activation='relu'))#7,18 \n",
    "model.add(Dropout(0.1))\n",
    "model.add(Convolution2D(10, 7))#1,24\n",
    "\n",
    "model.add(Flatten())\n",
    "model.add(Activation('softmax'))"
   ]
  },
  {
   "cell_type": "code",
   "execution_count": 117,
   "metadata": {
    "id": "TzdAYg1k9K7Z",
    "colab_type": "code",
    "outputId": "8aea3e41-a5b0-44e8-a8c1-5507276082f7",
    "colab": {
     "base_uri": "https://localhost:8080/",
     "height": 1208.0
    }
   },
   "outputs": [
    {
     "name": "stdout",
     "output_type": "stream",
     "text": [
      "_________________________________________________________________\n",
      "Layer (type)                 Output Shape              Param #   \n",
      "=================================================================\n",
      "conv2d_89 (Conv2D)           (None, 26, 26, 8)         80        \n",
      "_________________________________________________________________\n",
      "batch_normalization_67 (Batc (None, 26, 26, 8)         32        \n",
      "_________________________________________________________________\n",
      "activation_42 (Activation)   (None, 26, 26, 8)         0         \n",
      "_________________________________________________________________\n",
      "dropout_78 (Dropout)         (None, 26, 26, 8)         0         \n",
      "_________________________________________________________________\n",
      "conv2d_90 (Conv2D)           (None, 24, 24, 16)        1168      \n",
      "_________________________________________________________________\n",
      "batch_normalization_68 (Batc (None, 24, 24, 16)        64        \n",
      "_________________________________________________________________\n",
      "activation_43 (Activation)   (None, 24, 24, 16)        0         \n",
      "_________________________________________________________________\n",
      "dropout_79 (Dropout)         (None, 24, 24, 16)        0         \n",
      "_________________________________________________________________\n",
      "conv2d_91 (Conv2D)           (None, 22, 22, 32)        4640      \n",
      "_________________________________________________________________\n",
      "batch_normalization_69 (Batc (None, 22, 22, 32)        128       \n",
      "_________________________________________________________________\n",
      "activation_44 (Activation)   (None, 22, 22, 32)        0         \n",
      "_________________________________________________________________\n",
      "dropout_80 (Dropout)         (None, 22, 22, 32)        0         \n",
      "_________________________________________________________________\n",
      "conv2d_92 (Conv2D)           (None, 22, 22, 8)         264       \n",
      "_________________________________________________________________\n",
      "batch_normalization_70 (Batc (None, 22, 22, 8)         32        \n",
      "_________________________________________________________________\n",
      "activation_45 (Activation)   (None, 22, 22, 8)         0         \n",
      "_________________________________________________________________\n",
      "dropout_81 (Dropout)         (None, 22, 22, 8)         0         \n",
      "_________________________________________________________________\n",
      "max_pooling2d_12 (MaxPooling (None, 11, 11, 8)         0         \n",
      "_________________________________________________________________\n",
      "conv2d_93 (Conv2D)           (None, 9, 9, 8)           584       \n",
      "_________________________________________________________________\n",
      "batch_normalization_71 (Batc (None, 9, 9, 8)           32        \n",
      "_________________________________________________________________\n",
      "activation_46 (Activation)   (None, 9, 9, 8)           0         \n",
      "_________________________________________________________________\n",
      "dropout_82 (Dropout)         (None, 9, 9, 8)           0         \n",
      "_________________________________________________________________\n",
      "conv2d_94 (Conv2D)           (None, 7, 7, 32)          2336      \n",
      "_________________________________________________________________\n",
      "batch_normalization_72 (Batc (None, 7, 7, 32)          128       \n",
      "_________________________________________________________________\n",
      "activation_47 (Activation)   (None, 7, 7, 32)          0         \n",
      "_________________________________________________________________\n",
      "dropout_83 (Dropout)         (None, 7, 7, 32)          0         \n",
      "_________________________________________________________________\n",
      "conv2d_95 (Conv2D)           (None, 7, 7, 10)          330       \n",
      "_________________________________________________________________\n",
      "dropout_84 (Dropout)         (None, 7, 7, 10)          0         \n",
      "_________________________________________________________________\n",
      "conv2d_96 (Conv2D)           (None, 1, 1, 10)          4910      \n",
      "_________________________________________________________________\n",
      "flatten_12 (Flatten)         (None, 10)                0         \n",
      "_________________________________________________________________\n",
      "activation_48 (Activation)   (None, 10)                0         \n",
      "=================================================================\n",
      "Total params: 14,728\n",
      "Trainable params: 14,520\n",
      "Non-trainable params: 208\n",
      "_________________________________________________________________\n"
     ]
    }
   ],
   "source": [
    "model.summary()"
   ]
  },
  {
   "cell_type": "code",
   "execution_count": 0,
   "metadata": {
    "id": "Zp6SuGrL9M3h",
    "colab_type": "code",
    "colab": {}
   },
   "outputs": [],
   "source": [
    "model.compile(loss='categorical_crossentropy',\n",
    "             optimizer='adam',\n",
    "             metrics=['accuracy'])\n"
   ]
  },
  {
   "cell_type": "code",
   "execution_count": 119,
   "metadata": {
    "id": "4xWoKhPY9Of5",
    "colab_type": "code",
    "outputId": "cd8f1934-49c2-4007-8ddf-14518b50845c",
    "colab": {
     "base_uri": "https://localhost:8080/",
     "height": 2879.0
    }
   },
   "outputs": [
    {
     "name": "stdout",
     "output_type": "stream",
     "text": [
      "Epoch 1/40\n",
      "195/195 [==============================] - 18s 91ms/step - loss: 1.1615 - acc: 0.7844 - val_loss: 1.4845 - val_acc: 0.6289\n",
      "\n",
      "Epoch 00001: val_acc improved from -inf to 0.62891, saving model to /content/model/image-normalization-model.hdf5\n",
      "Epoch 2/40\n",
      "195/195 [==============================] - 4s 18ms/step - loss: 0.4285 - acc: 0.9516 - val_loss: 1.2653 - val_acc: 0.6836\n",
      "\n",
      "Epoch 00002: val_acc improved from 0.62891 to 0.68359, saving model to /content/model/image-normalization-model.hdf5\n",
      "Epoch 3/40\n",
      "195/195 [==============================] - 3s 18ms/step - loss: 0.2645 - acc: 0.9682 - val_loss: 0.5210 - val_acc: 0.8750\n",
      "\n",
      "Epoch 00003: val_acc improved from 0.68359 to 0.87500, saving model to /content/model/image-normalization-model.hdf5\n",
      "Epoch 4/40\n",
      "195/195 [==============================] - 3s 18ms/step - loss: 0.1926 - acc: 0.9723 - val_loss: 0.2484 - val_acc: 0.9539\n",
      "\n",
      "Epoch 00004: val_acc improved from 0.87500 to 0.95391, saving model to /content/model/image-normalization-model.hdf5\n",
      "Epoch 5/40\n",
      "195/195 [==============================] - 3s 18ms/step - loss: 0.1531 - acc: 0.9767 - val_loss: 0.1452 - val_acc: 0.9805\n",
      "\n",
      "Epoch 00005: val_acc improved from 0.95391 to 0.98047, saving model to /content/model/image-normalization-model.hdf5\n",
      "Epoch 6/40\n",
      "195/195 [==============================] - 3s 18ms/step - loss: 0.1289 - acc: 0.9774 - val_loss: 0.1524 - val_acc: 0.9641\n",
      "\n",
      "Epoch 00006: val_acc did not improve from 0.98047\n",
      "Epoch 7/40\n",
      "195/195 [==============================] - 3s 18ms/step - loss: 0.1259 - acc: 0.9755 - val_loss: 0.0731 - val_acc: 0.9945\n",
      "\n",
      "Epoch 00007: val_acc improved from 0.98047 to 0.99453, saving model to /content/model/image-normalization-model.hdf5\n",
      "Epoch 8/40\n",
      "195/195 [==============================] - 3s 18ms/step - loss: 0.1107 - acc: 0.9793 - val_loss: 0.0843 - val_acc: 0.9897\n",
      "\n",
      "Epoch 00008: val_acc did not improve from 0.99453\n",
      "Epoch 9/40\n",
      "195/195 [==============================] - 3s 18ms/step - loss: 0.1042 - acc: 0.9801 - val_loss: 0.1261 - val_acc: 0.9703\n",
      "\n",
      "Epoch 00009: val_acc did not improve from 0.99453\n",
      "Epoch 10/40\n",
      "195/195 [==============================] - 3s 18ms/step - loss: 0.1032 - acc: 0.9806 - val_loss: 0.1211 - val_acc: 0.9719\n",
      "\n",
      "Epoch 00010: val_acc did not improve from 0.99453\n",
      "Epoch 11/40\n",
      "195/195 [==============================] - 4s 18ms/step - loss: 0.0863 - acc: 0.9823 - val_loss: 0.1904 - val_acc: 0.9484\n",
      "\n",
      "Epoch 00011: val_acc did not improve from 0.99453\n",
      "Epoch 12/40\n",
      "195/195 [==============================] - 3s 18ms/step - loss: 0.0914 - acc: 0.9806 - val_loss: 0.0907 - val_acc: 0.9773\n",
      "\n",
      "Epoch 00012: val_acc did not improve from 0.99453\n",
      "Epoch 13/40\n",
      "195/195 [==============================] - 3s 18ms/step - loss: 0.0884 - acc: 0.9817 - val_loss: 0.0481 - val_acc: 0.9945\n",
      "\n",
      "Epoch 00013: val_acc did not improve from 0.99453\n",
      "Epoch 14/40\n",
      "195/195 [==============================] - 3s 18ms/step - loss: 0.0899 - acc: 0.9817 - val_loss: 0.0802 - val_acc: 0.9898\n",
      "\n",
      "Epoch 00014: val_acc did not improve from 0.99453\n",
      "Epoch 15/40\n",
      "195/195 [==============================] - 3s 18ms/step - loss: 0.0830 - acc: 0.9826 - val_loss: 0.0482 - val_acc: 0.9961\n",
      "\n",
      "Epoch 00015: val_acc improved from 0.99453 to 0.99609, saving model to /content/model/image-normalization-model.hdf5\n",
      "Epoch 16/40\n",
      "195/195 [==============================] - 3s 18ms/step - loss: 0.0834 - acc: 0.9825 - val_loss: 0.0609 - val_acc: 0.9906\n",
      "\n",
      "Epoch 00016: val_acc did not improve from 0.99609\n",
      "Epoch 17/40\n",
      "195/195 [==============================] - 3s 18ms/step - loss: 0.0866 - acc: 0.9820 - val_loss: 0.0966 - val_acc: 0.9781\n",
      "\n",
      "Epoch 00017: val_acc did not improve from 0.99609\n",
      "Epoch 18/40\n",
      "195/195 [==============================] - 3s 18ms/step - loss: 0.0828 - acc: 0.9829 - val_loss: 0.1032 - val_acc: 0.9727\n",
      "\n",
      "Epoch 00018: val_acc did not improve from 0.99609\n",
      "Epoch 19/40\n",
      "195/195 [==============================] - 3s 18ms/step - loss: 0.0876 - acc: 0.9813 - val_loss: 0.0991 - val_acc: 0.9758\n",
      "\n",
      "Epoch 00019: val_acc did not improve from 0.99609\n",
      "Epoch 20/40\n",
      "195/195 [==============================] - 3s 18ms/step - loss: 0.0783 - acc: 0.9851 - val_loss: 0.0745 - val_acc: 0.9836\n",
      "\n",
      "Epoch 00020: val_acc did not improve from 0.99609\n",
      "Epoch 21/40\n",
      "195/195 [==============================] - 3s 18ms/step - loss: 0.0813 - acc: 0.9835 - val_loss: 0.0544 - val_acc: 0.9930\n",
      "\n",
      "Epoch 00021: val_acc did not improve from 0.99609\n",
      "Epoch 22/40\n",
      "195/195 [==============================] - 3s 18ms/step - loss: 0.0772 - acc: 0.9843 - val_loss: 0.0390 - val_acc: 0.9992\n",
      "\n",
      "Epoch 00022: val_acc improved from 0.99609 to 0.99922, saving model to /content/model/image-normalization-model.hdf5\n",
      "Epoch 23/40\n",
      "195/195 [==============================] - 3s 18ms/step - loss: 0.0745 - acc: 0.9845 - val_loss: 0.0415 - val_acc: 0.9977\n",
      "\n",
      "Epoch 00023: val_acc did not improve from 0.99922\n",
      "Epoch 24/40\n",
      "195/195 [==============================] - 3s 18ms/step - loss: 0.0787 - acc: 0.9845 - val_loss: 0.0679 - val_acc: 0.9846\n",
      "\n",
      "Epoch 00024: val_acc did not improve from 0.99922\n",
      "Epoch 25/40\n",
      "195/195 [==============================] - 3s 18ms/step - loss: 0.0785 - acc: 0.9829 - val_loss: 0.0972 - val_acc: 0.9805\n",
      "\n",
      "Epoch 00025: val_acc did not improve from 0.99922\n",
      "Epoch 26/40\n",
      "195/195 [==============================] - 3s 18ms/step - loss: 0.0793 - acc: 0.9828 - val_loss: 0.1097 - val_acc: 0.9727\n",
      "\n",
      "Epoch 00026: val_acc did not improve from 0.99922\n",
      "Epoch 27/40\n",
      "195/195 [==============================] - 3s 18ms/step - loss: 0.0740 - acc: 0.9862 - val_loss: 0.1128 - val_acc: 0.9695\n",
      "\n",
      "Epoch 00027: val_acc did not improve from 0.99922\n",
      "Epoch 28/40\n",
      "195/195 [==============================] - 3s 18ms/step - loss: 0.0721 - acc: 0.9853 - val_loss: 0.0676 - val_acc: 0.9852\n",
      "\n",
      "Epoch 00028: val_acc did not improve from 0.99922\n",
      "Epoch 29/40\n",
      "195/195 [==============================] - 4s 18ms/step - loss: 0.0798 - acc: 0.9832 - val_loss: 0.0722 - val_acc: 0.9875\n",
      "\n",
      "Epoch 00029: val_acc did not improve from 0.99922\n",
      "Epoch 30/40\n",
      "195/195 [==============================] - 3s 18ms/step - loss: 0.0723 - acc: 0.9857 - val_loss: 0.0658 - val_acc: 0.9898\n",
      "\n",
      "Epoch 00030: val_acc did not improve from 0.99922\n",
      "Epoch 31/40\n",
      "195/195 [==============================] - 3s 18ms/step - loss: 0.0816 - acc: 0.9822 - val_loss: 0.0463 - val_acc: 0.9938\n",
      "\n",
      "Epoch 00031: val_acc did not improve from 0.99922\n",
      "Epoch 32/40\n",
      "195/195 [==============================] - 3s 18ms/step - loss: 0.0730 - acc: 0.9857 - val_loss: 0.0623 - val_acc: 0.9897\n",
      "\n",
      "Epoch 00032: val_acc did not improve from 0.99922\n",
      "Epoch 33/40\n",
      "195/195 [==============================] - 3s 18ms/step - loss: 0.0755 - acc: 0.9842 - val_loss: 0.0813 - val_acc: 0.9805\n",
      "\n",
      "Epoch 00033: val_acc did not improve from 0.99922\n",
      "Epoch 34/40\n",
      "195/195 [==============================] - 3s 18ms/step - loss: 0.0764 - acc: 0.9851 - val_loss: 0.0969 - val_acc: 0.9797\n",
      "\n",
      "Epoch 00034: val_acc did not improve from 0.99922\n",
      "Epoch 35/40\n",
      "195/195 [==============================] - 3s 18ms/step - loss: 0.0733 - acc: 0.9852 - val_loss: 0.0744 - val_acc: 0.9867\n",
      "\n",
      "Epoch 00035: val_acc did not improve from 0.99922\n",
      "Epoch 36/40\n",
      "195/195 [==============================] - 3s 18ms/step - loss: 0.0801 - acc: 0.9838 - val_loss: 0.0687 - val_acc: 0.9859\n",
      "\n",
      "Epoch 00036: val_acc did not improve from 0.99922\n",
      "Epoch 37/40\n",
      "195/195 [==============================] - 3s 18ms/step - loss: 0.0678 - acc: 0.9869 - val_loss: 0.0586 - val_acc: 0.9898\n",
      "\n",
      "Epoch 00037: val_acc did not improve from 0.99922\n",
      "Epoch 38/40\n",
      "195/195 [==============================] - 3s 18ms/step - loss: 0.0723 - acc: 0.9851 - val_loss: 0.0392 - val_acc: 0.9969\n",
      "\n",
      "Epoch 00038: val_acc did not improve from 0.99922\n",
      "Epoch 39/40\n",
      "195/195 [==============================] - 3s 18ms/step - loss: 0.0752 - acc: 0.9840 - val_loss: 0.0441 - val_acc: 0.9961\n",
      "\n",
      "Epoch 00039: val_acc did not improve from 0.99922\n",
      "Epoch 40/40\n",
      "195/195 [==============================] - 3s 18ms/step - loss: 0.0714 - acc: 0.9863 - val_loss: 0.1368 - val_acc: 0.9735\n",
      "\n",
      "Epoch 00040: val_acc did not improve from 0.99922\n"
     ]
    },
    {
     "data": {
      "text/plain": [
       "<keras.callbacks.History at 0x7fb2bab133c8>"
      ]
     },
     "execution_count": 119,
     "metadata": {
      "tags": []
     },
     "output_type": "execute_result"
    }
   ],
   "source": [
    "# Network will be trained for 40 epoches and after the training, model will have the weights.\n",
    "\n",
    "\n",
    "checkpointer = ModelCheckpoint(filepath='/content/model/image-normalization-model.hdf5', \n",
    "                               monitor='val_acc', verbose=1, save_best_only=True, save_weights_only=False, mode='max', period=1)\n",
    "\n",
    "model.fit_generator(train_iterator,steps_per_epoch=195, callbacks=[checkpointer],validation_data=validation_iterator,validation_steps=10, epochs=40,shuffle=True,initial_epoch=0)\n"
   ]
  },
  {
   "cell_type": "code",
   "execution_count": 0,
   "metadata": {
    "id": "nzrM7fi8JDm_",
    "colab_type": "code",
    "colab": {}
   },
   "outputs": [],
   "source": [
    "# Predicting the numbers for the test data using the trained model\n",
    "\n",
    "model = load_model('/content/model/image-normalization-model.hdf5')\n",
    "\n",
    "#predicted_classes = model.predict_classes(X_test)\n",
    "\n",
    "pred = model.predict(X_test)\n",
    "predicted_classes =np.argmax(pred,axis=1)\n",
    "\n",
    "bwindices = (predicted_classes != y_test)\n",
    "windices = 1*(bwindices)\n",
    "\n",
    "wrong_indices = np.nonzero(windices)[0]\n"
   ]
  },
  {
   "cell_type": "code",
   "execution_count": 121,
   "metadata": {
    "id": "XP-EKPedfaXu",
    "colab_type": "code",
    "colab": {
     "base_uri": "https://localhost:8080/",
     "height": 486.0
    },
    "outputId": "42c79591-077e-4199-ec3d-aa09bf6d4800"
   },
   "outputs": [
    {
     "data": {
      "image/png": "[encoded data removed]",
      "text/plain": [
       "<Figure size 576x576 with 25 Axes>"
      ]
     },
     "metadata": {
      "tags": []
     },
     "output_type": "display_data"
    }
   ],
   "source": [
    "#Displaying first 25 wrongly classified images\n",
    "\n",
    "first25 = wrong_indices[:25]\n",
    "\n",
    "w=10\n",
    "h=10\n",
    "fig=plt.figure(figsize=(8, 8))\n",
    "columns = 5\n",
    "rows = 5\n",
    "for i in range(1, columns*rows +1):\n",
    "    no = first25[i-1]\n",
    "    img = X_test_orig[no]\n",
    "    fig.add_subplot(rows, columns, i)\n",
    "    plt.imshow(img)\n",
    "plt.show()"
   ]
  }
 ],
 "metadata": {
  "colab": {
   "name": "Batch Normalization and Regularization",
   "version": "0.3.2",
   "provenance": [],
   "collapsed_sections": []
  },
  "kernelspec": {
   "name": "python3",
   "display_name": "Python 3"
  },
  "accelerator": "GPU"
 },
 "nbformat": 4,
 "nbformat_minor": 0
}
