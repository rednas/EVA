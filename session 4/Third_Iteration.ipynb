{
  "nbformat": 4,
  "nbformat_minor": 0,
  "metadata": {
    "colab": {
      "name": "Third Iteration",
      "version": "0.3.2",
      "provenance": [],
      "collapsed_sections": []
    },
    "kernelspec": {
      "name": "python3",
      "display_name": "Python 3"
    },
    "accelerator": "GPU"
  },
  "cells": [
    {
      "cell_type": "code",
      "metadata": {
        "id": "3m3w1Cw49Zkt",
        "colab_type": "code",
        "colab": {}
      },
      "source": [
        "                                                          # Header\n",
        "  \n",
        "# In the second iteration, the validation accuracy is not getting closer to the training accuracy. \n",
        "# Also, the number of trainable parameters are 36.5k. The goal is to reduce the trainable parameters to less than 15k\n",
        "\n",
        "# To address these issues, the following is being incorporated\n",
        "\n",
        "# 1. Reducing the number of kernals keeping the network architecture in tact.\n",
        "#    The number of kernals at the last layer of each convolution block is set to 32\n",
        "\n",
        "# 2. Introducing the drop out at the transision block\n",
        "#    Drop out is introduced only at the trasistion block after 1X1 convolution.\n",
        "\n",
        "\n",
        "# https://keras.io/\n",
        "\n",
        "#Statement start with \"!\" is a command in Colab.\n",
        "#The following command will quitly install keras python module from python packaging index\n",
        "#After installing keras, it is being imported\n",
        "\n",
        "!pip install -q keras\n",
        "import keras"
      ],
      "execution_count": 0,
      "outputs": []
    },
    {
      "cell_type": "code",
      "metadata": {
        "id": "Eso6UHE080D4",
        "colab_type": "code",
        "colab": {}
      },
      "source": [
        "#numpy is imported with \"np\" as kind of alias. \n",
        "#From here on we can use np instead of numpy.\n",
        "\n",
        "import numpy as np\n",
        "\n",
        "#The following would import relevant models and layer. \n",
        "#Also, we have imported the mnist data set.\n",
        "\n",
        "from keras.models import Sequential\n",
        "from keras.layers import Dense, Dropout, Activation, Flatten, Add\n",
        "from keras.layers import Convolution2D, MaxPooling2D\n",
        "from keras.utils import np_utils\n",
        "\n",
        "from keras.datasets import mnist"
      ],
      "execution_count": 0,
      "outputs": []
    },
    {
      "cell_type": "code",
      "metadata": {
        "id": "7eRM0QWN83PV",
        "colab_type": "code",
        "colab": {}
      },
      "source": [
        "# Load MNIST data set into training data and test set data\n",
        "# There are 70,000 images with their labels in MNIST dataset.\n",
        "# Randomly, 60k will be loaded into X_train and their corresponding labels y_train.\n",
        "# Remaining 10k images will be loaded into X_test and their labels y_test.\n",
        "\n",
        "(X_train, y_train), (X_test, y_test) = mnist.load_data()"
      ],
      "execution_count": 0,
      "outputs": []
    },
    {
      "cell_type": "code",
      "metadata": {
        "id": "4a4Be72j8-ZC",
        "colab_type": "code",
        "outputId": "848ba9d5-e55d-44bb-8058-c03e41a815c7",
        "colab": {
          "base_uri": "https://localhost:8080/",
          "height": 304
        }
      },
      "source": [
        "#Printing the shape of Training data set\n",
        "#From this print statement, there are 60,000 images in X train of size 28X28.\n",
        "#Correspoindingly, y_train is a column matrics of size 60000\n",
        "\n",
        "print (X_train.shape)\n",
        "\n",
        "\n",
        "# Using plt.imshow method from matplot library, the first image is printed. y[0] will be have a value of 5.\n",
        "from matplotlib import pyplot as plt\n",
        "%matplotlib inline\n",
        "plt.imshow(X_train[0])"
      ],
      "execution_count": 6,
      "outputs": [
        {
          "output_type": "stream",
          "text": [
            "(60000, 28, 28)\n"
          ],
          "name": "stdout"
        },
        {
          "output_type": "execute_result",
          "data": {
            "text/plain": [
              "<matplotlib.image.AxesImage at 0x7f267ad05860>"
            ]
          },
          "metadata": {
            "tags": []
          },
          "execution_count": 6
        },
        {
          "output_type": "display_data",
          "data": {
            "image/png": "[encoded data removed]",
            "text/plain": [
              "<Figure size 432x288 with 1 Axes>"
            ]
          },
          "metadata": {
            "tags": []
          }
        }
      ]
    },
    {
      "cell_type": "code",
      "metadata": {
        "id": "dkmprriw9AnZ",
        "colab_type": "code",
        "colab": {}
      },
      "source": [
        "#Convert the images in training dataset and test set into multidimentional arrays of their pixel intensity values.\n",
        "\n",
        "X_train = X_train.reshape(X_train.shape[0], 28, 28,1)\n",
        "X_test = X_test.reshape(X_test.shape[0], 28, 28,1)"
      ],
      "execution_count": 0,
      "outputs": []
    },
    {
      "cell_type": "code",
      "metadata": {
        "id": "X2m4YS4E9CRh",
        "colab_type": "code",
        "colab": {}
      },
      "source": [
        "#Convert the pixel intensity values into floating point value and normalize the pixel intensities by dividing with 255. Max value of pixel intensity is 255.\n",
        "\n",
        "X_train = X_train.astype('float32')\n",
        "X_test = X_test.astype('float32')\n",
        "X_train /= 255\n",
        "X_test /= 255"
      ],
      "execution_count": 0,
      "outputs": []
    },
    {
      "cell_type": "code",
      "metadata": {
        "id": "0Mn0vAYD9DvB",
        "colab_type": "code",
        "outputId": "e370b2ed-ff78-4573-a457-0386a32f2c57",
        "colab": {
          "base_uri": "https://localhost:8080/",
          "height": 35
        }
      },
      "source": [
        "# Convert 1-dimensional class arrays to 10-dimensional class matrices\n",
        "\n",
        "y_train[:10]"
      ],
      "execution_count": 9,
      "outputs": [
        {
          "output_type": "execute_result",
          "data": {
            "text/plain": [
              "array([5, 0, 4, 1, 9, 2, 1, 3, 1, 4], dtype=uint8)"
            ]
          },
          "metadata": {
            "tags": []
          },
          "execution_count": 9
        }
      ]
    },
    {
      "cell_type": "code",
      "metadata": {
        "id": "ZG8JiXR39FHC",
        "colab_type": "code",
        "colab": {}
      },
      "source": [
        "# Convert 1-dimensional class arrays to 10-dimensional class matrices\n",
        "\n",
        "# This will convert the numbers in the Y_train and y_test into column metrics of size 10. Element corresponding to the number will have value 1 and all other elements will be 0.\n",
        "# For example, 5 will be represented by the column matrics [0,0,0,0,1,0,0,0,0,0]\n",
        "\n",
        "\n",
        "Y_train = np_utils.to_categorical(y_train, 10)\n",
        "Y_test = np_utils.to_categorical(y_test, 10)"
      ],
      "execution_count": 0,
      "outputs": []
    },
    {
      "cell_type": "code",
      "metadata": {
        "id": "fYlFRvKS9HMB",
        "colab_type": "code",
        "outputId": "06084e9f-db9b-4f41-b416-3042c31fc333",
        "colab": {
          "base_uri": "https://localhost:8080/",
          "height": 195
        }
      },
      "source": [
        "#Print first 10 elements in the Y_train after converting into catogorical matrices.\n",
        "\n",
        "Y_train[:10]\n"
      ],
      "execution_count": 11,
      "outputs": [
        {
          "output_type": "execute_result",
          "data": {
            "text/plain": [
              "array([[0., 0., 0., 0., 0., 1., 0., 0., 0., 0.],\n",
              "       [1., 0., 0., 0., 0., 0., 0., 0., 0., 0.],\n",
              "       [0., 0., 0., 0., 1., 0., 0., 0., 0., 0.],\n",
              "       [0., 1., 0., 0., 0., 0., 0., 0., 0., 0.],\n",
              "       [0., 0., 0., 0., 0., 0., 0., 0., 0., 1.],\n",
              "       [0., 0., 1., 0., 0., 0., 0., 0., 0., 0.],\n",
              "       [0., 1., 0., 0., 0., 0., 0., 0., 0., 0.],\n",
              "       [0., 0., 0., 1., 0., 0., 0., 0., 0., 0.],\n",
              "       [0., 1., 0., 0., 0., 0., 0., 0., 0., 0.],\n",
              "       [0., 0., 0., 0., 1., 0., 0., 0., 0., 0.]], dtype=float32)"
            ]
          },
          "metadata": {
            "tags": []
          },
          "execution_count": 11
        }
      ]
    },
    {
      "cell_type": "code",
      "metadata": {
        "id": "osKqT73Q9JJB",
        "colab_type": "code",
        "outputId": "9201393c-af23-4872-e5f9-8a59043bd730",
        "colab": {
          "base_uri": "https://localhost:8080/",
          "height": 250
        }
      },
      "source": [
        "\n",
        "from keras.layers import Activation\n",
        "model = Sequential()\n",
        "\n",
        " \n",
        "model.add(Convolution2D(8, 3, 3, activation='relu', input_shape=(28,28,1))) # 26,3\n",
        "\n",
        "model.add(Convolution2D(16, 3, 3, activation='relu')) # 24,5\n",
        "model.add(Convolution2D(32, 3, 3, activation='relu')) # 22,7\n",
        "\n",
        "model.add(MaxPooling2D(pool_size=(2, 2))) # 11,14\n",
        "model.add(Convolution2D(8, 1, 1, activation='relu')) # 11,14\n",
        "model.add(Dropout(0.2))\n",
        "\n",
        "model.add(Convolution2D(8, 3, 3, activation='relu')) # 9,16\n",
        "model.add(Convolution2D(32, 3, 3, activation='relu')) # 7,18\n",
        "\n",
        "model.add(Convolution2D(10, 1, activation='relu')) #7,18\n",
        "model.add(Dropout(0.2))\n",
        "model.add(Convolution2D(10, 7))#1,24\n",
        "model.add(Flatten())\n",
        "model.add(Activation('softmax'))\n"
      ],
      "execution_count": 13,
      "outputs": [
        {
          "output_type": "stream",
          "text": [
            "/usr/local/lib/python3.6/dist-packages/ipykernel_launcher.py:6: UserWarning: Update your `Conv2D` call to the Keras 2 API: `Conv2D(8, (3, 3), activation=\"relu\", input_shape=(28, 28, 1...)`\n",
            "  \n",
            "/usr/local/lib/python3.6/dist-packages/ipykernel_launcher.py:8: UserWarning: Update your `Conv2D` call to the Keras 2 API: `Conv2D(16, (3, 3), activation=\"relu\")`\n",
            "  \n",
            "/usr/local/lib/python3.6/dist-packages/ipykernel_launcher.py:9: UserWarning: Update your `Conv2D` call to the Keras 2 API: `Conv2D(32, (3, 3), activation=\"relu\")`\n",
            "  if __name__ == '__main__':\n",
            "/usr/local/lib/python3.6/dist-packages/ipykernel_launcher.py:12: UserWarning: Update your `Conv2D` call to the Keras 2 API: `Conv2D(8, (1, 1), activation=\"relu\")`\n",
            "  if sys.path[0] == '':\n",
            "/usr/local/lib/python3.6/dist-packages/ipykernel_launcher.py:15: UserWarning: Update your `Conv2D` call to the Keras 2 API: `Conv2D(8, (3, 3), activation=\"relu\")`\n",
            "  from ipykernel import kernelapp as app\n",
            "/usr/local/lib/python3.6/dist-packages/ipykernel_launcher.py:16: UserWarning: Update your `Conv2D` call to the Keras 2 API: `Conv2D(32, (3, 3), activation=\"relu\")`\n",
            "  app.launch_new_instance()\n"
          ],
          "name": "stderr"
        }
      ]
    },
    {
      "cell_type": "code",
      "metadata": {
        "id": "TzdAYg1k9K7Z",
        "colab_type": "code",
        "outputId": "b6b7fb37-e70b-4e56-b34a-f55e851d8c46",
        "colab": {
          "base_uri": "https://localhost:8080/",
          "height": 604
        }
      },
      "source": [
        "model.summary()"
      ],
      "execution_count": 15,
      "outputs": [
        {
          "output_type": "stream",
          "text": [
            "_________________________________________________________________\n",
            "Layer (type)                 Output Shape              Param #   \n",
            "=================================================================\n",
            "conv2d_9 (Conv2D)            (None, 26, 26, 8)         80        \n",
            "_________________________________________________________________\n",
            "conv2d_10 (Conv2D)           (None, 24, 24, 16)        1168      \n",
            "_________________________________________________________________\n",
            "conv2d_11 (Conv2D)           (None, 22, 22, 32)        4640      \n",
            "_________________________________________________________________\n",
            "max_pooling2d_2 (MaxPooling2 (None, 11, 11, 32)        0         \n",
            "_________________________________________________________________\n",
            "conv2d_12 (Conv2D)           (None, 11, 11, 8)         264       \n",
            "_________________________________________________________________\n",
            "dropout_3 (Dropout)          (None, 11, 11, 8)         0         \n",
            "_________________________________________________________________\n",
            "conv2d_13 (Conv2D)           (None, 9, 9, 8)           584       \n",
            "_________________________________________________________________\n",
            "conv2d_14 (Conv2D)           (None, 7, 7, 32)          2336      \n",
            "_________________________________________________________________\n",
            "conv2d_15 (Conv2D)           (None, 7, 7, 10)          330       \n",
            "_________________________________________________________________\n",
            "dropout_4 (Dropout)          (None, 7, 7, 10)          0         \n",
            "_________________________________________________________________\n",
            "conv2d_16 (Conv2D)           (None, 1, 1, 10)          4910      \n",
            "_________________________________________________________________\n",
            "flatten_2 (Flatten)          (None, 10)                0         \n",
            "_________________________________________________________________\n",
            "activation_2 (Activation)    (None, 10)                0         \n",
            "=================================================================\n",
            "Total params: 14,312\n",
            "Trainable params: 14,312\n",
            "Non-trainable params: 0\n",
            "_________________________________________________________________\n"
          ],
          "name": "stdout"
        }
      ]
    },
    {
      "cell_type": "code",
      "metadata": {
        "id": "Zp6SuGrL9M3h",
        "colab_type": "code",
        "colab": {}
      },
      "source": [
        "model.compile(loss='categorical_crossentropy',\n",
        "             optimizer='adam',\n",
        "             metrics=['accuracy'])"
      ],
      "execution_count": 0,
      "outputs": []
    },
    {
      "cell_type": "code",
      "metadata": {
        "id": "4xWoKhPY9Of5",
        "colab_type": "code",
        "outputId": "7642d65f-2bbe-40ca-c544-20f795567594",
        "colab": {
          "base_uri": "https://localhost:8080/",
          "height": 2295
        }
      },
      "source": [
        "# 60k images training images will be trained in batches of 32 images at a time. \n",
        "# One epoch consists of (60k/32 = 1875) forward propagations followed by one backward propagation\n",
        "# Network will be trained for 10 epoches and after the training, model will have the weights.\n",
        "\n",
        "\n",
        "model.fit(X_train, Y_train, batch_size=32, nb_epoch=60, verbose=1,validation_data=(X_test, Y_test))"
      ],
      "execution_count": 17,
      "outputs": [
        {
          "output_type": "stream",
          "text": [
            "WARNING:tensorflow:From /usr/local/lib/python3.6/dist-packages/tensorflow/python/ops/math_ops.py:3066: to_int32 (from tensorflow.python.ops.math_ops) is deprecated and will be removed in a future version.\n",
            "Instructions for updating:\n",
            "Use tf.cast instead.\n"
          ],
          "name": "stdout"
        },
        {
          "output_type": "stream",
          "text": [
            "/usr/local/lib/python3.6/dist-packages/ipykernel_launcher.py:3: UserWarning: The `nb_epoch` argument in `fit` has been renamed `epochs`.\n",
            "  This is separate from the ipykernel package so we can avoid doing imports until\n"
          ],
          "name": "stderr"
        },
        {
          "output_type": "stream",
          "text": [
            "Train on 60000 samples, validate on 10000 samples\n",
            "Epoch 1/60\n",
            "60000/60000 [==============================] - 16s 262us/step - loss: 0.2991 - acc: 0.9034 - val_loss: 0.0824 - val_acc: 0.9750\n",
            "Epoch 2/60\n",
            "60000/60000 [==============================] - 14s 231us/step - loss: 0.1070 - acc: 0.9677 - val_loss: 0.0576 - val_acc: 0.9837\n",
            "Epoch 3/60\n",
            "60000/60000 [==============================] - 13s 214us/step - loss: 0.0814 - acc: 0.9746 - val_loss: 0.0541 - val_acc: 0.9834\n",
            "Epoch 4/60\n",
            "60000/60000 [==============================] - 13s 214us/step - loss: 0.0697 - acc: 0.9783 - val_loss: 0.0469 - val_acc: 0.9845\n",
            "Epoch 5/60\n",
            "60000/60000 [==============================] - 13s 214us/step - loss: 0.0616 - acc: 0.9814 - val_loss: 0.0393 - val_acc: 0.9879\n",
            "Epoch 6/60\n",
            "60000/60000 [==============================] - 13s 212us/step - loss: 0.0548 - acc: 0.9828 - val_loss: 0.0387 - val_acc: 0.9871\n",
            "Epoch 7/60\n",
            "60000/60000 [==============================] - 13s 213us/step - loss: 0.0517 - acc: 0.9837 - val_loss: 0.0509 - val_acc: 0.9845\n",
            "Epoch 8/60\n",
            "60000/60000 [==============================] - 14s 227us/step - loss: 0.0472 - acc: 0.9852 - val_loss: 0.0381 - val_acc: 0.9882\n",
            "Epoch 9/60\n",
            "60000/60000 [==============================] - 13s 216us/step - loss: 0.0442 - acc: 0.9861 - val_loss: 0.0367 - val_acc: 0.9881\n",
            "Epoch 10/60\n",
            "60000/60000 [==============================] - 13s 212us/step - loss: 0.0420 - acc: 0.9867 - val_loss: 0.0323 - val_acc: 0.9892\n",
            "Epoch 11/60\n",
            "60000/60000 [==============================] - 13s 211us/step - loss: 0.0399 - acc: 0.9870 - val_loss: 0.0306 - val_acc: 0.9894\n",
            "Epoch 12/60\n",
            "60000/60000 [==============================] - 13s 211us/step - loss: 0.0372 - acc: 0.9875 - val_loss: 0.0300 - val_acc: 0.9900\n",
            "Epoch 13/60\n",
            "60000/60000 [==============================] - 13s 210us/step - loss: 0.0364 - acc: 0.9881 - val_loss: 0.0293 - val_acc: 0.9902\n",
            "Epoch 14/60\n",
            "60000/60000 [==============================] - 14s 226us/step - loss: 0.0352 - acc: 0.9886 - val_loss: 0.0268 - val_acc: 0.9916\n",
            "Epoch 15/60\n",
            "60000/60000 [==============================] - 13s 220us/step - loss: 0.0339 - acc: 0.9889 - val_loss: 0.0334 - val_acc: 0.9897\n",
            "Epoch 16/60\n",
            "60000/60000 [==============================] - 13s 209us/step - loss: 0.0331 - acc: 0.9894 - val_loss: 0.0258 - val_acc: 0.9922\n",
            "Epoch 17/60\n",
            "60000/60000 [==============================] - 13s 210us/step - loss: 0.0306 - acc: 0.9899 - val_loss: 0.0253 - val_acc: 0.9916\n",
            "Epoch 18/60\n",
            "60000/60000 [==============================] - 13s 210us/step - loss: 0.0307 - acc: 0.9900 - val_loss: 0.0267 - val_acc: 0.9917\n",
            "Epoch 19/60\n",
            "60000/60000 [==============================] - 13s 210us/step - loss: 0.0312 - acc: 0.9898 - val_loss: 0.0332 - val_acc: 0.9904\n",
            "Epoch 20/60\n",
            "60000/60000 [==============================] - 13s 212us/step - loss: 0.0299 - acc: 0.9899 - val_loss: 0.0280 - val_acc: 0.9920\n",
            "Epoch 21/60\n",
            "60000/60000 [==============================] - 14s 227us/step - loss: 0.0282 - acc: 0.9905 - val_loss: 0.0267 - val_acc: 0.9920\n",
            "Epoch 22/60\n",
            "60000/60000 [==============================] - 13s 209us/step - loss: 0.0287 - acc: 0.9907 - val_loss: 0.0273 - val_acc: 0.9908\n",
            "Epoch 23/60\n",
            "60000/60000 [==============================] - 13s 219us/step - loss: 0.0260 - acc: 0.9918 - val_loss: 0.0256 - val_acc: 0.9924\n",
            "Epoch 24/60\n",
            "60000/60000 [==============================] - 14s 225us/step - loss: 0.0276 - acc: 0.9913 - val_loss: 0.0326 - val_acc: 0.9908\n",
            "Epoch 25/60\n",
            "60000/60000 [==============================] - 13s 208us/step - loss: 0.0264 - acc: 0.9917 - val_loss: 0.0292 - val_acc: 0.9917\n",
            "Epoch 26/60\n",
            "60000/60000 [==============================] - 13s 209us/step - loss: 0.0248 - acc: 0.9919 - val_loss: 0.0271 - val_acc: 0.9918\n",
            "Epoch 27/60\n",
            "60000/60000 [==============================] - 14s 228us/step - loss: 0.0255 - acc: 0.9919 - val_loss: 0.0274 - val_acc: 0.9919\n",
            "Epoch 28/60\n",
            "60000/60000 [==============================] - 13s 208us/step - loss: 0.0255 - acc: 0.9917 - val_loss: 0.0308 - val_acc: 0.9914\n",
            "Epoch 29/60\n",
            "60000/60000 [==============================] - 12s 208us/step - loss: 0.0258 - acc: 0.9909 - val_loss: 0.0269 - val_acc: 0.9928\n",
            "Epoch 30/60\n",
            "60000/60000 [==============================] - 13s 208us/step - loss: 0.0236 - acc: 0.9919 - val_loss: 0.0297 - val_acc: 0.9909\n",
            "Epoch 31/60\n",
            "60000/60000 [==============================] - 13s 209us/step - loss: 0.0244 - acc: 0.9916 - val_loss: 0.0272 - val_acc: 0.9918\n",
            "Epoch 32/60\n",
            "60000/60000 [==============================] - 13s 208us/step - loss: 0.0224 - acc: 0.9925 - val_loss: 0.0280 - val_acc: 0.9923\n",
            "Epoch 33/60\n",
            "60000/60000 [==============================] - 13s 223us/step - loss: 0.0216 - acc: 0.9924 - val_loss: 0.0305 - val_acc: 0.9920\n",
            "Epoch 34/60\n",
            "60000/60000 [==============================] - 13s 214us/step - loss: 0.0234 - acc: 0.9922 - val_loss: 0.0289 - val_acc: 0.9911\n",
            "Epoch 35/60\n",
            "60000/60000 [==============================] - 12s 208us/step - loss: 0.0237 - acc: 0.9920 - val_loss: 0.0312 - val_acc: 0.9908\n",
            "Epoch 36/60\n",
            "60000/60000 [==============================] - 13s 208us/step - loss: 0.0221 - acc: 0.9925 - val_loss: 0.0324 - val_acc: 0.9901\n",
            "Epoch 37/60\n",
            "60000/60000 [==============================] - 13s 209us/step - loss: 0.0221 - acc: 0.9926 - val_loss: 0.0275 - val_acc: 0.9921\n",
            "Epoch 38/60\n",
            "60000/60000 [==============================] - 13s 220us/step - loss: 0.0216 - acc: 0.9927 - val_loss: 0.0301 - val_acc: 0.9919\n",
            "Epoch 39/60\n",
            "60000/60000 [==============================] - 13s 215us/step - loss: 0.0212 - acc: 0.9929 - val_loss: 0.0270 - val_acc: 0.9919\n",
            "Epoch 40/60\n",
            "60000/60000 [==============================] - 13s 222us/step - loss: 0.0212 - acc: 0.9933 - val_loss: 0.0308 - val_acc: 0.9906\n",
            "Epoch 41/60\n",
            "60000/60000 [==============================] - 12s 208us/step - loss: 0.0205 - acc: 0.9931 - val_loss: 0.0371 - val_acc: 0.9893\n",
            "Epoch 42/60\n",
            "60000/60000 [==============================] - 13s 208us/step - loss: 0.0210 - acc: 0.9928 - val_loss: 0.0288 - val_acc: 0.9929\n",
            "Epoch 43/60\n",
            "60000/60000 [==============================] - 13s 208us/step - loss: 0.0201 - acc: 0.9932 - val_loss: 0.0266 - val_acc: 0.9924\n",
            "Epoch 44/60\n",
            "60000/60000 [==============================] - 12s 207us/step - loss: 0.0212 - acc: 0.9931 - val_loss: 0.0295 - val_acc: 0.9920\n",
            "Epoch 45/60\n",
            "60000/60000 [==============================] - 13s 208us/step - loss: 0.0193 - acc: 0.9936 - val_loss: 0.0276 - val_acc: 0.9931\n",
            "Epoch 46/60\n",
            "60000/60000 [==============================] - 14s 228us/step - loss: 0.0182 - acc: 0.9940 - val_loss: 0.0307 - val_acc: 0.9920\n",
            "Epoch 47/60\n",
            "60000/60000 [==============================] - 12s 208us/step - loss: 0.0194 - acc: 0.9937 - val_loss: 0.0278 - val_acc: 0.9931\n",
            "Epoch 48/60\n",
            "60000/60000 [==============================] - 14s 233us/step - loss: 0.0197 - acc: 0.9937 - val_loss: 0.0311 - val_acc: 0.9913\n",
            "Epoch 49/60\n",
            "60000/60000 [==============================] - 12s 208us/step - loss: 0.0186 - acc: 0.9939 - val_loss: 0.0292 - val_acc: 0.9917\n",
            "Epoch 50/60\n",
            "60000/60000 [==============================] - 12s 208us/step - loss: 0.0184 - acc: 0.9940 - val_loss: 0.0300 - val_acc: 0.9922\n",
            "Epoch 51/60\n",
            "60000/60000 [==============================] - 12s 207us/step - loss: 0.0199 - acc: 0.9933 - val_loss: 0.0330 - val_acc: 0.9924\n",
            "Epoch 52/60\n",
            "60000/60000 [==============================] - 14s 228us/step - loss: 0.0187 - acc: 0.9937 - val_loss: 0.0270 - val_acc: 0.9925\n",
            "Epoch 53/60\n",
            "60000/60000 [==============================] - 13s 209us/step - loss: 0.0188 - acc: 0.9941 - val_loss: 0.0303 - val_acc: 0.9923\n",
            "Epoch 54/60\n",
            "60000/60000 [==============================] - 12s 208us/step - loss: 0.0183 - acc: 0.9936 - val_loss: 0.0290 - val_acc: 0.9929\n",
            "Epoch 55/60\n",
            "60000/60000 [==============================] - 12s 207us/step - loss: 0.0170 - acc: 0.9939 - val_loss: 0.0335 - val_acc: 0.9921\n",
            "Epoch 56/60\n",
            "60000/60000 [==============================] - 12s 207us/step - loss: 0.0183 - acc: 0.9940 - val_loss: 0.0319 - val_acc: 0.9919\n",
            "Epoch 57/60\n",
            "60000/60000 [==============================] - 13s 208us/step - loss: 0.0183 - acc: 0.9937 - val_loss: 0.0293 - val_acc: 0.9912\n",
            "Epoch 58/60\n",
            "60000/60000 [==============================] - 13s 218us/step - loss: 0.0185 - acc: 0.9942 - val_loss: 0.0326 - val_acc: 0.9910\n",
            "Epoch 59/60\n",
            "60000/60000 [==============================] - 13s 219us/step - loss: 0.0171 - acc: 0.9944 - val_loss: 0.0326 - val_acc: 0.9907\n",
            "Epoch 60/60\n",
            "60000/60000 [==============================] - 12s 208us/step - loss: 0.0168 - acc: 0.9945 - val_loss: 0.0353 - val_acc: 0.9912\n"
          ],
          "name": "stdout"
        },
        {
          "output_type": "execute_result",
          "data": {
            "text/plain": [
              "<keras.callbacks.History at 0x7f267a148240>"
            ]
          },
          "metadata": {
            "tags": []
          },
          "execution_count": 17
        }
      ]
    },
    {
      "cell_type": "code",
      "metadata": {
        "id": "AtsH-lLk-eLb",
        "colab_type": "code",
        "colab": {}
      },
      "source": [
        "# For each of 10k images in the testset, predict the labels and check how many of them are matching with Y_test. Based this arrive at a score.\n",
        "\n",
        "\n",
        "score = model.evaluate(X_test, Y_test, verbose=0)"
      ],
      "execution_count": 0,
      "outputs": []
    },
    {
      "cell_type": "code",
      "metadata": {
        "id": "mkX8JMv79q9r",
        "colab_type": "code",
        "outputId": "3f6599c9-fca1-4ad3-df8b-3e62013534fe",
        "colab": {
          "base_uri": "https://localhost:8080/",
          "height": 35
        }
      },
      "source": [
        "#Print the score\n",
        "\n",
        "print(score)"
      ],
      "execution_count": 0,
      "outputs": [
        {
          "output_type": "stream",
          "text": [
            "[0.04383292893074103, 0.9912]\n"
          ],
          "name": "stdout"
        }
      ]
    }
  ]
}