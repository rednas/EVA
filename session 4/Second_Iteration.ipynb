{
  "nbformat": 4,
  "nbformat_minor": 0,
  "metadata": {
    "colab": {
      "name": "Second Iteration",
      "version": "0.3.2",
      "provenance": [],
      "collapsed_sections": []
    },
    "kernelspec": {
      "name": "python3",
      "display_name": "Python 3"
    },
    "accelerator": "GPU"
  },
  "cells": [
    {
      "cell_type": "code",
      "metadata": {
        "id": "3m3w1Cw49Zkt",
        "colab_type": "code",
        "outputId": "6d324ac5-119b-490a-a869-e88baa11d517",
        "colab": {
          "base_uri": "https://localhost:8080/",
          "height": 35
        }
      },
      "source": [
        "                                                          # Header\n",
        "  \n",
        "# In the first iteration, starting from 7x7 resolution, doing convolution with 3x3 will not cover all the pixels equal number of times. \n",
        "# Also, the number of trainable parameters are 128k. The goal is to reduce the trainable parameters to less than 15k\n",
        "\n",
        "# To address these issues, the following is being incorporated\n",
        "\n",
        "# 1. Reducing the number of kernals keeping the network architecture in tact.\n",
        "#    The number of kernals at the last layer of each convolution block is set to 64\n",
        "\n",
        "# 2. Introducing convolution with 7x7 kernel after reaching 7x7 resolution.\n",
        "#    Activation fuction is avoided at this layer to ensure proper functioning of softmax.\n",
        "\n",
        "\n",
        "\n",
        "# https://keras.io/\n",
        "\n",
        "#Statement start with \"!\" is a command in Colab.\n",
        "#The following command will quitly install keras python module from python packaging index\n",
        "#After installing keras, it is being imported\n",
        "\n",
        "!pip install -q keras\n",
        "import keras"
      ],
      "execution_count": 1,
      "outputs": [
        {
          "output_type": "stream",
          "text": [
            "Using TensorFlow backend.\n"
          ],
          "name": "stderr"
        }
      ]
    },
    {
      "cell_type": "code",
      "metadata": {
        "id": "Eso6UHE080D4",
        "colab_type": "code",
        "colab": {}
      },
      "source": [
        "#numpy is imported with \"np\" as kind of alias. \n",
        "#From here on we can use np instead of numpy.\n",
        "\n",
        "import numpy as np\n",
        "\n",
        "#The following would import relevant models and layer. \n",
        "#Also, we have imported the mnist data set.\n",
        "\n",
        "from keras.models import Sequential\n",
        "from keras.layers import Dense, Dropout, Activation, Flatten, Add\n",
        "from keras.layers import Convolution2D, MaxPooling2D\n",
        "from keras.utils import np_utils\n",
        "\n",
        "from keras.datasets import mnist"
      ],
      "execution_count": 0,
      "outputs": []
    },
    {
      "cell_type": "code",
      "metadata": {
        "id": "7eRM0QWN83PV",
        "colab_type": "code",
        "outputId": "4472d630-13da-4ff9-c52c-7f5af16aff2e",
        "colab": {
          "base_uri": "https://localhost:8080/",
          "height": 52
        }
      },
      "source": [
        "# Load MNIST data set into training data and test set data\n",
        "# There are 70,000 images with their labels in MNIST dataset.\n",
        "# Randomly, 60k will be loaded into X_train and their corresponding labels y_train.\n",
        "# Remaining 10k images will be loaded into X_test and their labels y_test.\n",
        "\n",
        "(X_train, y_train), (X_test, y_test) = mnist.load_data()"
      ],
      "execution_count": 3,
      "outputs": [
        {
          "output_type": "stream",
          "text": [
            "Downloading data from https://s3.amazonaws.com/img-datasets/mnist.npz\n",
            "11493376/11490434 [==============================] - 1s 0us/step\n"
          ],
          "name": "stdout"
        }
      ]
    },
    {
      "cell_type": "code",
      "metadata": {
        "id": "4a4Be72j8-ZC",
        "colab_type": "code",
        "outputId": "01aff742-99b1-4fa6-c45b-45ea291b1722",
        "colab": {
          "base_uri": "https://localhost:8080/",
          "height": 304
        }
      },
      "source": [
        "#Printing the shape of Training data set\n",
        "#From this print statement, there are 60,000 images in X train of size 28X28.\n",
        "#Correspoindingly, y_train is a column matrics of size 60000\n",
        "\n",
        "print (X_train.shape)\n",
        "\n",
        "\n",
        "# Using plt.imshow method from matplot library, the first image is printed. y[0] will be have a value of 5.\n",
        "from matplotlib import pyplot as plt\n",
        "%matplotlib inline\n",
        "plt.imshow(X_train[0])"
      ],
      "execution_count": 4,
      "outputs": [
        {
          "output_type": "stream",
          "text": [
            "(60000, 28, 28)\n"
          ],
          "name": "stdout"
        },
        {
          "output_type": "execute_result",
          "data": {
            "text/plain": [
              "<matplotlib.image.AxesImage at 0x7fddf83285f8>"
            ]
          },
          "metadata": {
            "tags": []
          },
          "execution_count": 4
        },
        {
          "output_type": "display_data",
          "data": {
            "image/png": "[encoded data removed]",
            "text/plain": [
              "<Figure size 432x288 with 1 Axes>"
            ]
          },
          "metadata": {
            "tags": []
          }
        }
      ]
    },
    {
      "cell_type": "code",
      "metadata": {
        "id": "dkmprriw9AnZ",
        "colab_type": "code",
        "colab": {}
      },
      "source": [
        "#Convert the images in training dataset and test set into multidimentional arrays of their pixel intensity values.\n",
        "\n",
        "X_train = X_train.reshape(X_train.shape[0], 28, 28,1)\n",
        "X_test = X_test.reshape(X_test.shape[0], 28, 28,1)"
      ],
      "execution_count": 0,
      "outputs": []
    },
    {
      "cell_type": "code",
      "metadata": {
        "id": "X2m4YS4E9CRh",
        "colab_type": "code",
        "colab": {}
      },
      "source": [
        "#Convert the pixel intensity values into floating point value and normalize the pixel intensities by dividing with 255. Max value of pixel intensity is 255.\n",
        "\n",
        "X_train = X_train.astype('float32')\n",
        "X_test = X_test.astype('float32')\n",
        "X_train /= 255\n",
        "X_test /= 255"
      ],
      "execution_count": 0,
      "outputs": []
    },
    {
      "cell_type": "code",
      "metadata": {
        "id": "0Mn0vAYD9DvB",
        "colab_type": "code",
        "outputId": "7442f631-c087-4a3f-e891-352594b7d1f2",
        "colab": {
          "base_uri": "https://localhost:8080/",
          "height": 35
        }
      },
      "source": [
        "# Convert 1-dimensional class arrays to 10-dimensional class matrices\n",
        "\n",
        "y_train[:10]"
      ],
      "execution_count": 8,
      "outputs": [
        {
          "output_type": "execute_result",
          "data": {
            "text/plain": [
              "array([5, 0, 4, 1, 9, 2, 1, 3, 1, 4], dtype=uint8)"
            ]
          },
          "metadata": {
            "tags": []
          },
          "execution_count": 8
        }
      ]
    },
    {
      "cell_type": "code",
      "metadata": {
        "id": "ZG8JiXR39FHC",
        "colab_type": "code",
        "colab": {}
      },
      "source": [
        "# Convert 1-dimensional class arrays to 10-dimensional class matrices\n",
        "\n",
        "# This will convert the numbers in the Y_train and y_test into column metrics of size 10. Element corresponding to the number will have value 1 and all other elements will be 0.\n",
        "# For example, 5 will be represented by the column matrics [0,0,0,0,1,0,0,0,0,0]\n",
        "\n",
        "\n",
        "Y_train = np_utils.to_categorical(y_train, 10)\n",
        "Y_test = np_utils.to_categorical(y_test, 10)"
      ],
      "execution_count": 0,
      "outputs": []
    },
    {
      "cell_type": "code",
      "metadata": {
        "id": "fYlFRvKS9HMB",
        "colab_type": "code",
        "outputId": "521bf5c8-e4a8-42fc-86a9-5d68316c3e93",
        "colab": {
          "base_uri": "https://localhost:8080/",
          "height": 195
        }
      },
      "source": [
        "#Print first 10 elements in the Y_train after converting into catogorical matrices.\n",
        "\n",
        "Y_train[:10]\n"
      ],
      "execution_count": 11,
      "outputs": [
        {
          "output_type": "execute_result",
          "data": {
            "text/plain": [
              "array([[0., 0., 0., 0., 0., 1., 0., 0., 0., 0.],\n",
              "       [1., 0., 0., 0., 0., 0., 0., 0., 0., 0.],\n",
              "       [0., 0., 0., 0., 1., 0., 0., 0., 0., 0.],\n",
              "       [0., 1., 0., 0., 0., 0., 0., 0., 0., 0.],\n",
              "       [0., 0., 0., 0., 0., 0., 0., 0., 0., 1.],\n",
              "       [0., 0., 1., 0., 0., 0., 0., 0., 0., 0.],\n",
              "       [0., 1., 0., 0., 0., 0., 0., 0., 0., 0.],\n",
              "       [0., 0., 0., 1., 0., 0., 0., 0., 0., 0.],\n",
              "       [0., 1., 0., 0., 0., 0., 0., 0., 0., 0.],\n",
              "       [0., 0., 0., 0., 1., 0., 0., 0., 0., 0.]], dtype=float32)"
            ]
          },
          "metadata": {
            "tags": []
          },
          "execution_count": 11
        }
      ]
    },
    {
      "cell_type": "code",
      "metadata": {
        "id": "osKqT73Q9JJB",
        "colab_type": "code",
        "outputId": "81ebbf7c-5137-4461-847c-b3533ab65a59",
        "colab": {
          "base_uri": "https://localhost:8080/",
          "height": 250
        }
      },
      "source": [
        "\n",
        "from keras.layers import Activation\n",
        "model = Sequential()\n",
        "\n",
        " \n",
        "model.add(Convolution2D(16, 3, 3, activation='relu', input_shape=(28,28,1))) # 26,3\n",
        "\n",
        "model.add(Convolution2D(32, 3, 3, activation='relu')) # 24,5\n",
        "model.add(Convolution2D(64, 3, 3, activation='relu')) # 22,7\n",
        "\n",
        "model.add(MaxPooling2D(pool_size=(2, 2))) # 11,14\n",
        "model.add(Convolution2D(16, 1, 1, activation='relu')) # 11,14\n",
        "\n",
        "model.add(Convolution2D(16, 3, 3, activation='relu')) # 9,16\n",
        "model.add(Convolution2D(32, 3, 3, activation='relu')) # 7,18\n",
        "\n",
        "model.add(Convolution2D(10, 1, activation='relu')) #7,18\n",
        "model.add(Convolution2D(10, 7))#1,24\n",
        "model.add(Flatten())\n",
        "model.add(Activation('softmax'))\n"
      ],
      "execution_count": 18,
      "outputs": [
        {
          "output_type": "stream",
          "text": [
            "/usr/local/lib/python3.6/dist-packages/ipykernel_launcher.py:6: UserWarning: Update your `Conv2D` call to the Keras 2 API: `Conv2D(16, (3, 3), activation=\"relu\", input_shape=(28, 28, 1...)`\n",
            "  \n",
            "/usr/local/lib/python3.6/dist-packages/ipykernel_launcher.py:8: UserWarning: Update your `Conv2D` call to the Keras 2 API: `Conv2D(32, (3, 3), activation=\"relu\")`\n",
            "  \n",
            "/usr/local/lib/python3.6/dist-packages/ipykernel_launcher.py:9: UserWarning: Update your `Conv2D` call to the Keras 2 API: `Conv2D(64, (3, 3), activation=\"relu\")`\n",
            "  if __name__ == '__main__':\n",
            "/usr/local/lib/python3.6/dist-packages/ipykernel_launcher.py:12: UserWarning: Update your `Conv2D` call to the Keras 2 API: `Conv2D(16, (1, 1), activation=\"relu\")`\n",
            "  if sys.path[0] == '':\n",
            "/usr/local/lib/python3.6/dist-packages/ipykernel_launcher.py:14: UserWarning: Update your `Conv2D` call to the Keras 2 API: `Conv2D(16, (3, 3), activation=\"relu\")`\n",
            "  \n",
            "/usr/local/lib/python3.6/dist-packages/ipykernel_launcher.py:15: UserWarning: Update your `Conv2D` call to the Keras 2 API: `Conv2D(32, (3, 3), activation=\"relu\")`\n",
            "  from ipykernel import kernelapp as app\n"
          ],
          "name": "stderr"
        }
      ]
    },
    {
      "cell_type": "code",
      "metadata": {
        "id": "TzdAYg1k9K7Z",
        "colab_type": "code",
        "outputId": "4f2a23e1-8efa-46a8-d37f-cf152c1c7f37",
        "colab": {
          "base_uri": "https://localhost:8080/",
          "height": 532
        }
      },
      "source": [
        "model.summary()"
      ],
      "execution_count": 19,
      "outputs": [
        {
          "output_type": "stream",
          "text": [
            "_________________________________________________________________\n",
            "Layer (type)                 Output Shape              Param #   \n",
            "=================================================================\n",
            "conv2d_25 (Conv2D)           (None, 26, 26, 16)        160       \n",
            "_________________________________________________________________\n",
            "conv2d_26 (Conv2D)           (None, 24, 24, 32)        4640      \n",
            "_________________________________________________________________\n",
            "conv2d_27 (Conv2D)           (None, 22, 22, 64)        18496     \n",
            "_________________________________________________________________\n",
            "max_pooling2d_4 (MaxPooling2 (None, 11, 11, 64)        0         \n",
            "_________________________________________________________________\n",
            "conv2d_28 (Conv2D)           (None, 11, 11, 16)        1040      \n",
            "_________________________________________________________________\n",
            "conv2d_29 (Conv2D)           (None, 9, 9, 16)          2320      \n",
            "_________________________________________________________________\n",
            "conv2d_30 (Conv2D)           (None, 7, 7, 32)          4640      \n",
            "_________________________________________________________________\n",
            "conv2d_31 (Conv2D)           (None, 7, 7, 10)          330       \n",
            "_________________________________________________________________\n",
            "conv2d_32 (Conv2D)           (None, 1, 1, 10)          4910      \n",
            "_________________________________________________________________\n",
            "flatten_4 (Flatten)          (None, 10)                0         \n",
            "_________________________________________________________________\n",
            "activation_4 (Activation)    (None, 10)                0         \n",
            "=================================================================\n",
            "Total params: 36,536\n",
            "Trainable params: 36,536\n",
            "Non-trainable params: 0\n",
            "_________________________________________________________________\n"
          ],
          "name": "stdout"
        }
      ]
    },
    {
      "cell_type": "code",
      "metadata": {
        "id": "Zp6SuGrL9M3h",
        "colab_type": "code",
        "colab": {}
      },
      "source": [
        "model.compile(loss='categorical_crossentropy',\n",
        "             optimizer='adam',\n",
        "             metrics=['accuracy'])"
      ],
      "execution_count": 0,
      "outputs": []
    },
    {
      "cell_type": "code",
      "metadata": {
        "id": "4xWoKhPY9Of5",
        "colab_type": "code",
        "outputId": "b0382475-74e0-4b29-c539-fbfcb5266523",
        "colab": {
          "base_uri": "https://localhost:8080/",
          "height": 1939
        }
      },
      "source": [
        "# 60k images training images will be trained in batches of 32 images at a time. \n",
        "# One epoch consists of (60k/32 = 1875) forward propagations followed by one backward propagation\n",
        "# Network will be trained for 10 epoches and after the training, model will have the weights.\n",
        "\n",
        "\n",
        "model.fit(X_train, Y_train, batch_size=32, nb_epoch=50, verbose=1,validation_data=(X_test, Y_test))"
      ],
      "execution_count": 21,
      "outputs": [
        {
          "output_type": "stream",
          "text": [
            "WARNING:tensorflow:From /usr/local/lib/python3.6/dist-packages/tensorflow/python/ops/math_ops.py:3066: to_int32 (from tensorflow.python.ops.math_ops) is deprecated and will be removed in a future version.\n",
            "Instructions for updating:\n",
            "Use tf.cast instead.\n"
          ],
          "name": "stdout"
        },
        {
          "output_type": "stream",
          "text": [
            "/usr/local/lib/python3.6/dist-packages/ipykernel_launcher.py:3: UserWarning: The `nb_epoch` argument in `fit` has been renamed `epochs`.\n",
            "  This is separate from the ipykernel package so we can avoid doing imports until\n"
          ],
          "name": "stderr"
        },
        {
          "output_type": "stream",
          "text": [
            "Train on 60000 samples, validate on 10000 samples\n",
            "Epoch 1/50\n",
            "60000/60000 [==============================] - 17s 290us/step - loss: 0.1761 - acc: 0.9462 - val_loss: 0.0625 - val_acc: 0.9809\n",
            "Epoch 2/50\n",
            "60000/60000 [==============================] - 12s 205us/step - loss: 0.0645 - acc: 0.9806 - val_loss: 0.0468 - val_acc: 0.9843\n",
            "Epoch 3/50\n",
            "60000/60000 [==============================] - 12s 204us/step - loss: 0.0461 - acc: 0.9856 - val_loss: 0.0346 - val_acc: 0.9885\n",
            "Epoch 4/50\n",
            "60000/60000 [==============================] - 12s 205us/step - loss: 0.0377 - acc: 0.9883 - val_loss: 0.0389 - val_acc: 0.9879\n",
            "Epoch 5/50\n",
            "60000/60000 [==============================] - 13s 213us/step - loss: 0.0314 - acc: 0.9899 - val_loss: 0.0427 - val_acc: 0.9870\n",
            "Epoch 6/50\n",
            "60000/60000 [==============================] - 12s 208us/step - loss: 0.0279 - acc: 0.9913 - val_loss: 0.0311 - val_acc: 0.9899\n",
            "Epoch 7/50\n",
            "60000/60000 [==============================] - 12s 203us/step - loss: 0.0238 - acc: 0.9925 - val_loss: 0.0282 - val_acc: 0.9923\n",
            "Epoch 8/50\n",
            "60000/60000 [==============================] - 12s 202us/step - loss: 0.0211 - acc: 0.9932 - val_loss: 0.0332 - val_acc: 0.9891\n",
            "Epoch 9/50\n",
            "60000/60000 [==============================] - 12s 203us/step - loss: 0.0182 - acc: 0.9939 - val_loss: 0.0293 - val_acc: 0.9900\n",
            "Epoch 10/50\n",
            "60000/60000 [==============================] - 12s 202us/step - loss: 0.0178 - acc: 0.9944 - val_loss: 0.0328 - val_acc: 0.9897\n",
            "Epoch 11/50\n",
            "60000/60000 [==============================] - 12s 201us/step - loss: 0.0154 - acc: 0.9950 - val_loss: 0.0373 - val_acc: 0.9883\n",
            "Epoch 12/50\n",
            "60000/60000 [==============================] - 13s 218us/step - loss: 0.0144 - acc: 0.9956 - val_loss: 0.0298 - val_acc: 0.9913\n",
            "Epoch 13/50\n",
            "60000/60000 [==============================] - 12s 200us/step - loss: 0.0117 - acc: 0.9964 - val_loss: 0.0321 - val_acc: 0.9911\n",
            "Epoch 14/50\n",
            "60000/60000 [==============================] - 12s 200us/step - loss: 0.0115 - acc: 0.9962 - val_loss: 0.0360 - val_acc: 0.9895\n",
            "Epoch 15/50\n",
            "60000/60000 [==============================] - 12s 201us/step - loss: 0.0111 - acc: 0.9962 - val_loss: 0.0479 - val_acc: 0.9888\n",
            "Epoch 16/50\n",
            "60000/60000 [==============================] - 12s 200us/step - loss: 0.0108 - acc: 0.9963 - val_loss: 0.0306 - val_acc: 0.9911\n",
            "Epoch 17/50\n",
            "60000/60000 [==============================] - 13s 210us/step - loss: 0.0101 - acc: 0.9968 - val_loss: 0.0425 - val_acc: 0.9896\n",
            "Epoch 18/50\n",
            "60000/60000 [==============================] - 12s 208us/step - loss: 0.0081 - acc: 0.9974 - val_loss: 0.0416 - val_acc: 0.9900\n",
            "Epoch 19/50\n",
            "60000/60000 [==============================] - 12s 207us/step - loss: 0.0103 - acc: 0.9968 - val_loss: 0.0459 - val_acc: 0.9887\n",
            "Epoch 20/50\n",
            "60000/60000 [==============================] - 12s 199us/step - loss: 0.0077 - acc: 0.9977 - val_loss: 0.0349 - val_acc: 0.9919\n",
            "Epoch 21/50\n",
            "60000/60000 [==============================] - 12s 199us/step - loss: 0.0083 - acc: 0.9973 - val_loss: 0.0394 - val_acc: 0.9906\n",
            "Epoch 22/50\n",
            "60000/60000 [==============================] - 12s 199us/step - loss: 0.0091 - acc: 0.9969 - val_loss: 0.0453 - val_acc: 0.9895\n",
            "Epoch 23/50\n",
            "60000/60000 [==============================] - 12s 198us/step - loss: 0.0074 - acc: 0.9976 - val_loss: 0.0357 - val_acc: 0.9904\n",
            "Epoch 24/50\n",
            "60000/60000 [==============================] - 12s 198us/step - loss: 0.0071 - acc: 0.9976 - val_loss: 0.0506 - val_acc: 0.9891\n",
            "Epoch 25/50\n",
            "60000/60000 [==============================] - 13s 225us/step - loss: 0.0083 - acc: 0.9972 - val_loss: 0.0463 - val_acc: 0.9902\n",
            "Epoch 26/50\n",
            "60000/60000 [==============================] - 12s 198us/step - loss: 0.0061 - acc: 0.9978 - val_loss: 0.0537 - val_acc: 0.9890\n",
            "Epoch 27/50\n",
            "60000/60000 [==============================] - 12s 197us/step - loss: 0.0074 - acc: 0.9975 - val_loss: 0.0440 - val_acc: 0.9907\n",
            "Epoch 28/50\n",
            "60000/60000 [==============================] - 12s 198us/step - loss: 0.0066 - acc: 0.9980 - val_loss: 0.0472 - val_acc: 0.9908\n",
            "Epoch 29/50\n",
            "60000/60000 [==============================] - 12s 198us/step - loss: 0.0067 - acc: 0.9977 - val_loss: 0.0521 - val_acc: 0.9902\n",
            "Epoch 30/50\n",
            "60000/60000 [==============================] - 12s 197us/step - loss: 0.0052 - acc: 0.9984 - val_loss: 0.0575 - val_acc: 0.9888\n",
            "Epoch 31/50\n",
            "60000/60000 [==============================] - 12s 200us/step - loss: 0.0067 - acc: 0.9978 - val_loss: 0.0490 - val_acc: 0.9906\n",
            "Epoch 32/50\n",
            "60000/60000 [==============================] - 13s 213us/step - loss: 0.0058 - acc: 0.9979 - val_loss: 0.0621 - val_acc: 0.9895\n",
            "Epoch 33/50\n",
            "60000/60000 [==============================] - 12s 197us/step - loss: 0.0079 - acc: 0.9976 - val_loss: 0.0492 - val_acc: 0.9918\n",
            "Epoch 34/50\n",
            "60000/60000 [==============================] - 12s 197us/step - loss: 0.0046 - acc: 0.9985 - val_loss: 0.0621 - val_acc: 0.9889\n",
            "Epoch 35/50\n",
            "60000/60000 [==============================] - 12s 197us/step - loss: 0.0060 - acc: 0.9983 - val_loss: 0.0462 - val_acc: 0.9905\n",
            "Epoch 36/50\n",
            "60000/60000 [==============================] - 12s 197us/step - loss: 0.0062 - acc: 0.9981 - val_loss: 0.0598 - val_acc: 0.9893\n",
            "Epoch 37/50\n",
            "60000/60000 [==============================] - 12s 198us/step - loss: 0.0066 - acc: 0.9981 - val_loss: 0.0424 - val_acc: 0.9921\n",
            "Epoch 38/50\n",
            "60000/60000 [==============================] - 12s 206us/step - loss: 0.0061 - acc: 0.9980 - val_loss: 0.0590 - val_acc: 0.9891\n",
            "Epoch 39/50\n",
            "60000/60000 [==============================] - 12s 207us/step - loss: 0.0056 - acc: 0.9983 - val_loss: 0.0576 - val_acc: 0.9902\n",
            "Epoch 40/50\n",
            "60000/60000 [==============================] - 12s 197us/step - loss: 0.0058 - acc: 0.9981 - val_loss: 0.0561 - val_acc: 0.9911\n",
            "Epoch 41/50\n",
            "60000/60000 [==============================] - 12s 198us/step - loss: 0.0057 - acc: 0.9982 - val_loss: 0.0657 - val_acc: 0.9890\n",
            "Epoch 42/50\n",
            "60000/60000 [==============================] - 13s 209us/step - loss: 0.0057 - acc: 0.9982 - val_loss: 0.0546 - val_acc: 0.9906\n",
            "Epoch 43/50\n",
            "60000/60000 [==============================] - 12s 197us/step - loss: 0.0057 - acc: 0.9981 - val_loss: 0.0481 - val_acc: 0.9915\n",
            "Epoch 44/50\n",
            "60000/60000 [==============================] - 12s 198us/step - loss: 0.0042 - acc: 0.9987 - val_loss: 0.0559 - val_acc: 0.9917\n",
            "Epoch 45/50\n",
            "60000/60000 [==============================] - 13s 216us/step - loss: 0.0071 - acc: 0.9980 - val_loss: 0.0613 - val_acc: 0.9897\n",
            "Epoch 46/50\n",
            "60000/60000 [==============================] - 12s 198us/step - loss: 0.0059 - acc: 0.9986 - val_loss: 0.0542 - val_acc: 0.9913\n",
            "Epoch 47/50\n",
            "60000/60000 [==============================] - 12s 199us/step - loss: 0.0052 - acc: 0.9985 - val_loss: 0.0608 - val_acc: 0.9905\n",
            "Epoch 48/50\n",
            "60000/60000 [==============================] - 12s 198us/step - loss: 0.0056 - acc: 0.9983 - val_loss: 0.0675 - val_acc: 0.9884\n",
            "Epoch 49/50\n",
            "60000/60000 [==============================] - 12s 198us/step - loss: 0.0054 - acc: 0.9984 - val_loss: 0.0607 - val_acc: 0.9910\n",
            "Epoch 50/50\n",
            "60000/60000 [==============================] - 12s 196us/step - loss: 0.0054 - acc: 0.9984 - val_loss: 0.0662 - val_acc: 0.9898\n"
          ],
          "name": "stdout"
        },
        {
          "output_type": "execute_result",
          "data": {
            "text/plain": [
              "<keras.callbacks.History at 0x7fddf4d16a90>"
            ]
          },
          "metadata": {
            "tags": []
          },
          "execution_count": 21
        }
      ]
    }
  ]
}