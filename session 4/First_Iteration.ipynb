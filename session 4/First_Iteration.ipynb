{
 "cells": [
  {
   "cell_type": "code",
   "execution_count": 0,
   "metadata": {
    "id": "3m3w1Cw49Zkt",
    "colab_type": "code",
    "outputId": "291c76c7-cffb-4eaa-b710-15f9ee4f15f3",
    "colab": {
     "base_uri": "https://localhost:8080/",
     "height": 35.0
    }
   },
   "outputs": [
    {
     "name": "stderr",
     "output_type": "stream",
     "text": [
      "Using TensorFlow backend.\n"
     ]
    }
   ],
   "source": [
    "                                                          # Header\n",
    "  \n",
    "# This is vanilla flavour network architecture.\n",
    "\n",
    "# Using only 3x3 kernal for convolution.\n",
    "# Number of kernals in layers of a convolution block is increased in arthematic progression till 128 is reached(16,32,64,128)\n",
    "\n",
    "# After the end of each convolution block, there is a transistion block \n",
    "# Transistion block has\n",
    "#  1. 1x1 convolution which reduces the number of kernals(selection) and \n",
    "#  2. Max pooling\n",
    "\n",
    "# Max pooling is avoid towards the end (before Flattening and Softmax)\n",
    "\n",
    "\n",
    "\n",
    "# https://keras.io/\n",
    "\n",
    "#Statement start with \"!\" is a command in Colab.\n",
    "#The following command will quitly install keras python module from python packaging index\n",
    "#After installing keras, it is being imported\n",
    "\n",
    "!pip install -q keras\n",
    "import keras"
   ]
  },
  {
   "cell_type": "code",
   "execution_count": 0,
   "metadata": {
    "id": "Eso6UHE080D4",
    "colab_type": "code",
    "colab": {}
   },
   "outputs": [],
   "source": [
    "#numpy is imported with \"np\" as kind of alias. \n",
    "#From here on we can use np instead of numpy.\n",
    "\n",
    "import numpy as np\n",
    "\n",
    "#The following would import relevant models and layer. \n",
    "#Also, we have imported the mnist data set.\n",
    "\n",
    "from keras.models import Sequential\n",
    "from keras.layers import Dense, Dropout, Activation, Flatten, Add\n",
    "from keras.layers import Convolution2D, MaxPooling2D\n",
    "from keras.utils import np_utils\n",
    "\n",
    "from keras.datasets import mnist"
   ]
  },
  {
   "cell_type": "code",
   "execution_count": 0,
   "metadata": {
    "id": "7eRM0QWN83PV",
    "colab_type": "code",
    "outputId": "029021d9-549a-4b04-a5b9-5d8dae6e0dbe",
    "colab": {
     "base_uri": "https://localhost:8080/",
     "height": 52.0
    }
   },
   "outputs": [
    {
     "name": "stdout",
     "output_type": "stream",
     "text": [
      "Downloading data from https://s3.amazonaws.com/img-datasets/mnist.npz\n",
      "11493376/11490434 [==============================] - 0s 0us/step\n"
     ]
    }
   ],
   "source": [
    "# Load MNIST data set into training data and test set data\n",
    "# There are 70,000 images with their labels in MNIST dataset.\n",
    "# Randomly, 60k will be loaded into X_train and their corresponding labels y_train.\n",
    "# Remaining 10k images will be loaded into X_test and their labels y_test.\n",
    "\n",
    "(X_train, y_train), (X_test, y_test) = mnist.load_data()"
   ]
  },
  {
   "cell_type": "code",
   "execution_count": 0,
   "metadata": {
    "id": "4a4Be72j8-ZC",
    "colab_type": "code",
    "outputId": "a1fd23e9-f65a-40b0-d577-805d29aec7c2",
    "colab": {
     "base_uri": "https://localhost:8080/",
     "height": 304.0
    }
   },
   "outputs": [
    {
     "name": "stdout",
     "output_type": "stream",
     "text": [
      "(60000, 28, 28)\n"
     ]
    },
    {
     "data": {
      "text/plain": [
       "<matplotlib.image.AxesImage at 0x7f035634e5f8>"
      ]
     },
     "execution_count": 5,
     "metadata": {
      "tags": []
     },
     "output_type": "execute_result"
    },
    {
     "data": {
      "image/png": "[encoded data removed]",
      "text/plain": [
       "<Figure size 432x288 with 1 Axes>"
      ]
     },
     "metadata": {
      "tags": []
     },
     "output_type": "display_data"
    }
   ],
   "source": [
    "#Printing the shape of Training data set\n",
    "#From this print statement, there are 60,000 images in X train of size 28X28.\n",
    "#Correspoindingly, y_train is a column matrics of size 60000\n",
    "\n",
    "print (X_train.shape)\n",
    "\n",
    "\n",
    "# Using plt.imshow method from matplot library, the first image is printed. y[0] will be have a value of 5.\n",
    "from matplotlib import pyplot as plt\n",
    "%matplotlib inline\n",
    "plt.imshow(X_train[0])"
   ]
  },
  {
   "cell_type": "code",
   "execution_count": 0,
   "metadata": {
    "id": "dkmprriw9AnZ",
    "colab_type": "code",
    "colab": {}
   },
   "outputs": [],
   "source": [
    "#Convert the images in training dataset and test set into multidimentional arrays of their pixel intensity values.\n",
    "\n",
    "X_train = X_train.reshape(X_train.shape[0], 28, 28,1)\n",
    "X_test = X_test.reshape(X_test.shape[0], 28, 28,1)"
   ]
  },
  {
   "cell_type": "code",
   "execution_count": 0,
   "metadata": {
    "id": "X2m4YS4E9CRh",
    "colab_type": "code",
    "colab": {}
   },
   "outputs": [],
   "source": [
    "#Convert the pixel intensity values into floating point value and normalize the pixel intensities by dividing with 255. Max value of pixel intensity is 255.\n",
    "\n",
    "X_train = X_train.astype('float32')\n",
    "X_test = X_test.astype('float32')\n",
    "X_train /= 255\n",
    "X_test /= 255"
   ]
  },
  {
   "cell_type": "code",
   "execution_count": 0,
   "metadata": {
    "id": "0Mn0vAYD9DvB",
    "colab_type": "code",
    "outputId": "0412f855-1ec3-4ea1-bf37-0d1bfdd7d62f",
    "colab": {
     "base_uri": "https://localhost:8080/",
     "height": 35.0
    }
   },
   "outputs": [
    {
     "data": {
      "text/plain": [
       "array([5, 0, 4, 1, 9, 2, 1, 3, 1, 4], dtype=uint8)"
      ]
     },
     "execution_count": 8,
     "metadata": {
      "tags": []
     },
     "output_type": "execute_result"
    }
   ],
   "source": [
    "# Convert 1-dimensional class arrays to 10-dimensional class matrices\n",
    "\n",
    "y_train[:10]"
   ]
  },
  {
   "cell_type": "code",
   "execution_count": 0,
   "metadata": {
    "id": "ZG8JiXR39FHC",
    "colab_type": "code",
    "colab": {}
   },
   "outputs": [],
   "source": [
    "# Convert 1-dimensional class arrays to 10-dimensional class matrices\n",
    "\n",
    "# This will convert the numbers in the Y_train and y_test into column metrics of size 10. Element corresponding to the number will have value 1 and all other elements will be 0.\n",
    "# For example, 5 will be represented by the column matrics [0,0,0,0,1,0,0,0,0,0]\n",
    "\n",
    "\n",
    "Y_train = np_utils.to_categorical(y_train, 10)\n",
    "Y_test = np_utils.to_categorical(y_test, 10)"
   ]
  },
  {
   "cell_type": "code",
   "execution_count": 0,
   "metadata": {
    "id": "fYlFRvKS9HMB",
    "colab_type": "code",
    "outputId": "00f64229-752a-4733-92b9-9864dfd2e02f",
    "colab": {
     "base_uri": "https://localhost:8080/",
     "height": 195.0
    }
   },
   "outputs": [
    {
     "data": {
      "text/plain": [
       "array([[0., 0., 0., 0., 0., 1., 0., 0., 0., 0.],\n",
       "       [1., 0., 0., 0., 0., 0., 0., 0., 0., 0.],\n",
       "       [0., 0., 0., 0., 1., 0., 0., 0., 0., 0.],\n",
       "       [0., 1., 0., 0., 0., 0., 0., 0., 0., 0.],\n",
       "       [0., 0., 0., 0., 0., 0., 0., 0., 0., 1.],\n",
       "       [0., 0., 1., 0., 0., 0., 0., 0., 0., 0.],\n",
       "       [0., 1., 0., 0., 0., 0., 0., 0., 0., 0.],\n",
       "       [0., 0., 0., 1., 0., 0., 0., 0., 0., 0.],\n",
       "       [0., 1., 0., 0., 0., 0., 0., 0., 0., 0.],\n",
       "       [0., 0., 0., 0., 1., 0., 0., 0., 0., 0.]], dtype=float32)"
      ]
     },
     "execution_count": 12,
     "metadata": {
      "tags": []
     },
     "output_type": "execute_result"
    }
   ],
   "source": [
    "#Print first 10 elements in the Y_train after converting into catogorical matrices.\n",
    "\n",
    "Y_train[:10]\n"
   ]
  },
  {
   "cell_type": "code",
   "execution_count": 0,
   "metadata": {
    "id": "osKqT73Q9JJB",
    "colab_type": "code",
    "outputId": "a551f4ec-9e97-4173-9492-0fb5e4fe7ca2",
    "colab": {
     "base_uri": "https://localhost:8080/",
     "height": 304.0
    }
   },
   "outputs": [
    {
     "name": "stderr",
     "output_type": "stream",
     "text": [
      "/usr/local/lib/python3.6/dist-packages/ipykernel_launcher.py:7: UserWarning: Update your `Conv2D` call to the Keras 2 API: `Conv2D(16, (3, 3), activation=\"relu\", input_shape=(28, 28, 1...)`\n",
      "  import sys\n",
      "/usr/local/lib/python3.6/dist-packages/ipykernel_launcher.py:8: UserWarning: Update your `Conv2D` call to the Keras 2 API: `Conv2D(32, (3, 3), activation=\"relu\")`\n",
      "  \n",
      "/usr/local/lib/python3.6/dist-packages/ipykernel_launcher.py:9: UserWarning: Update your `Conv2D` call to the Keras 2 API: `Conv2D(64, (3, 3), activation=\"relu\")`\n",
      "  if __name__ == '__main__':\n",
      "/usr/local/lib/python3.6/dist-packages/ipykernel_launcher.py:10: UserWarning: Update your `Conv2D` call to the Keras 2 API: `Conv2D(128, (3, 3), activation=\"relu\")`\n",
      "  # Remove the CWD from sys.path while we load stuff.\n",
      "/usr/local/lib/python3.6/dist-packages/ipykernel_launcher.py:14: UserWarning: Update your `Conv2D` call to the Keras 2 API: `Conv2D(16, (4, 4), activation=\"relu\")`\n",
      "  \n",
      "/usr/local/lib/python3.6/dist-packages/ipykernel_launcher.py:15: UserWarning: Update your `Conv2D` call to the Keras 2 API: `Conv2D(32, (3, 3), activation=\"relu\")`\n",
      "  from ipykernel import kernelapp as app\n",
      "/usr/local/lib/python3.6/dist-packages/ipykernel_launcher.py:16: UserWarning: Update your `Conv2D` call to the Keras 2 API: `Conv2D(64, (3, 3), activation=\"relu\")`\n",
      "  app.launch_new_instance()\n",
      "/usr/local/lib/python3.6/dist-packages/ipykernel_launcher.py:19: UserWarning: Update your `Conv2D` call to the Keras 2 API: `Conv2D(10, (3, 3))`\n"
     ]
    }
   ],
   "source": [
    "\n",
    "\n",
    "from keras.layers import Activation\n",
    "model = Sequential()\n",
    "\n",
    " \n",
    "model.add(Convolution2D(16, 3, 3, activation='relu', input_shape=(28,28,1)))\n",
    "model.add(Convolution2D(32, 3, 3, activation='relu'))\n",
    "model.add(Convolution2D(64, 3, 3, activation='relu'))\n",
    "model.add(Convolution2D(128, 3, 3, activation='relu'))\n",
    "model.add(Convolution2D(16, 1, activation='relu'))\n",
    "model.add(MaxPooling2D(2, 2))\n",
    "\n",
    "model.add(Convolution2D(16, 4, 4, activation='relu'))\n",
    "model.add(Convolution2D(32, 3, 3, activation='relu'))\n",
    "model.add(Convolution2D(64, 3, 3, activation='relu'))\n",
    "model.add(Convolution2D(10, 1, activation='relu'))\n",
    "\n",
    "model.add(Convolution2D(10, 3, 3))\n",
    "\n",
    "model.add(Flatten())\n",
    "model.add(Activation('softmax'))"
   ]
  },
  {
   "cell_type": "code",
   "execution_count": 0,
   "metadata": {
    "id": "TzdAYg1k9K7Z",
    "colab_type": "code",
    "outputId": "709dbd7c-4a2a-4fb6-d660-52bc14f37883",
    "colab": {
     "base_uri": "https://localhost:8080/",
     "height": 604.0
    }
   },
   "outputs": [
    {
     "name": "stdout",
     "output_type": "stream",
     "text": [
      "_________________________________________________________________\n",
      "Layer (type)                 Output Shape              Param #   \n",
      "=================================================================\n",
      "conv2d_11 (Conv2D)           (None, 26, 26, 16)        160       \n",
      "_________________________________________________________________\n",
      "conv2d_12 (Conv2D)           (None, 24, 24, 32)        4640      \n",
      "_________________________________________________________________\n",
      "conv2d_13 (Conv2D)           (None, 22, 22, 64)        18496     \n",
      "_________________________________________________________________\n",
      "conv2d_14 (Conv2D)           (None, 20, 20, 128)       73856     \n",
      "_________________________________________________________________\n",
      "conv2d_15 (Conv2D)           (None, 20, 20, 16)        2064      \n",
      "_________________________________________________________________\n",
      "max_pooling2d_2 (MaxPooling2 (None, 10, 10, 16)        0         \n",
      "_________________________________________________________________\n",
      "conv2d_16 (Conv2D)           (None, 7, 7, 16)          4112      \n",
      "_________________________________________________________________\n",
      "conv2d_17 (Conv2D)           (None, 5, 5, 32)          4640      \n",
      "_________________________________________________________________\n",
      "conv2d_18 (Conv2D)           (None, 3, 3, 64)          18496     \n",
      "_________________________________________________________________\n",
      "conv2d_19 (Conv2D)           (None, 3, 3, 10)          650       \n",
      "_________________________________________________________________\n",
      "conv2d_20 (Conv2D)           (None, 1, 1, 10)          910       \n",
      "_________________________________________________________________\n",
      "flatten_2 (Flatten)          (None, 10)                0         \n",
      "_________________________________________________________________\n",
      "activation_2 (Activation)    (None, 10)                0         \n",
      "=================================================================\n",
      "Total params: 128,024\n",
      "Trainable params: 128,024\n",
      "Non-trainable params: 0\n",
      "_________________________________________________________________\n"
     ]
    }
   ],
   "source": [
    "model.summary()"
   ]
  },
  {
   "cell_type": "code",
   "execution_count": 0,
   "metadata": {
    "id": "Zp6SuGrL9M3h",
    "colab_type": "code",
    "colab": {}
   },
   "outputs": [],
   "source": [
    "model.compile(loss='categorical_crossentropy',\n",
    "             optimizer='adam',\n",
    "             metrics=['accuracy'])"
   ]
  },
  {
   "cell_type": "code",
   "execution_count": 0,
   "metadata": {
    "id": "4xWoKhPY9Of5",
    "colab_type": "code",
    "outputId": "30cfc90c-8b6e-406a-8658-2a5f577678f2",
    "colab": {
     "base_uri": "https://localhost:8080/",
     "height": 1584.0
    }
   },
   "outputs": [
    {
     "name": "stdout",
     "output_type": "stream",
     "text": [
      "WARNING:tensorflow:From /usr/local/lib/python3.6/dist-packages/tensorflow/python/ops/math_ops.py:3066: to_int32 (from tensorflow.python.ops.math_ops) is deprecated and will be removed in a future version.\n",
      "Instructions for updating:\n",
      "Use tf.cast instead.\n"
     ]
    },
    {
     "name": "stderr",
     "output_type": "stream",
     "text": [
      "/usr/local/lib/python3.6/dist-packages/ipykernel_launcher.py:3: UserWarning: The `nb_epoch` argument in `fit` has been renamed `epochs`.\n",
      "  This is separate from the ipykernel package so we can avoid doing imports until\n"
     ]
    },
    {
     "name": "stdout",
     "output_type": "stream",
     "text": [
      "Train on 60000 samples, validate on 10000 samples\n",
      "Epoch 1/40\n",
      "60000/60000 [==============================] - 20s 327us/step - loss: 0.2042 - acc: 0.9370 - val_loss: 0.0767 - val_acc: 0.9754\n",
      "Epoch 2/40\n",
      "60000/60000 [==============================] - 14s 241us/step - loss: 0.0713 - acc: 0.9780 - val_loss: 0.0652 - val_acc: 0.9788\n",
      "Epoch 3/40\n",
      "60000/60000 [==============================] - 15s 250us/step - loss: 0.0553 - acc: 0.9833 - val_loss: 0.0479 - val_acc: 0.9861\n",
      "Epoch 4/40\n",
      "60000/60000 [==============================] - 15s 244us/step - loss: 0.0451 - acc: 0.9861 - val_loss: 0.0313 - val_acc: 0.9898\n",
      "Epoch 5/40\n",
      "60000/60000 [==============================] - 14s 239us/step - loss: 0.0375 - acc: 0.9885 - val_loss: 0.0369 - val_acc: 0.9898\n",
      "Epoch 6/40\n",
      "60000/60000 [==============================] - 14s 239us/step - loss: 0.0323 - acc: 0.9901 - val_loss: 0.0343 - val_acc: 0.9904\n",
      "Epoch 7/40\n",
      "60000/60000 [==============================] - 15s 247us/step - loss: 0.0289 - acc: 0.9912 - val_loss: 0.0313 - val_acc: 0.9903\n",
      "Epoch 8/40\n",
      "60000/60000 [==============================] - 14s 241us/step - loss: 0.0257 - acc: 0.9925 - val_loss: 0.0368 - val_acc: 0.9909\n",
      "Epoch 9/40\n",
      "60000/60000 [==============================] - 15s 252us/step - loss: 0.0245 - acc: 0.9925 - val_loss: 0.0307 - val_acc: 0.9915\n",
      "Epoch 10/40\n",
      "60000/60000 [==============================] - 15s 243us/step - loss: 0.0206 - acc: 0.9933 - val_loss: 0.0338 - val_acc: 0.9901\n",
      "Epoch 11/40\n",
      "60000/60000 [==============================] - 15s 252us/step - loss: 0.0209 - acc: 0.9931 - val_loss: 0.0320 - val_acc: 0.9909\n",
      "Epoch 12/40\n",
      "60000/60000 [==============================] - 14s 238us/step - loss: 0.0180 - acc: 0.9941 - val_loss: 0.0378 - val_acc: 0.9894\n",
      "Epoch 13/40\n",
      "60000/60000 [==============================] - 14s 238us/step - loss: 0.0175 - acc: 0.9947 - val_loss: 0.0370 - val_acc: 0.9909\n",
      "Epoch 14/40\n",
      "60000/60000 [==============================] - 15s 248us/step - loss: 0.0157 - acc: 0.9949 - val_loss: 0.0596 - val_acc: 0.9859\n",
      "Epoch 15/40\n",
      "60000/60000 [==============================] - 14s 241us/step - loss: 0.0148 - acc: 0.9956 - val_loss: 0.0300 - val_acc: 0.9922\n",
      "Epoch 16/40\n",
      "60000/60000 [==============================] - 14s 238us/step - loss: 0.0150 - acc: 0.9953 - val_loss: 0.0347 - val_acc: 0.9915\n",
      "Epoch 17/40\n",
      "60000/60000 [==============================] - 14s 238us/step - loss: 0.0127 - acc: 0.9956 - val_loss: 0.0398 - val_acc: 0.9902\n",
      "Epoch 18/40\n",
      "60000/60000 [==============================] - 14s 239us/step - loss: 0.0130 - acc: 0.9960 - val_loss: 0.0412 - val_acc: 0.9902\n",
      "Epoch 19/40\n",
      "60000/60000 [==============================] - 14s 238us/step - loss: 0.0130 - acc: 0.9961 - val_loss: 0.0408 - val_acc: 0.9895\n",
      "Epoch 20/40\n",
      "60000/60000 [==============================] - 15s 252us/step - loss: 0.0118 - acc: 0.9960 - val_loss: 0.0415 - val_acc: 0.9908\n",
      "Epoch 21/40\n",
      "60000/60000 [==============================] - 14s 238us/step - loss: 0.0121 - acc: 0.9962 - val_loss: 0.0354 - val_acc: 0.9910\n",
      "Epoch 22/40\n",
      "60000/60000 [==============================] - 14s 238us/step - loss: 0.0116 - acc: 0.9964 - val_loss: 0.0391 - val_acc: 0.9909\n",
      "Epoch 23/40\n",
      "60000/60000 [==============================] - 14s 238us/step - loss: 0.0099 - acc: 0.9968 - val_loss: 0.0397 - val_acc: 0.9908\n",
      "Epoch 24/40\n",
      "60000/60000 [==============================] - 14s 239us/step - loss: 0.0117 - acc: 0.9963 - val_loss: 0.0319 - val_acc: 0.9915\n",
      "Epoch 25/40\n",
      "60000/60000 [==============================] - 15s 245us/step - loss: 0.0112 - acc: 0.9963 - val_loss: 0.0365 - val_acc: 0.9914\n",
      "Epoch 26/40\n",
      "60000/60000 [==============================] - 15s 244us/step - loss: 0.0097 - acc: 0.9970 - val_loss: 0.0479 - val_acc: 0.9895\n",
      "Epoch 27/40\n",
      "60000/60000 [==============================] - 14s 239us/step - loss: 0.0100 - acc: 0.9968 - val_loss: 0.0425 - val_acc: 0.9898\n",
      "Epoch 28/40\n",
      "60000/60000 [==============================] - 15s 245us/step - loss: 0.0100 - acc: 0.9971 - val_loss: 0.0441 - val_acc: 0.9912\n",
      "Epoch 29/40\n",
      "60000/60000 [==============================] - 14s 240us/step - loss: 0.0097 - acc: 0.9970 - val_loss: 0.0389 - val_acc: 0.9904\n",
      "Epoch 30/40\n",
      "60000/60000 [==============================] - 14s 237us/step - loss: 0.0082 - acc: 0.9977 - val_loss: 0.0362 - val_acc: 0.9917\n",
      "Epoch 31/40\n",
      "60000/60000 [==============================] - 15s 252us/step - loss: 0.0097 - acc: 0.9969 - val_loss: 0.0423 - val_acc: 0.9912\n",
      "Epoch 32/40\n",
      "60000/60000 [==============================] - 15s 256us/step - loss: 0.0107 - acc: 0.9963 - val_loss: 0.0412 - val_acc: 0.9903\n",
      "Epoch 33/40\n",
      "60000/60000 [==============================] - 14s 239us/step - loss: 0.0093 - acc: 0.9970 - val_loss: 0.0391 - val_acc: 0.9905\n",
      "Epoch 34/40\n",
      "60000/60000 [==============================] - 14s 238us/step - loss: 0.0079 - acc: 0.9976 - val_loss: 0.0490 - val_acc: 0.9905\n",
      "Epoch 35/40\n",
      "60000/60000 [==============================] - 14s 238us/step - loss: 0.0090 - acc: 0.9972 - val_loss: 0.0452 - val_acc: 0.9910\n",
      "Epoch 36/40\n",
      "60000/60000 [==============================] - 15s 244us/step - loss: 0.0104 - acc: 0.9969 - val_loss: 0.0530 - val_acc: 0.9891\n",
      "Epoch 37/40\n",
      "60000/60000 [==============================] - 15s 246us/step - loss: 0.0104 - acc: 0.9969 - val_loss: 0.0555 - val_acc: 0.9897\n",
      "Epoch 38/40\n",
      "60000/60000 [==============================] - 14s 238us/step - loss: 0.0095 - acc: 0.9974 - val_loss: 0.0567 - val_acc: 0.9894\n",
      "Epoch 39/40\n",
      "60000/60000 [==============================] - 14s 238us/step - loss: 0.0076 - acc: 0.9976 - val_loss: 0.0444 - val_acc: 0.9922\n",
      "Epoch 40/40\n",
      "60000/60000 [==============================] - 14s 238us/step - loss: 0.0083 - acc: 0.9975 - val_loss: 0.0438 - val_acc: 0.9912\n"
     ]
    },
    {
     "data": {
      "text/plain": [
       "<keras.callbacks.History at 0x7f0352b8ddd8>"
      ]
     },
     "execution_count": 17,
     "metadata": {
      "tags": []
     },
     "output_type": "execute_result"
    }
   ],
   "source": [
    "# 60k images training images will be trained in batches of 32 images at a time. \n",
    "# One epoch consists of (60k/32 = 1875) forward propagations followed by one backward propagation\n",
    "# Network will be trained for 10 epoches and after the training, model will have the weights.\n",
    "\n",
    "\n",
    "model.fit(X_train, Y_train, batch_size=32, nb_epoch=40, verbose=1,validation_data=(X_test, Y_test))"
   ]
  },
  {
   "cell_type": "code",
   "execution_count": 0,
   "metadata": {
    "id": "AtsH-lLk-eLb",
    "colab_type": "code",
    "colab": {}
   },
   "outputs": [],
   "source": [
    "# For each of 10k images in the testset, predict the labels and check how many of them are matching with Y_test. Based this arrive at a score.\n",
    "\n",
    "\n",
    "score = model.evaluate(X_test, Y_test, verbose=0)"
   ]
  },
  {
   "cell_type": "code",
   "execution_count": 0,
   "metadata": {
    "id": "mkX8JMv79q9r",
    "colab_type": "code",
    "outputId": "3f6599c9-fca1-4ad3-df8b-3e62013534fe",
    "colab": {
     "base_uri": "https://localhost:8080/",
     "height": 35.0
    }
   },
   "outputs": [
    {
     "name": "stdout",
     "output_type": "stream",
     "text": [
      "[0.04383292893074103, 0.9912]\n"
     ]
    }
   ],
   "source": [
    "#Print the score\n",
    "\n",
    "print(score)"
   ]
  }
 ],
 "metadata": {
  "colab": {
   "name": "First Iteration",
   "version": "0.3.2",
   "provenance": [],
   "collapsed_sections": []
  },
  "kernelspec": {
   "name": "python3",
   "display_name": "Python 3"
  },
  "accelerator": "GPU"
 },
 "nbformat": 4,
 "nbformat_minor": 0
}
