{
 "cells": [
  {
   "cell_type": "code",
   "execution_count": 0,
   "metadata": {
    "id": "3m3w1Cw49Zkt",
    "colab_type": "code",
    "colab": {}
   },
   "outputs": [],
   "source": [
    "                                                          # Header\n",
    "  \n",
    "# In the third iteration, the validation accuracy is closely following training accuracy but the validation accuracy needs to be 99.4%\n",
    "\n",
    "\n",
    "# To achieve this, the following is being incorporated\n",
    "\n",
    "# 1. Introducing batch normalization before every layer except the first layer.\n",
    "\n",
    "# 2. Increasing the batch size to 128. \n",
    "#    As the batch size increases, accuracy increases.\n",
    "#    Beyond certaing value of batch size, the accuracy decreases. So setting the batch size to 128.\n",
    "\n",
    "# 3. Drop out at the last layer is reduced to 0.1\n",
    "#    At the trasition block, drop out is set to 0.2 but towards the end drop out is reduced to only 0.1\n",
    "\n",
    "# The number of trainable parameters are less than 15k. So retaining number of kernal and network architecture in tact.\n",
    "\n",
    "\n",
    "# https://keras.io/\n",
    "\n",
    "#Statement start with \"!\" is a command in Colab.\n",
    "#The following command will quitly install keras python module from python packaging index\n",
    "#After installing keras, it is being imported\n",
    "\n",
    "!pip install -q keras\n",
    "import keras"
   ]
  },
  {
   "cell_type": "code",
   "execution_count": 0,
   "metadata": {
    "id": "Eso6UHE080D4",
    "colab_type": "code",
    "colab": {}
   },
   "outputs": [],
   "source": [
    "#numpy is imported with \"np\" as kind of alias. \n",
    "#From here on we can use np instead of numpy.\n",
    "\n",
    "import numpy as np\n",
    "\n",
    "#The following would import relevant models and layer. \n",
    "#Also, we have imported the mnist data set.\n",
    "\n",
    "from keras.models import Sequential\n",
    "from keras.layers import Dense, Dropout, Activation, Flatten, Add, BatchNormalization\n",
    "from keras.layers import Convolution2D, MaxPooling2D\n",
    "from keras.utils import np_utils\n",
    "\n",
    "from keras.datasets import mnist"
   ]
  },
  {
   "cell_type": "code",
   "execution_count": 0,
   "metadata": {
    "id": "7eRM0QWN83PV",
    "colab_type": "code",
    "colab": {}
   },
   "outputs": [],
   "source": [
    "# Load MNIST data set into training data and test set data\n",
    "# There are 70,000 images with their labels in MNIST dataset.\n",
    "# Randomly, 60k will be loaded into X_train and their corresponding labels y_train.\n",
    "# Remaining 10k images will be loaded into X_test and their labels y_test.\n",
    "\n",
    "(X_train, y_train), (X_test, y_test) = mnist.load_data()"
   ]
  },
  {
   "cell_type": "code",
   "execution_count": 0,
   "metadata": {
    "id": "4a4Be72j8-ZC",
    "colab_type": "code",
    "outputId": "0dc3c384-46c5-44f5-da6b-049b6a90fa18",
    "colab": {
     "base_uri": "https://localhost:8080/",
     "height": 304.0
    }
   },
   "outputs": [
    {
     "name": "stdout",
     "output_type": "stream",
     "text": [
      "(60000, 28, 28)\n"
     ]
    },
    {
     "data": {
      "text/plain": [
       "<matplotlib.image.AxesImage at 0x7fc68a4e9f98>"
      ]
     },
     "execution_count": 10,
     "metadata": {
      "tags": []
     },
     "output_type": "execute_result"
    },
    {
     "data": {
      "image/png": "[encoded data removed]",
      "text/plain": [
       "<Figure size 432x288 with 1 Axes>"
      ]
     },
     "metadata": {
      "tags": []
     },
     "output_type": "display_data"
    }
   ],
   "source": [
    "#Printing the shape of Training data set\n",
    "#From this print statement, there are 60,000 images in X train of size 28X28.\n",
    "#Correspoindingly, y_train is a column matrics of size 60000\n",
    "\n",
    "print (X_train.shape)\n",
    "\n",
    "\n",
    "# Using plt.imshow method from matplot library, the first image is printed. y[0] will be have a value of 5.\n",
    "from matplotlib import pyplot as plt\n",
    "%matplotlib inline\n",
    "plt.imshow(X_train[0])"
   ]
  },
  {
   "cell_type": "code",
   "execution_count": 0,
   "metadata": {
    "id": "dkmprriw9AnZ",
    "colab_type": "code",
    "colab": {}
   },
   "outputs": [],
   "source": [
    "#Convert the images in training dataset and test set into multidimentional arrays of their pixel intensity values.\n",
    "\n",
    "X_train = X_train.reshape(X_train.shape[0], 28, 28,1)\n",
    "X_test = X_test.reshape(X_test.shape[0], 28, 28,1)"
   ]
  },
  {
   "cell_type": "code",
   "execution_count": 0,
   "metadata": {
    "id": "X2m4YS4E9CRh",
    "colab_type": "code",
    "colab": {}
   },
   "outputs": [],
   "source": [
    "#Convert the pixel intensity values into floating point value and normalize the pixel intensities by dividing with 255. Max value of pixel intensity is 255.\n",
    "\n",
    "X_train = X_train.astype('float32')\n",
    "X_test = X_test.astype('float32')\n",
    "X_train /= 255\n",
    "X_test /= 255"
   ]
  },
  {
   "cell_type": "code",
   "execution_count": 0,
   "metadata": {
    "id": "0Mn0vAYD9DvB",
    "colab_type": "code",
    "outputId": "295e15c0-5799-4274-a79e-0d2e155725d0",
    "colab": {
     "base_uri": "https://localhost:8080/",
     "height": 35.0
    }
   },
   "outputs": [
    {
     "data": {
      "text/plain": [
       "array([5, 0, 4, 1, 9, 2, 1, 3, 1, 4], dtype=uint8)"
      ]
     },
     "execution_count": 13,
     "metadata": {
      "tags": []
     },
     "output_type": "execute_result"
    }
   ],
   "source": [
    "# Convert 1-dimensional class arrays to 10-dimensional class matrices\n",
    "\n",
    "y_train[:10]"
   ]
  },
  {
   "cell_type": "code",
   "execution_count": 0,
   "metadata": {
    "id": "ZG8JiXR39FHC",
    "colab_type": "code",
    "colab": {}
   },
   "outputs": [],
   "source": [
    "# Convert 1-dimensional class arrays to 10-dimensional class matrices\n",
    "\n",
    "# This will convert the numbers in the Y_train and y_test into column metrics of size 10. Element corresponding to the number will have value 1 and all other elements will be 0.\n",
    "# For example, 5 will be represented by the column matrics [0,0,0,0,1,0,0,0,0,0]\n",
    "\n",
    "\n",
    "Y_train = np_utils.to_categorical(y_train, 10)\n",
    "Y_test = np_utils.to_categorical(y_test, 10)"
   ]
  },
  {
   "cell_type": "code",
   "execution_count": 0,
   "metadata": {
    "id": "fYlFRvKS9HMB",
    "colab_type": "code",
    "outputId": "c5ad1839-d134-4e29-b48f-b5fe8cd2bf3e",
    "colab": {
     "base_uri": "https://localhost:8080/",
     "height": 195.0
    }
   },
   "outputs": [
    {
     "data": {
      "text/plain": [
       "array([[0., 0., 0., 0., 0., 1., 0., 0., 0., 0.],\n",
       "       [1., 0., 0., 0., 0., 0., 0., 0., 0., 0.],\n",
       "       [0., 0., 0., 0., 1., 0., 0., 0., 0., 0.],\n",
       "       [0., 1., 0., 0., 0., 0., 0., 0., 0., 0.],\n",
       "       [0., 0., 0., 0., 0., 0., 0., 0., 0., 1.],\n",
       "       [0., 0., 1., 0., 0., 0., 0., 0., 0., 0.],\n",
       "       [0., 1., 0., 0., 0., 0., 0., 0., 0., 0.],\n",
       "       [0., 0., 0., 1., 0., 0., 0., 0., 0., 0.],\n",
       "       [0., 1., 0., 0., 0., 0., 0., 0., 0., 0.],\n",
       "       [0., 0., 0., 0., 1., 0., 0., 0., 0., 0.]], dtype=float32)"
      ]
     },
     "execution_count": 15,
     "metadata": {
      "tags": []
     },
     "output_type": "execute_result"
    }
   ],
   "source": [
    "#Print first 10 elements in the Y_train after converting into catogorical matrices.\n",
    "\n",
    "Y_train[:10]\n"
   ]
  },
  {
   "cell_type": "code",
   "execution_count": 0,
   "metadata": {
    "id": "osKqT73Q9JJB",
    "colab_type": "code",
    "outputId": "a8f83a57-f34f-4140-9580-b45b3cf82ded",
    "colab": {
     "base_uri": "https://localhost:8080/",
     "height": 179.0
    }
   },
   "outputs": [
    {
     "name": "stderr",
     "output_type": "stream",
     "text": [
      "/usr/local/lib/python3.6/dist-packages/ipykernel_launcher.py:6: UserWarning: Update your `Conv2D` call to the Keras 2 API: `Conv2D(8, (3, 3), activation=\"relu\", input_shape=(28, 28, 1...)`\n",
      "  \n",
      "/usr/local/lib/python3.6/dist-packages/ipykernel_launcher.py:9: UserWarning: Update your `Conv2D` call to the Keras 2 API: `Conv2D(16, (3, 3), activation=\"relu\")`\n",
      "  if __name__ == '__main__':\n",
      "/usr/local/lib/python3.6/dist-packages/ipykernel_launcher.py:12: UserWarning: Update your `Conv2D` call to the Keras 2 API: `Conv2D(32, (3, 3), activation=\"relu\")`\n",
      "  if sys.path[0] == '':\n",
      "/usr/local/lib/python3.6/dist-packages/ipykernel_launcher.py:21: UserWarning: Update your `Conv2D` call to the Keras 2 API: `Conv2D(8, (3, 3), activation=\"relu\")`\n",
      "/usr/local/lib/python3.6/dist-packages/ipykernel_launcher.py:24: UserWarning: Update your `Conv2D` call to the Keras 2 API: `Conv2D(32, (3, 3), activation=\"relu\")`\n"
     ]
    }
   ],
   "source": [
    "\n",
    "from keras.layers import Activation\n",
    "model = Sequential()\n",
    "\n",
    " \n",
    "model.add(Convolution2D(8, 3, 3, activation='relu', input_shape=(28,28,1)))#26,3\n",
    "model.add(BatchNormalization())\n",
    "model.add(Dropout(0.1))\n",
    "model.add(Convolution2D(16, 3, 3, activation='relu'))#24,5\n",
    "model.add(BatchNormalization())\n",
    "model.add(Dropout(0.1))\n",
    "model.add(Convolution2D(32, 3, 3, activation='relu'))#22,7\n",
    "model.add(BatchNormalization())\n",
    "model.add(Dropout(0.1))\n",
    "\n",
    "model.add(Convolution2D(8, 1, activation='relu'))#22,7\n",
    "model.add(BatchNormalization())\n",
    "model.add(Dropout(0.25))\n",
    "model.add(MaxPooling2D(2, 2))#11,14\n",
    "\n",
    "model.add(Convolution2D(8, 3, 3, activation='relu'))#9,16\n",
    "model.add(BatchNormalization())\n",
    "model.add(Dropout(0.1))\n",
    "model.add(Convolution2D(32, 3, 3, activation='relu'))#7,18\n",
    "model.add(BatchNormalization())\n",
    "model.add(Dropout(0.1))\n",
    "\n",
    "model.add(Convolution2D(10, 1, activation='relu'))#7,18\n",
    "model.add(Dropout(0.1))\n",
    "model.add(Convolution2D(10, 7))#1,24\n",
    "\n",
    "model.add(Flatten())\n",
    "model.add(Activation('softmax'))"
   ]
  },
  {
   "cell_type": "code",
   "execution_count": 0,
   "metadata": {
    "id": "TzdAYg1k9K7Z",
    "colab_type": "code",
    "outputId": "8696fb05-ba6e-4c5e-cba9-cd0e096f3884",
    "colab": {
     "base_uri": "https://localhost:8080/",
     "height": 995.0
    }
   },
   "outputs": [
    {
     "name": "stdout",
     "output_type": "stream",
     "text": [
      "_________________________________________________________________\n",
      "Layer (type)                 Output Shape              Param #   \n",
      "=================================================================\n",
      "conv2d_106 (Conv2D)          (None, 26, 26, 8)         80        \n",
      "_________________________________________________________________\n",
      "batch_normalization_79 (Batc (None, 26, 26, 8)         32        \n",
      "_________________________________________________________________\n",
      "dropout_92 (Dropout)         (None, 26, 26, 8)         0         \n",
      "_________________________________________________________________\n",
      "conv2d_107 (Conv2D)          (None, 24, 24, 16)        1168      \n",
      "_________________________________________________________________\n",
      "batch_normalization_80 (Batc (None, 24, 24, 16)        64        \n",
      "_________________________________________________________________\n",
      "dropout_93 (Dropout)         (None, 24, 24, 16)        0         \n",
      "_________________________________________________________________\n",
      "conv2d_108 (Conv2D)          (None, 22, 22, 32)        4640      \n",
      "_________________________________________________________________\n",
      "batch_normalization_81 (Batc (None, 22, 22, 32)        128       \n",
      "_________________________________________________________________\n",
      "dropout_94 (Dropout)         (None, 22, 22, 32)        0         \n",
      "_________________________________________________________________\n",
      "conv2d_109 (Conv2D)          (None, 22, 22, 8)         264       \n",
      "_________________________________________________________________\n",
      "batch_normalization_82 (Batc (None, 22, 22, 8)         32        \n",
      "_________________________________________________________________\n",
      "dropout_95 (Dropout)         (None, 22, 22, 8)         0         \n",
      "_________________________________________________________________\n",
      "max_pooling2d_14 (MaxPooling (None, 11, 11, 8)         0         \n",
      "_________________________________________________________________\n",
      "conv2d_110 (Conv2D)          (None, 9, 9, 8)           584       \n",
      "_________________________________________________________________\n",
      "batch_normalization_83 (Batc (None, 9, 9, 8)           32        \n",
      "_________________________________________________________________\n",
      "dropout_96 (Dropout)         (None, 9, 9, 8)           0         \n",
      "_________________________________________________________________\n",
      "conv2d_111 (Conv2D)          (None, 7, 7, 32)          2336      \n",
      "_________________________________________________________________\n",
      "batch_normalization_84 (Batc (None, 7, 7, 32)          128       \n",
      "_________________________________________________________________\n",
      "dropout_97 (Dropout)         (None, 7, 7, 32)          0         \n",
      "_________________________________________________________________\n",
      "conv2d_112 (Conv2D)          (None, 7, 7, 10)          330       \n",
      "_________________________________________________________________\n",
      "dropout_98 (Dropout)         (None, 7, 7, 10)          0         \n",
      "_________________________________________________________________\n",
      "conv2d_113 (Conv2D)          (None, 1, 1, 10)          4910      \n",
      "_________________________________________________________________\n",
      "flatten_14 (Flatten)         (None, 10)                0         \n",
      "_________________________________________________________________\n",
      "activation_14 (Activation)   (None, 10)                0         \n",
      "=================================================================\n",
      "Total params: 14,728\n",
      "Trainable params: 14,520\n",
      "Non-trainable params: 208\n",
      "_________________________________________________________________\n"
     ]
    }
   ],
   "source": [
    "model.summary()"
   ]
  },
  {
   "cell_type": "code",
   "execution_count": 0,
   "metadata": {
    "id": "Zp6SuGrL9M3h",
    "colab_type": "code",
    "colab": {}
   },
   "outputs": [],
   "source": [
    "model.compile(loss='categorical_crossentropy',\n",
    "             optimizer='adam',\n",
    "             metrics=['accuracy'])"
   ]
  },
  {
   "cell_type": "code",
   "execution_count": 0,
   "metadata": {
    "id": "4xWoKhPY9Of5",
    "colab_type": "code",
    "outputId": "982192c6-7f8b-4ea2-96f9-20575fd7c48e",
    "colab": {
     "base_uri": "https://localhost:8080/",
     "height": 3288.0
    }
   },
   "outputs": [
    {
     "name": "stderr",
     "output_type": "stream",
     "text": [
      "/usr/local/lib/python3.6/dist-packages/ipykernel_launcher.py:3: UserWarning: The `nb_epoch` argument in `fit` has been renamed `epochs`.\n",
      "  This is separate from the ipykernel package so we can avoid doing imports until\n"
     ]
    },
    {
     "name": "stdout",
     "output_type": "stream",
     "text": [
      "Train on 60000 samples, validate on 10000 samples\n",
      "Epoch 1/90\n",
      "60000/60000 [==============================] - 11s 181us/step - loss: 0.4212 - acc: 0.8638 - val_loss: 0.0898 - val_acc: 0.9740\n",
      "Epoch 2/90\n",
      "60000/60000 [==============================] - 7s 115us/step - loss: 0.0984 - acc: 0.9693 - val_loss: 0.0644 - val_acc: 0.9807\n",
      "Epoch 3/90\n",
      "60000/60000 [==============================] - 7s 116us/step - loss: 0.0735 - acc: 0.9770 - val_loss: 0.0537 - val_acc: 0.9847\n",
      "Epoch 4/90\n",
      "60000/60000 [==============================] - 8s 126us/step - loss: 0.0612 - acc: 0.9813 - val_loss: 0.0364 - val_acc: 0.9896\n",
      "Epoch 5/90\n",
      "60000/60000 [==============================] - 7s 116us/step - loss: 0.0544 - acc: 0.9828 - val_loss: 0.0354 - val_acc: 0.9892\n",
      "Epoch 6/90\n",
      "60000/60000 [==============================] - 7s 115us/step - loss: 0.0466 - acc: 0.9856 - val_loss: 0.0314 - val_acc: 0.9901\n",
      "Epoch 7/90\n",
      "60000/60000 [==============================] - 7s 115us/step - loss: 0.0439 - acc: 0.9864 - val_loss: 0.0356 - val_acc: 0.9895\n",
      "Epoch 8/90\n",
      "60000/60000 [==============================] - 7s 115us/step - loss: 0.0411 - acc: 0.9871 - val_loss: 0.0328 - val_acc: 0.9894\n",
      "Epoch 9/90\n",
      "60000/60000 [==============================] - 7s 115us/step - loss: 0.0388 - acc: 0.9876 - val_loss: 0.0286 - val_acc: 0.9896\n",
      "Epoch 10/90\n",
      "60000/60000 [==============================] - 7s 115us/step - loss: 0.0357 - acc: 0.9888 - val_loss: 0.0277 - val_acc: 0.9905\n",
      "Epoch 11/90\n",
      "60000/60000 [==============================] - 7s 115us/step - loss: 0.0346 - acc: 0.9889 - val_loss: 0.0273 - val_acc: 0.9906\n",
      "Epoch 12/90\n",
      "60000/60000 [==============================] - 7s 115us/step - loss: 0.0346 - acc: 0.9887 - val_loss: 0.0298 - val_acc: 0.9897\n",
      "Epoch 13/90\n",
      "60000/60000 [==============================] - 7s 115us/step - loss: 0.0313 - acc: 0.9897 - val_loss: 0.0280 - val_acc: 0.9902\n",
      "Epoch 14/90\n",
      "60000/60000 [==============================] - 7s 115us/step - loss: 0.0315 - acc: 0.9901 - val_loss: 0.0246 - val_acc: 0.9914\n",
      "Epoch 15/90\n",
      "60000/60000 [==============================] - 7s 121us/step - loss: 0.0309 - acc: 0.9901 - val_loss: 0.0242 - val_acc: 0.9923\n",
      "Epoch 16/90\n",
      "60000/60000 [==============================] - 7s 123us/step - loss: 0.0289 - acc: 0.9908 - val_loss: 0.0295 - val_acc: 0.9909\n",
      "Epoch 17/90\n",
      "60000/60000 [==============================] - 7s 115us/step - loss: 0.0296 - acc: 0.9903 - val_loss: 0.0254 - val_acc: 0.9923\n",
      "Epoch 18/90\n",
      "60000/60000 [==============================] - 7s 115us/step - loss: 0.0278 - acc: 0.9908 - val_loss: 0.0215 - val_acc: 0.9926\n",
      "Epoch 19/90\n",
      "60000/60000 [==============================] - 7s 115us/step - loss: 0.0274 - acc: 0.9909 - val_loss: 0.0286 - val_acc: 0.9912\n",
      "Epoch 20/90\n",
      "60000/60000 [==============================] - 7s 121us/step - loss: 0.0257 - acc: 0.9914 - val_loss: 0.0263 - val_acc: 0.9915\n",
      "Epoch 21/90\n",
      "60000/60000 [==============================] - 7s 118us/step - loss: 0.0265 - acc: 0.9917 - val_loss: 0.0259 - val_acc: 0.9920\n",
      "Epoch 22/90\n",
      "60000/60000 [==============================] - 7s 115us/step - loss: 0.0250 - acc: 0.9921 - val_loss: 0.0240 - val_acc: 0.9917\n",
      "Epoch 23/90\n",
      "60000/60000 [==============================] - 7s 115us/step - loss: 0.0247 - acc: 0.9920 - val_loss: 0.0221 - val_acc: 0.9925\n",
      "Epoch 24/90\n",
      "60000/60000 [==============================] - 7s 115us/step - loss: 0.0241 - acc: 0.9920 - val_loss: 0.0218 - val_acc: 0.9937\n",
      "Epoch 25/90\n",
      "60000/60000 [==============================] - 7s 115us/step - loss: 0.0238 - acc: 0.9923 - val_loss: 0.0255 - val_acc: 0.9918\n",
      "Epoch 26/90\n",
      "60000/60000 [==============================] - 7s 116us/step - loss: 0.0234 - acc: 0.9922 - val_loss: 0.0215 - val_acc: 0.9932\n",
      "Epoch 27/90\n",
      "60000/60000 [==============================] - 8s 126us/step - loss: 0.0225 - acc: 0.9923 - val_loss: 0.0245 - val_acc: 0.9925\n",
      "Epoch 28/90\n",
      "60000/60000 [==============================] - 7s 116us/step - loss: 0.0228 - acc: 0.9927 - val_loss: 0.0240 - val_acc: 0.9922\n",
      "Epoch 29/90\n",
      "60000/60000 [==============================] - 7s 114us/step - loss: 0.0220 - acc: 0.9931 - val_loss: 0.0266 - val_acc: 0.9925\n",
      "Epoch 30/90\n",
      "60000/60000 [==============================] - 7s 115us/step - loss: 0.0217 - acc: 0.9929 - val_loss: 0.0240 - val_acc: 0.9922\n",
      "Epoch 31/90\n",
      "60000/60000 [==============================] - 7s 115us/step - loss: 0.0208 - acc: 0.9936 - val_loss: 0.0205 - val_acc: 0.9933\n",
      "Epoch 32/90\n",
      "60000/60000 [==============================] - 7s 115us/step - loss: 0.0213 - acc: 0.9926 - val_loss: 0.0210 - val_acc: 0.9933\n",
      "Epoch 33/90\n",
      "60000/60000 [==============================] - 7s 115us/step - loss: 0.0213 - acc: 0.9928 - val_loss: 0.0230 - val_acc: 0.9939\n",
      "Epoch 34/90\n",
      "60000/60000 [==============================] - 7s 115us/step - loss: 0.0204 - acc: 0.9934 - val_loss: 0.0215 - val_acc: 0.9937\n",
      "Epoch 35/90\n",
      "60000/60000 [==============================] - 7s 115us/step - loss: 0.0196 - acc: 0.9935 - val_loss: 0.0214 - val_acc: 0.9935\n",
      "Epoch 36/90\n",
      "60000/60000 [==============================] - 7s 115us/step - loss: 0.0218 - acc: 0.9927 - val_loss: 0.0201 - val_acc: 0.9944\n",
      "Epoch 37/90\n",
      "60000/60000 [==============================] - 7s 114us/step - loss: 0.0188 - acc: 0.9940 - val_loss: 0.0216 - val_acc: 0.9938\n",
      "Epoch 38/90\n",
      "60000/60000 [==============================] - 7s 121us/step - loss: 0.0195 - acc: 0.9934 - val_loss: 0.0218 - val_acc: 0.9931\n",
      "Epoch 39/90\n",
      "60000/60000 [==============================] - 7s 122us/step - loss: 0.0183 - acc: 0.9938 - val_loss: 0.0242 - val_acc: 0.9929\n",
      "Epoch 40/90\n",
      "60000/60000 [==============================] - 7s 114us/step - loss: 0.0196 - acc: 0.9935 - val_loss: 0.0239 - val_acc: 0.9924\n",
      "Epoch 41/90\n",
      "60000/60000 [==============================] - 7s 115us/step - loss: 0.0192 - acc: 0.9937 - val_loss: 0.0235 - val_acc: 0.9927\n",
      "Epoch 42/90\n",
      "60000/60000 [==============================] - 7s 117us/step - loss: 0.0187 - acc: 0.9939 - val_loss: 0.0265 - val_acc: 0.9926\n",
      "Epoch 43/90\n",
      "60000/60000 [==============================] - 8s 129us/step - loss: 0.0193 - acc: 0.9938 - val_loss: 0.0229 - val_acc: 0.9932\n",
      "Epoch 44/90\n",
      "60000/60000 [==============================] - 7s 118us/step - loss: 0.0181 - acc: 0.9943 - val_loss: 0.0203 - val_acc: 0.9944\n",
      "Epoch 45/90\n",
      "60000/60000 [==============================] - 7s 115us/step - loss: 0.0180 - acc: 0.9938 - val_loss: 0.0259 - val_acc: 0.9921\n",
      "Epoch 46/90\n",
      "60000/60000 [==============================] - 7s 115us/step - loss: 0.0189 - acc: 0.9939 - val_loss: 0.0256 - val_acc: 0.9926\n",
      "Epoch 47/90\n",
      "60000/60000 [==============================] - 7s 115us/step - loss: 0.0185 - acc: 0.9936 - val_loss: 0.0268 - val_acc: 0.9920\n",
      "Epoch 48/90\n",
      "60000/60000 [==============================] - 7s 115us/step - loss: 0.0180 - acc: 0.9940 - val_loss: 0.0207 - val_acc: 0.9938\n",
      "Epoch 49/90\n",
      "60000/60000 [==============================] - 7s 117us/step - loss: 0.0168 - acc: 0.9944 - val_loss: 0.0229 - val_acc: 0.9930\n",
      "Epoch 50/90\n",
      "60000/60000 [==============================] - 7s 125us/step - loss: 0.0173 - acc: 0.9943 - val_loss: 0.0228 - val_acc: 0.9934\n",
      "Epoch 51/90\n",
      "60000/60000 [==============================] - 7s 116us/step - loss: 0.0171 - acc: 0.9945 - val_loss: 0.0226 - val_acc: 0.9930\n",
      "Epoch 52/90\n",
      "60000/60000 [==============================] - 7s 115us/step - loss: 0.0173 - acc: 0.9945 - val_loss: 0.0204 - val_acc: 0.9937\n",
      "Epoch 53/90\n",
      "60000/60000 [==============================] - 7s 115us/step - loss: 0.0173 - acc: 0.9939 - val_loss: 0.0232 - val_acc: 0.9933\n",
      "Epoch 54/90\n",
      "60000/60000 [==============================] - 7s 115us/step - loss: 0.0169 - acc: 0.9945 - val_loss: 0.0210 - val_acc: 0.9938\n",
      "Epoch 55/90\n",
      "60000/60000 [==============================] - 7s 115us/step - loss: 0.0171 - acc: 0.9943 - val_loss: 0.0288 - val_acc: 0.9914\n",
      "Epoch 56/90\n",
      "60000/60000 [==============================] - 7s 115us/step - loss: 0.0161 - acc: 0.9946 - val_loss: 0.0227 - val_acc: 0.9933\n",
      "Epoch 57/90\n",
      "60000/60000 [==============================] - 7s 114us/step - loss: 0.0159 - acc: 0.9947 - val_loss: 0.0200 - val_acc: 0.9941\n",
      "Epoch 58/90\n",
      "60000/60000 [==============================] - 7s 115us/step - loss: 0.0169 - acc: 0.9942 - val_loss: 0.0223 - val_acc: 0.9941\n",
      "Epoch 59/90\n",
      "60000/60000 [==============================] - 7s 114us/step - loss: 0.0144 - acc: 0.9949 - val_loss: 0.0209 - val_acc: 0.9941\n",
      "Epoch 60/90\n",
      "60000/60000 [==============================] - 7s 115us/step - loss: 0.0161 - acc: 0.9947 - val_loss: 0.0213 - val_acc: 0.9938\n",
      "Epoch 61/90\n",
      "60000/60000 [==============================] - 7s 121us/step - loss: 0.0162 - acc: 0.9945 - val_loss: 0.0212 - val_acc: 0.9929\n",
      "Epoch 62/90\n",
      "60000/60000 [==============================] - 7s 122us/step - loss: 0.0163 - acc: 0.9946 - val_loss: 0.0221 - val_acc: 0.9938\n",
      "Epoch 63/90\n",
      "60000/60000 [==============================] - 7s 115us/step - loss: 0.0152 - acc: 0.9949 - val_loss: 0.0226 - val_acc: 0.9933\n",
      "Epoch 64/90\n",
      "60000/60000 [==============================] - 7s 123us/step - loss: 0.0148 - acc: 0.9950 - val_loss: 0.0211 - val_acc: 0.9944\n",
      "Epoch 65/90\n",
      "60000/60000 [==============================] - 7s 115us/step - loss: 0.0158 - acc: 0.9946 - val_loss: 0.0215 - val_acc: 0.9945\n",
      "Epoch 66/90\n",
      "60000/60000 [==============================] - 7s 115us/step - loss: 0.0155 - acc: 0.9943 - val_loss: 0.0229 - val_acc: 0.9934\n",
      "Epoch 67/90\n",
      "60000/60000 [==============================] - 7s 116us/step - loss: 0.0154 - acc: 0.9946 - val_loss: 0.0183 - val_acc: 0.9947\n",
      "Epoch 68/90\n",
      "60000/60000 [==============================] - 7s 115us/step - loss: 0.0155 - acc: 0.9947 - val_loss: 0.0215 - val_acc: 0.9932\n",
      "Epoch 69/90\n",
      "60000/60000 [==============================] - 7s 114us/step - loss: 0.0155 - acc: 0.9946 - val_loss: 0.0204 - val_acc: 0.9938\n",
      "Epoch 70/90\n",
      "60000/60000 [==============================] - 7s 115us/step - loss: 0.0160 - acc: 0.9946 - val_loss: 0.0198 - val_acc: 0.9943\n",
      "Epoch 71/90\n",
      "60000/60000 [==============================] - 7s 115us/step - loss: 0.0141 - acc: 0.9954 - val_loss: 0.0214 - val_acc: 0.9939\n",
      "Epoch 72/90\n",
      "60000/60000 [==============================] - 7s 116us/step - loss: 0.0142 - acc: 0.9951 - val_loss: 0.0226 - val_acc: 0.9935\n",
      "Epoch 73/90\n",
      "60000/60000 [==============================] - 7s 125us/step - loss: 0.0149 - acc: 0.9950 - val_loss: 0.0222 - val_acc: 0.9937\n",
      "Epoch 74/90\n",
      "60000/60000 [==============================] - 7s 116us/step - loss: 0.0158 - acc: 0.9949 - val_loss: 0.0224 - val_acc: 0.9939\n",
      "Epoch 75/90\n",
      "60000/60000 [==============================] - 7s 114us/step - loss: 0.0150 - acc: 0.9950 - val_loss: 0.0224 - val_acc: 0.9929\n",
      "Epoch 76/90\n",
      "60000/60000 [==============================] - 7s 115us/step - loss: 0.0134 - acc: 0.9956 - val_loss: 0.0220 - val_acc: 0.9931\n",
      "Epoch 77/90\n",
      "60000/60000 [==============================] - 7s 115us/step - loss: 0.0136 - acc: 0.9952 - val_loss: 0.0213 - val_acc: 0.9941\n",
      "Epoch 78/90\n",
      "60000/60000 [==============================] - 7s 114us/step - loss: 0.0146 - acc: 0.9951 - val_loss: 0.0232 - val_acc: 0.9937\n",
      "Epoch 79/90\n",
      "60000/60000 [==============================] - 7s 115us/step - loss: 0.0143 - acc: 0.9949 - val_loss: 0.0229 - val_acc: 0.9935\n",
      "Epoch 80/90\n",
      "60000/60000 [==============================] - 7s 114us/step - loss: 0.0135 - acc: 0.9954 - val_loss: 0.0220 - val_acc: 0.9939\n",
      "Epoch 81/90\n",
      "60000/60000 [==============================] - 7s 114us/step - loss: 0.0144 - acc: 0.9952 - val_loss: 0.0221 - val_acc: 0.9929\n",
      "Epoch 82/90\n",
      "60000/60000 [==============================] - 7s 115us/step - loss: 0.0139 - acc: 0.9952 - val_loss: 0.0225 - val_acc: 0.9930\n",
      "Epoch 83/90\n",
      "60000/60000 [==============================] - 7s 115us/step - loss: 0.0134 - acc: 0.9952 - val_loss: 0.0215 - val_acc: 0.9936\n",
      "Epoch 84/90\n",
      "60000/60000 [==============================] - 7s 120us/step - loss: 0.0132 - acc: 0.9953 - val_loss: 0.0201 - val_acc: 0.9934\n",
      "Epoch 85/90\n",
      "60000/60000 [==============================] - 7s 122us/step - loss: 0.0140 - acc: 0.9952 - val_loss: 0.0229 - val_acc: 0.9937\n",
      "Epoch 86/90\n",
      "60000/60000 [==============================] - 7s 114us/step - loss: 0.0130 - acc: 0.9955 - val_loss: 0.0208 - val_acc: 0.9930\n",
      "Epoch 87/90\n",
      "60000/60000 [==============================] - 7s 125us/step - loss: 0.0150 - acc: 0.9951 - val_loss: 0.0213 - val_acc: 0.9935\n",
      "Epoch 88/90\n",
      "60000/60000 [==============================] - 7s 123us/step - loss: 0.0130 - acc: 0.9953 - val_loss: 0.0220 - val_acc: 0.9937\n",
      "Epoch 89/90\n",
      "60000/60000 [==============================] - 7s 114us/step - loss: 0.0137 - acc: 0.9952 - val_loss: 0.0192 - val_acc: 0.9943\n",
      "Epoch 90/90\n",
      "60000/60000 [==============================] - 7s 114us/step - loss: 0.0128 - acc: 0.9955 - val_loss: 0.0261 - val_acc: 0.9927\n"
     ]
    },
    {
     "data": {
      "text/plain": [
       "<keras.callbacks.History at 0x7fc62f134f28>"
      ]
     },
     "execution_count": 58,
     "metadata": {
      "tags": []
     },
     "output_type": "execute_result"
    }
   ],
   "source": [
    "# 60k images training images will be trained in batches of 32 images at a time. \n",
    "# One epoch consists of (60k/32 = 1875) forward propagations followed by one backward propagation\n",
    "# Network will be trained for 10 epoches and after the training, model will have the weights.\n",
    "\n",
    "\n",
    "model.fit(X_train, Y_train, batch_size=128, nb_epoch=90, verbose=1, validation_data=(X_test, Y_test))"
   ]
  }
 ],
 "metadata": {
  "colab": {
   "name": "Fourth Iteration",
   "version": "0.3.2",
   "provenance": [],
   "collapsed_sections": []
  },
  "kernelspec": {
   "name": "python3",
   "display_name": "Python 3"
  },
  "accelerator": "GPU"
 },
 "nbformat": 4,
 "nbformat_minor": 0
}
