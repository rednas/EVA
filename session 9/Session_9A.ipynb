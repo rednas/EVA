{
  "nbformat": 4,
  "nbformat_minor": 0,
  "metadata": {
    "colab": {
      "name": "Session 9A",
      "version": "0.3.2",
      "provenance": [],
      "collapsed_sections": []
    },
    "kernelspec": {
      "name": "python3",
      "display_name": "Python 3"
    },
    "accelerator": "GPU"
  },
  "cells": [
    {
      "cell_type": "code",
      "metadata": {
        "id": "KkwXnw9OfHZl",
        "colab_type": "code",
        "colab": {}
      },
      "source": [
        "from keras import backend as K\n",
        "import time\n",
        "import matplotlib.pyplot as plt\n",
        "import numpy as np\n",
        "\n",
        "from keras.models import Sequential\n",
        "from keras.layers.convolutional import Convolution2D, MaxPooling2D\n",
        "from keras.layers import Activation, Flatten, Dense, Dropout\n",
        "from keras.layers.normalization import BatchNormalization\n",
        "from keras.utils import np_utils\n",
        "from keras import regularizers\n",
        "from keras.models import load_model\n",
        "\n",
        "from keras.applications.vgg16 import preprocess_input, decode_predictions\n",
        "from keras.preprocessing import image\n",
        "import keras.backend as K\n",
        "import numpy as np\n",
        "import cv2\n",
        "from google.colab.patches import cv2_imshow"
      ],
      "execution_count": 0,
      "outputs": []
    },
    {
      "cell_type": "code",
      "metadata": {
        "id": "PzTPwT9dSHsX",
        "colab_type": "code",
        "outputId": "3a3a8777-9a89-4fc4-bef9-3b8cbc5f820a",
        "colab": {
          "base_uri": "https://localhost:8080/",
          "height": 52
        }
      },
      "source": [
        "!pip install -U -q PyDrive\n",
        "\n",
        "from pydrive.auth import GoogleAuth\n",
        "from pydrive.drive import GoogleDrive\n",
        "from google.colab import auth\n",
        "from oauth2client.client import GoogleCredentials\n",
        "\n",
        "# 1. Authenticate and create the PyDrive client.\n",
        "auth.authenticate_user()\n",
        "gauth = GoogleAuth()\n",
        "gauth.credentials = GoogleCredentials.get_application_default()\n",
        "drive = GoogleDrive(gauth)"
      ],
      "execution_count": 0,
      "outputs": [
        {
          "output_type": "stream",
          "text": [
            "\u001b[?25l\r\u001b[K     |▎                               | 10kB 18.8MB/s eta 0:00:01\r\u001b[K     |▋                               | 20kB 1.8MB/s eta 0:00:01\r\u001b[K     |█                               | 30kB 2.7MB/s eta 0:00:01\r\u001b[K     |█▎                              | 40kB 1.7MB/s eta 0:00:01\r\u001b[K     |█▋                              | 51kB 2.1MB/s eta 0:00:01\r\u001b[K     |██                              | 61kB 2.5MB/s eta 0:00:01\r\u001b[K     |██▎                             | 71kB 2.9MB/s eta 0:00:01\r\u001b[K     |██▋                             | 81kB 3.3MB/s eta 0:00:01\r\u001b[K     |███                             | 92kB 3.7MB/s eta 0:00:01\r\u001b[K     |███▎                            | 102kB 2.8MB/s eta 0:00:01\r\u001b[K     |███▋                            | 112kB 2.8MB/s eta 0:00:01\r\u001b[K     |████                            | 122kB 2.8MB/s eta 0:00:01\r\u001b[K     |████▎                           | 133kB 2.8MB/s eta 0:00:01\r\u001b[K     |████▋                           | 143kB 2.8MB/s eta 0:00:01\r\u001b[K     |█████                           | 153kB 2.8MB/s eta 0:00:01\r\u001b[K     |█████▎                          | 163kB 2.8MB/s eta 0:00:01\r\u001b[K     |█████▋                          | 174kB 2.8MB/s eta 0:00:01\r\u001b[K     |██████                          | 184kB 2.8MB/s eta 0:00:01\r\u001b[K     |██████▎                         | 194kB 2.8MB/s eta 0:00:01\r\u001b[K     |██████▋                         | 204kB 2.8MB/s eta 0:00:01\r\u001b[K     |███████                         | 215kB 2.8MB/s eta 0:00:01\r\u001b[K     |███████▎                        | 225kB 2.8MB/s eta 0:00:01\r\u001b[K     |███████▋                        | 235kB 2.8MB/s eta 0:00:01\r\u001b[K     |████████                        | 245kB 2.8MB/s eta 0:00:01\r\u001b[K     |████████▎                       | 256kB 2.8MB/s eta 0:00:01\r\u001b[K     |████████▋                       | 266kB 2.8MB/s eta 0:00:01\r\u001b[K     |█████████                       | 276kB 2.8MB/s eta 0:00:01\r\u001b[K     |█████████▎                      | 286kB 2.8MB/s eta 0:00:01\r\u001b[K     |█████████▋                      | 296kB 2.8MB/s eta 0:00:01\r\u001b[K     |██████████                      | 307kB 2.8MB/s eta 0:00:01\r\u001b[K     |██████████▎                     | 317kB 2.8MB/s eta 0:00:01\r\u001b[K     |██████████▋                     | 327kB 2.8MB/s eta 0:00:01\r\u001b[K     |███████████                     | 337kB 2.8MB/s eta 0:00:01\r\u001b[K     |███████████▎                    | 348kB 2.8MB/s eta 0:00:01\r\u001b[K     |███████████▋                    | 358kB 2.8MB/s eta 0:00:01\r\u001b[K     |████████████                    | 368kB 2.8MB/s eta 0:00:01\r\u001b[K     |████████████▎                   | 378kB 2.8MB/s eta 0:00:01\r\u001b[K     |████████████▋                   | 389kB 2.8MB/s eta 0:00:01\r\u001b[K     |█████████████                   | 399kB 2.8MB/s eta 0:00:01\r\u001b[K     |█████████████▎                  | 409kB 2.8MB/s eta 0:00:01\r\u001b[K     |█████████████▋                  | 419kB 2.8MB/s eta 0:00:01\r\u001b[K     |██████████████                  | 430kB 2.8MB/s eta 0:00:01\r\u001b[K     |██████████████▎                 | 440kB 2.8MB/s eta 0:00:01\r\u001b[K     |██████████████▋                 | 450kB 2.8MB/s eta 0:00:01\r\u001b[K     |███████████████                 | 460kB 2.8MB/s eta 0:00:01\r\u001b[K     |███████████████▎                | 471kB 2.8MB/s eta 0:00:01\r\u001b[K     |███████████████▋                | 481kB 2.8MB/s eta 0:00:01\r\u001b[K     |████████████████                | 491kB 2.8MB/s eta 0:00:01\r\u001b[K     |████████████████▎               | 501kB 2.8MB/s eta 0:00:01\r\u001b[K     |████████████████▋               | 512kB 2.8MB/s eta 0:00:01\r\u001b[K     |█████████████████               | 522kB 2.8MB/s eta 0:00:01\r\u001b[K     |█████████████████▎              | 532kB 2.8MB/s eta 0:00:01\r\u001b[K     |█████████████████▋              | 542kB 2.8MB/s eta 0:00:01\r\u001b[K     |██████████████████              | 552kB 2.8MB/s eta 0:00:01\r\u001b[K     |██████████████████▎             | 563kB 2.8MB/s eta 0:00:01\r\u001b[K     |██████████████████▋             | 573kB 2.8MB/s eta 0:00:01\r\u001b[K     |███████████████████             | 583kB 2.8MB/s eta 0:00:01\r\u001b[K     |███████████████████▎            | 593kB 2.8MB/s eta 0:00:01\r\u001b[K     |███████████████████▋            | 604kB 2.8MB/s eta 0:00:01\r\u001b[K     |████████████████████            | 614kB 2.8MB/s eta 0:00:01\r\u001b[K     |████████████████████▎           | 624kB 2.8MB/s eta 0:00:01\r\u001b[K     |████████████████████▋           | 634kB 2.8MB/s eta 0:00:01\r\u001b[K     |█████████████████████           | 645kB 2.8MB/s eta 0:00:01\r\u001b[K     |█████████████████████▎          | 655kB 2.8MB/s eta 0:00:01\r\u001b[K     |█████████████████████▋          | 665kB 2.8MB/s eta 0:00:01\r\u001b[K     |██████████████████████          | 675kB 2.8MB/s eta 0:00:01\r\u001b[K     |██████████████████████▎         | 686kB 2.8MB/s eta 0:00:01\r\u001b[K     |██████████████████████▋         | 696kB 2.8MB/s eta 0:00:01\r\u001b[K     |███████████████████████         | 706kB 2.8MB/s eta 0:00:01\r\u001b[K     |███████████████████████▎        | 716kB 2.8MB/s eta 0:00:01\r\u001b[K     |███████████████████████▋        | 727kB 2.8MB/s eta 0:00:01\r\u001b[K     |████████████████████████        | 737kB 2.8MB/s eta 0:00:01\r\u001b[K     |████████████████████████▎       | 747kB 2.8MB/s eta 0:00:01\r\u001b[K     |████████████████████████▋       | 757kB 2.8MB/s eta 0:00:01\r\u001b[K     |████████████████████████▉       | 768kB 2.8MB/s eta 0:00:01\r\u001b[K     |█████████████████████████▏      | 778kB 2.8MB/s eta 0:00:01\r\u001b[K     |█████████████████████████▌      | 788kB 2.8MB/s eta 0:00:01\r\u001b[K     |█████████████████████████▉      | 798kB 2.8MB/s eta 0:00:01\r\u001b[K     |██████████████████████████▏     | 808kB 2.8MB/s eta 0:00:01\r\u001b[K     |██████████████████████████▌     | 819kB 2.8MB/s eta 0:00:01\r\u001b[K     |██████████████████████████▉     | 829kB 2.8MB/s eta 0:00:01\r\u001b[K     |███████████████████████████▏    | 839kB 2.8MB/s eta 0:00:01\r\u001b[K     |███████████████████████████▌    | 849kB 2.8MB/s eta 0:00:01\r\u001b[K     |███████████████████████████▉    | 860kB 2.8MB/s eta 0:00:01\r\u001b[K     |████████████████████████████▏   | 870kB 2.8MB/s eta 0:00:01\r\u001b[K     |████████████████████████████▌   | 880kB 2.8MB/s eta 0:00:01\r\u001b[K     |████████████████████████████▉   | 890kB 2.8MB/s eta 0:00:01\r\u001b[K     |█████████████████████████████▏  | 901kB 2.8MB/s eta 0:00:01\r\u001b[K     |█████████████████████████████▌  | 911kB 2.8MB/s eta 0:00:01\r\u001b[K     |█████████████████████████████▉  | 921kB 2.8MB/s eta 0:00:01\r\u001b[K     |██████████████████████████████▏ | 931kB 2.8MB/s eta 0:00:01\r\u001b[K     |██████████████████████████████▌ | 942kB 2.8MB/s eta 0:00:01\r\u001b[K     |██████████████████████████████▉ | 952kB 2.8MB/s eta 0:00:01\r\u001b[K     |███████████████████████████████▏| 962kB 2.8MB/s eta 0:00:01\r\u001b[K     |███████████████████████████████▌| 972kB 2.8MB/s eta 0:00:01\r\u001b[K     |███████████████████████████████▉| 983kB 2.8MB/s eta 0:00:01\r\u001b[K     |████████████████████████████████| 993kB 2.8MB/s \n",
            "\u001b[?25h  Building wheel for PyDrive (setup.py) ... \u001b[?25l\u001b[?25hdone\n"
          ],
          "name": "stdout"
        }
      ]
    },
    {
      "cell_type": "code",
      "metadata": {
        "id": "NHpnoCHZfO8g",
        "colab_type": "code",
        "outputId": "2e3430f8-1624-46b5-98b0-8271f234dc5e",
        "colab": {
          "base_uri": "https://localhost:8080/",
          "height": 52
        }
      },
      "source": [
        "from keras.datasets import cifar10\n",
        "(train_features, train_labels), (test_features, test_labels) = cifar10.load_data()\n",
        "num_train,img_rows, img_cols,img_channels =  train_features.shape\n",
        "num_test, _, _, _ =  test_features.shape\n",
        "num_classes = len(np.unique(train_labels))"
      ],
      "execution_count": 0,
      "outputs": [
        {
          "output_type": "stream",
          "text": [
            "Downloading data from https://www.cs.toronto.edu/~kriz/cifar-10-python.tar.gz\n",
            "170500096/170498071 [==============================] - 2s 0us/step\n"
          ],
          "name": "stdout"
        }
      ]
    },
    {
      "cell_type": "code",
      "metadata": {
        "id": "f3BXR3a2jSEJ",
        "colab_type": "code",
        "outputId": "4342b74e-1d8e-426f-e0b5-ba1b1063b382",
        "colab": {
          "base_uri": "https://localhost:8080/",
          "height": 208
        }
      },
      "source": [
        "!wget https://www.cs.toronto.edu/~kriz/cifar-10-python.tar.gz"
      ],
      "execution_count": 0,
      "outputs": [
        {
          "output_type": "stream",
          "text": [
            "--2019-06-29 14:04:36--  https://www.cs.toronto.edu/~kriz/cifar-10-python.tar.gz\n",
            "Resolving www.cs.toronto.edu (www.cs.toronto.edu)... 128.100.3.30\n",
            "Connecting to www.cs.toronto.edu (www.cs.toronto.edu)|128.100.3.30|:443... connected.\n",
            "HTTP request sent, awaiting response... 200 OK\n",
            "Length: 170498071 (163M) [application/x-gzip]\n",
            "Saving to: ‘cifar-10-python.tar.gz’\n",
            "\n",
            "cifar-10-python.tar 100%[===================>] 162.60M  75.9MB/s    in 2.1s    \n",
            "\n",
            "2019-06-29 14:04:38 (75.9 MB/s) - ‘cifar-10-python.tar.gz’ saved [170498071/170498071]\n",
            "\n"
          ],
          "name": "stdout"
        }
      ]
    },
    {
      "cell_type": "code",
      "metadata": {
        "id": "n-zK0Im7jZq9",
        "colab_type": "code",
        "colab": {}
      },
      "source": [
        "!gunzip cifar-10-python.tar.gz"
      ],
      "execution_count": 0,
      "outputs": []
    },
    {
      "cell_type": "code",
      "metadata": {
        "id": "WG17nysLjjhd",
        "colab_type": "code",
        "colab": {}
      },
      "source": [
        "!tar xf cifar-10-python.tar"
      ],
      "execution_count": 0,
      "outputs": []
    },
    {
      "cell_type": "code",
      "metadata": {
        "id": "NPXDKcyxsktH",
        "colab_type": "code",
        "colab": {}
      },
      "source": [
        "def unpickle(file):\n",
        "    import pickle as cPickle\n",
        "    with open(file, 'rb') as fo:\n",
        "        #dict = cPickle.load(fo)\n",
        "        dict = cPickle.load(fo, encoding='latin1')\n",
        "    return dict\n",
        "  \n"
      ],
      "execution_count": 0,
      "outputs": []
    },
    {
      "cell_type": "code",
      "metadata": {
        "id": "924idVU_vVuC",
        "colab_type": "code",
        "colab": {}
      },
      "source": [
        "!mkdir cifar10_test_images"
      ],
      "execution_count": 0,
      "outputs": []
    },
    {
      "cell_type": "code",
      "metadata": {
        "id": "14HyBUXdfS6G",
        "colab_type": "code",
        "outputId": "7081d70b-1e37-4760-c1a0-b5e1e8979b9d",
        "colab": {
          "base_uri": "https://localhost:8080/",
          "height": 213
        }
      },
      "source": [
        "class_names = ['airplane','automobile','bird','cat','deer',\n",
        "               'dog','frog','horse','ship','truck']\n",
        "fig = plt.figure(figsize=(8,3))\n",
        "for i in range(num_classes):\n",
        "    ax = fig.add_subplot(2, 5, 1 + i, xticks=[], yticks=[])\n",
        "    idx = np.where(train_labels[:]==i)[0]\n",
        "    features_idx = train_features[idx,::]\n",
        "    img_num = np.random.randint(features_idx.shape[0])\n",
        "    im = features_idx[img_num]\n",
        "    ax.set_title(class_names[i])\n",
        "    plt.imshow(im)\n",
        "plt.show()"
      ],
      "execution_count": 0,
      "outputs": [
        {
          "output_type": "display_data",
          "data": {
            "image/png": "[encoded data removed]",
            "text/plain": [
              "<Figure size 576x216 with 10 Axes>"
            ]
          },
          "metadata": {
            "tags": []
          }
        }
      ]
    },
    {
      "cell_type": "code",
      "metadata": {
        "id": "bmfsk76-fadV",
        "colab_type": "code",
        "colab": {}
      },
      "source": [
        "def plot_model_history(model_history):\n",
        "    fig, axs = plt.subplots(1,2,figsize=(15,5))\n",
        "    # summarize history for accuracy\n",
        "    axs[0].plot(range(1,len(model_history.history['acc'])+1),model_history.history['acc'])\n",
        "    axs[0].plot(range(1,len(model_history.history['val_acc'])+1),model_history.history['val_acc'])\n",
        "    axs[0].set_title('Model Accuracy')\n",
        "    axs[0].set_ylabel('Accuracy')\n",
        "    axs[0].set_xlabel('Epoch')\n",
        "    axs[0].set_xticks(np.arange(1,len(model_history.history['acc'])+1),len(model_history.history['acc'])/10)\n",
        "    axs[0].legend(['train', 'val'], loc='best')\n",
        "    # summarize history for loss\n",
        "    axs[1].plot(range(1,len(model_history.history['loss'])+1),model_history.history['loss'])\n",
        "    axs[1].plot(range(1,len(model_history.history['val_loss'])+1),model_history.history['val_loss'])\n",
        "    axs[1].set_title('Model Loss')\n",
        "    axs[1].set_ylabel('Loss')\n",
        "    axs[1].set_xlabel('Epoch')\n",
        "    axs[1].set_xticks(np.arange(1,len(model_history.history['loss'])+1),len(model_history.history['loss'])/10)\n",
        "    axs[1].legend(['train', 'val'], loc='best')\n",
        "    plt.show()"
      ],
      "execution_count": 0,
      "outputs": []
    },
    {
      "cell_type": "code",
      "metadata": {
        "id": "YJMT4rjgfdZz",
        "colab_type": "code",
        "colab": {}
      },
      "source": [
        "def accuracy(test_x, test_y, model):\n",
        "    result = model.predict(test_x)\n",
        "    predicted_class = np.argmax(result, axis=1)\n",
        "    true_class = np.argmax(test_y, axis=1)\n",
        "    num_correct = np.sum(predicted_class == true_class) \n",
        "    accuracy = float(num_correct)/result.shape[0]\n",
        "    return (accuracy * 100)"
      ],
      "execution_count": 0,
      "outputs": []
    },
    {
      "cell_type": "code",
      "metadata": {
        "id": "zoxrp__iaV_x",
        "colab_type": "code",
        "colab": {}
      },
      "source": [
        "#Convert the images in training dataset and test set into multidimentional arrays of their pixel intensity values.\n",
        "\n",
        "train_features = train_features.reshape(train_features.shape[0], 32, 32,3)\n",
        "test_features = test_features.reshape(test_features.shape[0], 32, 32,3)"
      ],
      "execution_count": 0,
      "outputs": []
    },
    {
      "cell_type": "code",
      "metadata": {
        "id": "T5c5nDvxm6zR",
        "colab_type": "code",
        "colab": {}
      },
      "source": [
        "train_features = train_features.astype('float32')/255\n",
        "test_features = test_features.astype('float32')/255\n",
        "# convert class labels to binary class labels\n",
        "train_labels = np_utils.to_categorical(train_labels, num_classes)\n",
        "test_labels = np_utils.to_categorical(test_labels, num_classes)"
      ],
      "execution_count": 0,
      "outputs": []
    },
    {
      "cell_type": "code",
      "metadata": {
        "id": "cSOb2lkJfhVq",
        "colab_type": "code",
        "outputId": "409f582d-3f0f-4560-c764-0e61e008d852",
        "colab": {
          "base_uri": "https://localhost:8080/",
          "height": 159
        }
      },
      "source": [
        "# Define the model\n",
        "model = Sequential()\n",
        "model.add(Convolution2D(64, 3, 3, border_mode='same', input_shape=(32, 32, 3)))#32,3\n",
        "model.add(BatchNormalization())\n",
        "model.add(Activation('relu'))\n",
        "\n",
        "model.add(Convolution2D(128, 3, 3, border_mode='same'))#32,5\n",
        "model.add(BatchNormalization())\n",
        "model.add(Activation('relu'))\n",
        "\n",
        "\n",
        "# Transistion block 1\n",
        "model.add(Convolution2D(64, 1))#32,5\n",
        "model.add(BatchNormalization())\n",
        "model.add(Activation('relu'))\n",
        "model.add(MaxPooling2D(pool_size=(2, 2)))#16,10\n",
        "model.add(Dropout(0.25))\n",
        "\n",
        "\n",
        "# Keeping the 'border = same' to achieve desired Receptive field towards the end\n",
        "model.add(Convolution2D(64, 3, 3, border_mode='same'))#16,12\n",
        "model.add(BatchNormalization())\n",
        "model.add(Activation('relu'))\n",
        "\n",
        "model.add(Convolution2D(128, 3, 3, border_mode='same'))#16,14\n",
        "model.add(BatchNormalization())\n",
        "model.add(Activation('relu'))\n",
        "\n",
        "\n",
        "# Transistion block 2\n",
        "model.add(Convolution2D(64, 1))#16,14\n",
        "model.add(BatchNormalization())\n",
        "model.add(Activation('relu'))\n",
        "model.add(MaxPooling2D(pool_size=(2, 2)))#8,28\n",
        "model.add(Dropout(0.25))\n",
        "\n",
        "model.add(Convolution2D(64, 3, 3, border_mode='same'))#8,30\n",
        "model.add(BatchNormalization())\n",
        "model.add(Activation('relu'))\n",
        "\n",
        "model.add(Convolution2D(10, 1))#8,30\n",
        "# Once the Resolution is less than 9x9, convolution with 3x3 will not cover all the pixels.\n",
        "# So convolve with whatever is the size of the input channel i.e. 8x8 convolution\n",
        "model.add(Convolution2D(10, 8))#8,38\n",
        "\n",
        "\n",
        "model.add(Flatten())\n",
        "model.add(Activation('softmax'))\n",
        "\n",
        "# Compile the model\n",
        "model.compile(optimizer='adam', loss='categorical_crossentropy', metrics=['accuracy'])\n",
        "\n"
      ],
      "execution_count": 0,
      "outputs": [
        {
          "output_type": "stream",
          "text": [
            "/usr/local/lib/python3.6/dist-packages/ipykernel_launcher.py:2: UserWarning: Update your `Conv2D` call to the Keras 2 API: `Conv2D(64, (3, 3), input_shape=(32, 32, 3..., padding=\"same\")`\n",
            "  \n",
            "/usr/local/lib/python3.6/dist-packages/ipykernel_launcher.py:6: UserWarning: Update your `Conv2D` call to the Keras 2 API: `Conv2D(128, (3, 3), padding=\"same\")`\n",
            "  \n",
            "/usr/local/lib/python3.6/dist-packages/ipykernel_launcher.py:20: UserWarning: Update your `Conv2D` call to the Keras 2 API: `Conv2D(64, (3, 3), padding=\"same\")`\n",
            "/usr/local/lib/python3.6/dist-packages/ipykernel_launcher.py:24: UserWarning: Update your `Conv2D` call to the Keras 2 API: `Conv2D(128, (3, 3), padding=\"same\")`\n",
            "/usr/local/lib/python3.6/dist-packages/ipykernel_launcher.py:36: UserWarning: Update your `Conv2D` call to the Keras 2 API: `Conv2D(64, (3, 3), padding=\"same\")`\n"
          ],
          "name": "stderr"
        }
      ]
    },
    {
      "cell_type": "code",
      "metadata": {
        "id": "wvVs5tC8mR6Q",
        "colab_type": "code",
        "outputId": "96502a43-6229-4c8a-beb9-0b46edef55d1",
        "colab": {
          "base_uri": "https://localhost:8080/",
          "height": 1000
        }
      },
      "source": [
        "model.summary()"
      ],
      "execution_count": 0,
      "outputs": [
        {
          "output_type": "stream",
          "text": [
            "_________________________________________________________________\n",
            "Layer (type)                 Output Shape              Param #   \n",
            "=================================================================\n",
            "conv2d_26 (Conv2D)           (None, 32, 32, 64)        1792      \n",
            "_________________________________________________________________\n",
            "batch_normalization_22 (Batc (None, 32, 32, 64)        256       \n",
            "_________________________________________________________________\n",
            "activation_25 (Activation)   (None, 32, 32, 64)        0         \n",
            "_________________________________________________________________\n",
            "conv2d_27 (Conv2D)           (None, 32, 32, 128)       73856     \n",
            "_________________________________________________________________\n",
            "batch_normalization_23 (Batc (None, 32, 32, 128)       512       \n",
            "_________________________________________________________________\n",
            "activation_26 (Activation)   (None, 32, 32, 128)       0         \n",
            "_________________________________________________________________\n",
            "conv2d_28 (Conv2D)           (None, 32, 32, 64)        8256      \n",
            "_________________________________________________________________\n",
            "batch_normalization_24 (Batc (None, 32, 32, 64)        256       \n",
            "_________________________________________________________________\n",
            "activation_27 (Activation)   (None, 32, 32, 64)        0         \n",
            "_________________________________________________________________\n",
            "max_pooling2d_7 (MaxPooling2 (None, 16, 16, 64)        0         \n",
            "_________________________________________________________________\n",
            "dropout_7 (Dropout)          (None, 16, 16, 64)        0         \n",
            "_________________________________________________________________\n",
            "conv2d_29 (Conv2D)           (None, 16, 16, 64)        36928     \n",
            "_________________________________________________________________\n",
            "batch_normalization_25 (Batc (None, 16, 16, 64)        256       \n",
            "_________________________________________________________________\n",
            "activation_28 (Activation)   (None, 16, 16, 64)        0         \n",
            "_________________________________________________________________\n",
            "conv2d_30 (Conv2D)           (None, 16, 16, 128)       73856     \n",
            "_________________________________________________________________\n",
            "batch_normalization_26 (Batc (None, 16, 16, 128)       512       \n",
            "_________________________________________________________________\n",
            "activation_29 (Activation)   (None, 16, 16, 128)       0         \n",
            "_________________________________________________________________\n",
            "conv2d_31 (Conv2D)           (None, 16, 16, 64)        8256      \n",
            "_________________________________________________________________\n",
            "batch_normalization_27 (Batc (None, 16, 16, 64)        256       \n",
            "_________________________________________________________________\n",
            "activation_30 (Activation)   (None, 16, 16, 64)        0         \n",
            "_________________________________________________________________\n",
            "max_pooling2d_8 (MaxPooling2 (None, 8, 8, 64)          0         \n",
            "_________________________________________________________________\n",
            "dropout_8 (Dropout)          (None, 8, 8, 64)          0         \n",
            "_________________________________________________________________\n",
            "conv2d_32 (Conv2D)           (None, 8, 8, 64)          36928     \n",
            "_________________________________________________________________\n",
            "batch_normalization_28 (Batc (None, 8, 8, 64)          256       \n",
            "_________________________________________________________________\n",
            "activation_31 (Activation)   (None, 8, 8, 64)          0         \n",
            "_________________________________________________________________\n",
            "conv2d_33 (Conv2D)           (None, 8, 8, 10)          650       \n",
            "_________________________________________________________________\n",
            "conv2d_34 (Conv2D)           (None, 1, 1, 10)          6410      \n",
            "_________________________________________________________________\n",
            "flatten_4 (Flatten)          (None, 10)                0         \n",
            "_________________________________________________________________\n",
            "activation_32 (Activation)   (None, 10)                0         \n",
            "=================================================================\n",
            "Total params: 249,236\n",
            "Trainable params: 248,084\n",
            "Non-trainable params: 1,152\n",
            "_________________________________________________________________\n"
          ],
          "name": "stdout"
        }
      ]
    },
    {
      "cell_type": "code",
      "metadata": {
        "id": "5oK_V7WyfsXX",
        "colab_type": "code",
        "outputId": "1db6785f-d06f-4a4c-9e90-f4fb45cda3e7",
        "colab": {
          "base_uri": "https://localhost:8080/",
          "height": 1000
        }
      },
      "source": [
        "from keras.preprocessing.image import ImageDataGenerator\n",
        "\n",
        "datagen = ImageDataGenerator(zoom_range=0.0, \n",
        "                             horizontal_flip=False)\n",
        "\n",
        "\n",
        "# train the model\n",
        "start = time.time()\n",
        "# Train the model\n",
        "model_info = model.fit_generator(datagen.flow(train_features, train_labels, batch_size = 128),\n",
        "                                 samples_per_epoch = train_features.shape[0], nb_epoch = 100, \n",
        "                                 validation_data = (test_features, test_labels), verbose=1)\n",
        "end = time.time()\n",
        "\n",
        "# compute test accuracy\n",
        "print (\"Accuracy on test data is: %0.2f\"%accuracy(test_features, test_labels, model))"
      ],
      "execution_count": 0,
      "outputs": [
        {
          "output_type": "stream",
          "text": [
            "/usr/local/lib/python3.6/dist-packages/ipykernel_launcher.py:12: UserWarning: The semantics of the Keras 2 argument `steps_per_epoch` is not the same as the Keras 1 argument `samples_per_epoch`. `steps_per_epoch` is the number of batches to draw from the generator at each epoch. Basically steps_per_epoch = samples_per_epoch/batch_size. Similarly `nb_val_samples`->`validation_steps` and `val_samples`->`steps` arguments have changed. Update your method calls accordingly.\n",
            "  if sys.path[0] == '':\n",
            "/usr/local/lib/python3.6/dist-packages/ipykernel_launcher.py:12: UserWarning: Update your `fit_generator` call to the Keras 2 API: `fit_generator(<keras_pre..., validation_data=(array([[[..., verbose=1, steps_per_epoch=390, epochs=100)`\n",
            "  if sys.path[0] == '':\n",
            "W0629 11:41:00.615566 139842710988672 deprecation.py:323] From /usr/local/lib/python3.6/dist-packages/tensorflow/python/ops/math_grad.py:1250: add_dispatch_support.<locals>.wrapper (from tensorflow.python.ops.array_ops) is deprecated and will be removed in a future version.\n",
            "Instructions for updating:\n",
            "Use tf.where in 2.0, which has the same broadcast rule as np.where\n"
          ],
          "name": "stderr"
        },
        {
          "output_type": "stream",
          "text": [
            "Epoch 1/100\n",
            "390/390 [==============================] - 22s 57ms/step - loss: 1.3989 - acc: 0.4897 - val_loss: 1.4289 - val_acc: 0.5251\n",
            "Epoch 2/100\n",
            "390/390 [==============================] - 19s 48ms/step - loss: 0.9607 - acc: 0.6580 - val_loss: 0.9787 - val_acc: 0.6631\n",
            "Epoch 3/100\n",
            "390/390 [==============================] - 19s 48ms/step - loss: 0.7849 - acc: 0.7236 - val_loss: 0.9352 - val_acc: 0.6814\n",
            "Epoch 4/100\n",
            "390/390 [==============================] - 19s 48ms/step - loss: 0.6923 - acc: 0.7574 - val_loss: 1.0980 - val_acc: 0.6623\n",
            "Epoch 5/100\n",
            "390/390 [==============================] - 19s 48ms/step - loss: 0.6304 - acc: 0.7769 - val_loss: 0.9021 - val_acc: 0.6960\n",
            "Epoch 6/100\n",
            "390/390 [==============================] - 19s 48ms/step - loss: 0.5811 - acc: 0.7966 - val_loss: 0.9515 - val_acc: 0.6761\n",
            "Epoch 7/100\n",
            "390/390 [==============================] - 19s 48ms/step - loss: 0.5437 - acc: 0.8081 - val_loss: 0.6808 - val_acc: 0.7631\n",
            "Epoch 8/100\n",
            "390/390 [==============================] - 19s 48ms/step - loss: 0.4996 - acc: 0.8245 - val_loss: 0.6401 - val_acc: 0.7817\n",
            "Epoch 9/100\n",
            "390/390 [==============================] - 19s 48ms/step - loss: 0.4685 - acc: 0.8348 - val_loss: 0.7782 - val_acc: 0.7437\n",
            "Epoch 10/100\n",
            "390/390 [==============================] - 19s 48ms/step - loss: 0.4460 - acc: 0.8444 - val_loss: 0.6226 - val_acc: 0.7858\n",
            "Epoch 11/100\n",
            "390/390 [==============================] - 19s 48ms/step - loss: 0.4234 - acc: 0.8515 - val_loss: 0.6498 - val_acc: 0.7811\n",
            "Epoch 12/100\n",
            "390/390 [==============================] - 19s 48ms/step - loss: 0.3961 - acc: 0.8613 - val_loss: 0.7582 - val_acc: 0.7593\n",
            "Epoch 13/100\n",
            "390/390 [==============================] - 19s 48ms/step - loss: 0.3766 - acc: 0.8651 - val_loss: 0.6124 - val_acc: 0.7984\n",
            "Epoch 14/100\n",
            "390/390 [==============================] - 19s 48ms/step - loss: 0.3577 - acc: 0.8738 - val_loss: 0.6406 - val_acc: 0.7972\n",
            "Epoch 15/100\n",
            "390/390 [==============================] - 19s 48ms/step - loss: 0.3382 - acc: 0.8799 - val_loss: 0.5688 - val_acc: 0.8092\n",
            "Epoch 16/100\n",
            "390/390 [==============================] - 19s 48ms/step - loss: 0.3234 - acc: 0.8838 - val_loss: 0.6194 - val_acc: 0.8017\n",
            "Epoch 17/100\n",
            "390/390 [==============================] - 19s 48ms/step - loss: 0.3103 - acc: 0.8898 - val_loss: 0.5799 - val_acc: 0.8155\n",
            "Epoch 18/100\n",
            "390/390 [==============================] - 19s 48ms/step - loss: 0.2996 - acc: 0.8943 - val_loss: 0.6659 - val_acc: 0.7898\n",
            "Epoch 19/100\n",
            "390/390 [==============================] - 19s 48ms/step - loss: 0.2848 - acc: 0.8982 - val_loss: 0.5934 - val_acc: 0.8154\n",
            "Epoch 20/100\n",
            "390/390 [==============================] - 19s 48ms/step - loss: 0.2716 - acc: 0.9032 - val_loss: 0.8421 - val_acc: 0.7659\n",
            "Epoch 21/100\n",
            "390/390 [==============================] - 19s 48ms/step - loss: 0.2617 - acc: 0.9064 - val_loss: 0.6043 - val_acc: 0.8143\n",
            "Epoch 22/100\n",
            "390/390 [==============================] - 19s 48ms/step - loss: 0.2573 - acc: 0.9069 - val_loss: 0.7089 - val_acc: 0.7838\n",
            "Epoch 23/100\n",
            "390/390 [==============================] - 19s 48ms/step - loss: 0.2423 - acc: 0.9127 - val_loss: 0.5835 - val_acc: 0.8185\n",
            "Epoch 24/100\n",
            "390/390 [==============================] - 19s 48ms/step - loss: 0.2365 - acc: 0.9153 - val_loss: 0.6233 - val_acc: 0.8053\n",
            "Epoch 25/100\n",
            "390/390 [==============================] - 19s 48ms/step - loss: 0.2257 - acc: 0.9189 - val_loss: 0.5796 - val_acc: 0.8328\n",
            "Epoch 26/100\n",
            "390/390 [==============================] - 19s 48ms/step - loss: 0.2183 - acc: 0.9199 - val_loss: 0.6566 - val_acc: 0.8065\n",
            "Epoch 27/100\n",
            "390/390 [==============================] - 19s 48ms/step - loss: 0.2114 - acc: 0.9233 - val_loss: 0.6467 - val_acc: 0.8128\n",
            "Epoch 28/100\n",
            "390/390 [==============================] - 19s 48ms/step - loss: 0.2065 - acc: 0.9265 - val_loss: 0.6570 - val_acc: 0.8080\n",
            "Epoch 29/100\n",
            "390/390 [==============================] - 19s 48ms/step - loss: 0.1985 - acc: 0.9293 - val_loss: 0.6847 - val_acc: 0.7973\n",
            "Epoch 30/100\n",
            "390/390 [==============================] - 19s 48ms/step - loss: 0.1964 - acc: 0.9284 - val_loss: 0.6142 - val_acc: 0.8264\n",
            "Epoch 31/100\n",
            "390/390 [==============================] - 19s 48ms/step - loss: 0.1884 - acc: 0.9325 - val_loss: 0.7722 - val_acc: 0.7864\n",
            "Epoch 32/100\n",
            "390/390 [==============================] - 19s 48ms/step - loss: 0.1784 - acc: 0.9346 - val_loss: 0.6143 - val_acc: 0.8240\n",
            "Epoch 33/100\n",
            "390/390 [==============================] - 19s 48ms/step - loss: 0.1833 - acc: 0.9340 - val_loss: 0.8004 - val_acc: 0.7872\n",
            "Epoch 34/100\n",
            "390/390 [==============================] - 19s 48ms/step - loss: 0.1733 - acc: 0.9365 - val_loss: 0.6114 - val_acc: 0.8214\n",
            "Epoch 35/100\n",
            "390/390 [==============================] - 19s 48ms/step - loss: 0.1712 - acc: 0.9377 - val_loss: 0.6635 - val_acc: 0.8153\n",
            "Epoch 36/100\n",
            "390/390 [==============================] - 19s 48ms/step - loss: 0.1729 - acc: 0.9374 - val_loss: 0.6597 - val_acc: 0.8188\n",
            "Epoch 37/100\n",
            "390/390 [==============================] - 19s 48ms/step - loss: 0.1623 - acc: 0.9411 - val_loss: 0.9309 - val_acc: 0.7808\n",
            "Epoch 38/100\n",
            "390/390 [==============================] - 19s 48ms/step - loss: 0.1558 - acc: 0.9436 - val_loss: 0.6303 - val_acc: 0.8276\n",
            "Epoch 39/100\n",
            "390/390 [==============================] - 19s 48ms/step - loss: 0.1548 - acc: 0.9445 - val_loss: 0.7054 - val_acc: 0.8113\n",
            "Epoch 40/100\n",
            "390/390 [==============================] - 19s 48ms/step - loss: 0.1497 - acc: 0.9452 - val_loss: 0.6157 - val_acc: 0.8326\n",
            "Epoch 41/100\n",
            "390/390 [==============================] - 19s 48ms/step - loss: 0.1508 - acc: 0.9449 - val_loss: 0.6221 - val_acc: 0.8310\n",
            "Epoch 42/100\n",
            "390/390 [==============================] - 19s 48ms/step - loss: 0.1467 - acc: 0.9463 - val_loss: 0.6750 - val_acc: 0.8245\n",
            "Epoch 43/100\n",
            "390/390 [==============================] - 19s 48ms/step - loss: 0.1412 - acc: 0.9493 - val_loss: 0.7673 - val_acc: 0.8094\n",
            "Epoch 44/100\n",
            "390/390 [==============================] - 19s 48ms/step - loss: 0.1406 - acc: 0.9478 - val_loss: 0.6178 - val_acc: 0.8271\n",
            "Epoch 45/100\n",
            "390/390 [==============================] - 19s 48ms/step - loss: 0.1375 - acc: 0.9499 - val_loss: 0.6375 - val_acc: 0.8373\n",
            "Epoch 46/100\n",
            "390/390 [==============================] - 19s 48ms/step - loss: 0.1397 - acc: 0.9489 - val_loss: 0.6427 - val_acc: 0.8283\n",
            "Epoch 47/100\n",
            "390/390 [==============================] - 19s 48ms/step - loss: 0.1367 - acc: 0.9516 - val_loss: 0.6201 - val_acc: 0.8364\n",
            "Epoch 48/100\n",
            "390/390 [==============================] - 19s 48ms/step - loss: 0.1281 - acc: 0.9542 - val_loss: 0.6982 - val_acc: 0.8193\n",
            "Epoch 49/100\n",
            "390/390 [==============================] - 19s 48ms/step - loss: 0.1327 - acc: 0.9517 - val_loss: 0.8131 - val_acc: 0.8050\n",
            "Epoch 50/100\n",
            "390/390 [==============================] - 19s 48ms/step - loss: 0.1271 - acc: 0.9541 - val_loss: 0.7099 - val_acc: 0.8257\n",
            "Epoch 51/100\n",
            "390/390 [==============================] - 19s 48ms/step - loss: 0.1222 - acc: 0.9562 - val_loss: 0.7940 - val_acc: 0.8086\n",
            "Epoch 52/100\n",
            "390/390 [==============================] - 19s 48ms/step - loss: 0.1262 - acc: 0.9550 - val_loss: 0.7461 - val_acc: 0.8200\n",
            "Epoch 53/100\n",
            "390/390 [==============================] - 19s 48ms/step - loss: 0.1190 - acc: 0.9575 - val_loss: 0.7229 - val_acc: 0.8259\n",
            "Epoch 54/100\n",
            "390/390 [==============================] - 19s 48ms/step - loss: 0.1173 - acc: 0.9569 - val_loss: 0.7389 - val_acc: 0.8198\n",
            "Epoch 55/100\n",
            "390/390 [==============================] - 19s 48ms/step - loss: 0.1138 - acc: 0.9580 - val_loss: 0.7541 - val_acc: 0.8137\n",
            "Epoch 56/100\n",
            "390/390 [==============================] - 19s 48ms/step - loss: 0.1208 - acc: 0.9559 - val_loss: 0.6927 - val_acc: 0.8277\n",
            "Epoch 57/100\n",
            "390/390 [==============================] - 19s 48ms/step - loss: 0.1105 - acc: 0.9606 - val_loss: 0.6904 - val_acc: 0.8332\n",
            "Epoch 58/100\n",
            "390/390 [==============================] - 19s 48ms/step - loss: 0.1144 - acc: 0.9585 - val_loss: 0.8004 - val_acc: 0.8162\n",
            "Epoch 59/100\n",
            "390/390 [==============================] - 19s 48ms/step - loss: 0.1103 - acc: 0.9599 - val_loss: 0.9036 - val_acc: 0.7976\n",
            "Epoch 60/100\n",
            "390/390 [==============================] - 19s 48ms/step - loss: 0.1107 - acc: 0.9602 - val_loss: 0.7960 - val_acc: 0.8207\n",
            "Epoch 61/100\n",
            "390/390 [==============================] - 19s 48ms/step - loss: 0.1127 - acc: 0.9587 - val_loss: 0.6779 - val_acc: 0.8366\n",
            "Epoch 62/100\n",
            "390/390 [==============================] - 19s 48ms/step - loss: 0.1069 - acc: 0.9615 - val_loss: 0.6455 - val_acc: 0.8396\n",
            "Epoch 63/100\n",
            "390/390 [==============================] - 19s 48ms/step - loss: 0.1051 - acc: 0.9622 - val_loss: 0.7023 - val_acc: 0.8339\n",
            "Epoch 64/100\n",
            "390/390 [==============================] - 19s 48ms/step - loss: 0.1115 - acc: 0.9600 - val_loss: 0.6926 - val_acc: 0.8357\n",
            "Epoch 65/100\n",
            "390/390 [==============================] - 19s 48ms/step - loss: 0.1031 - acc: 0.9625 - val_loss: 0.8752 - val_acc: 0.8098\n",
            "Epoch 66/100\n",
            "390/390 [==============================] - 19s 48ms/step - loss: 0.1047 - acc: 0.9629 - val_loss: 0.7177 - val_acc: 0.8352\n",
            "Epoch 67/100\n",
            "390/390 [==============================] - 19s 48ms/step - loss: 0.1011 - acc: 0.9633 - val_loss: 0.7027 - val_acc: 0.8353\n",
            "Epoch 68/100\n",
            "390/390 [==============================] - 19s 48ms/step - loss: 0.1046 - acc: 0.9626 - val_loss: 0.7342 - val_acc: 0.8312\n",
            "Epoch 69/100\n",
            "390/390 [==============================] - 19s 48ms/step - loss: 0.1005 - acc: 0.9639 - val_loss: 0.7385 - val_acc: 0.8336\n",
            "Epoch 70/100\n",
            "390/390 [==============================] - 19s 48ms/step - loss: 0.0980 - acc: 0.9633 - val_loss: 0.6732 - val_acc: 0.8412\n",
            "Epoch 71/100\n",
            "390/390 [==============================] - 19s 48ms/step - loss: 0.0945 - acc: 0.9671 - val_loss: 0.7004 - val_acc: 0.8325\n",
            "Epoch 72/100\n",
            "390/390 [==============================] - 19s 48ms/step - loss: 0.0933 - acc: 0.9660 - val_loss: 0.7448 - val_acc: 0.8327\n",
            "Epoch 73/100\n",
            "390/390 [==============================] - 19s 48ms/step - loss: 0.0949 - acc: 0.9649 - val_loss: 0.7456 - val_acc: 0.8330\n",
            "Epoch 74/100\n",
            "390/390 [==============================] - 19s 48ms/step - loss: 0.0947 - acc: 0.9652 - val_loss: 0.7374 - val_acc: 0.8342\n",
            "Epoch 75/100\n",
            "390/390 [==============================] - 19s 48ms/step - loss: 0.0900 - acc: 0.9672 - val_loss: 0.7244 - val_acc: 0.8371\n",
            "Epoch 76/100\n",
            "390/390 [==============================] - 19s 48ms/step - loss: 0.0913 - acc: 0.9676 - val_loss: 0.6804 - val_acc: 0.8439\n",
            "Epoch 77/100\n",
            "390/390 [==============================] - 19s 48ms/step - loss: 0.0949 - acc: 0.9660 - val_loss: 0.6743 - val_acc: 0.8428\n",
            "Epoch 78/100\n",
            "390/390 [==============================] - 19s 48ms/step - loss: 0.0937 - acc: 0.9663 - val_loss: 0.7007 - val_acc: 0.8453\n",
            "Epoch 79/100\n",
            "390/390 [==============================] - 19s 48ms/step - loss: 0.0899 - acc: 0.9684 - val_loss: 0.6821 - val_acc: 0.8357\n",
            "Epoch 80/100\n",
            "390/390 [==============================] - 19s 48ms/step - loss: 0.0937 - acc: 0.9658 - val_loss: 0.7877 - val_acc: 0.8299\n",
            "Epoch 81/100\n",
            "390/390 [==============================] - 19s 48ms/step - loss: 0.0881 - acc: 0.9681 - val_loss: 0.7479 - val_acc: 0.8333\n",
            "Epoch 82/100\n",
            "390/390 [==============================] - 19s 48ms/step - loss: 0.0894 - acc: 0.9684 - val_loss: 0.7136 - val_acc: 0.8366\n",
            "Epoch 83/100\n",
            "390/390 [==============================] - 19s 48ms/step - loss: 0.0862 - acc: 0.9689 - val_loss: 0.7012 - val_acc: 0.8367\n",
            "Epoch 84/100\n",
            "390/390 [==============================] - 19s 48ms/step - loss: 0.0898 - acc: 0.9668 - val_loss: 0.7501 - val_acc: 0.8389\n",
            "Epoch 85/100\n",
            "390/390 [==============================] - 19s 48ms/step - loss: 0.0810 - acc: 0.9706 - val_loss: 0.6939 - val_acc: 0.8474\n",
            "Epoch 86/100\n",
            "390/390 [==============================] - 19s 48ms/step - loss: 0.0818 - acc: 0.9712 - val_loss: 0.7130 - val_acc: 0.8366\n",
            "Epoch 87/100\n",
            "390/390 [==============================] - 19s 48ms/step - loss: 0.0893 - acc: 0.9688 - val_loss: 0.7810 - val_acc: 0.8297\n",
            "Epoch 88/100\n",
            "390/390 [==============================] - 19s 48ms/step - loss: 0.0778 - acc: 0.9718 - val_loss: 0.7325 - val_acc: 0.8414\n",
            "Epoch 89/100\n",
            "390/390 [==============================] - 19s 48ms/step - loss: 0.0869 - acc: 0.9693 - val_loss: 0.7731 - val_acc: 0.8360\n",
            "Epoch 90/100\n",
            "390/390 [==============================] - 19s 48ms/step - loss: 0.0813 - acc: 0.9711 - val_loss: 0.7323 - val_acc: 0.8423\n",
            "Epoch 91/100\n",
            "390/390 [==============================] - 19s 48ms/step - loss: 0.0819 - acc: 0.9712 - val_loss: 0.7623 - val_acc: 0.8359\n",
            "Epoch 92/100\n",
            "390/390 [==============================] - 19s 48ms/step - loss: 0.0836 - acc: 0.9702 - val_loss: 0.7369 - val_acc: 0.8410\n",
            "Epoch 93/100\n",
            "390/390 [==============================] - 19s 48ms/step - loss: 0.0798 - acc: 0.9711 - val_loss: 0.7237 - val_acc: 0.8376\n",
            "Epoch 94/100\n",
            "390/390 [==============================] - 19s 48ms/step - loss: 0.0815 - acc: 0.9714 - val_loss: 0.7432 - val_acc: 0.8425\n",
            "Epoch 95/100\n",
            "390/390 [==============================] - 19s 48ms/step - loss: 0.0798 - acc: 0.9717 - val_loss: 0.8222 - val_acc: 0.8305\n",
            "Epoch 96/100\n",
            "390/390 [==============================] - 19s 48ms/step - loss: 0.0824 - acc: 0.9709 - val_loss: 0.7740 - val_acc: 0.8313\n",
            "Epoch 97/100\n",
            "390/390 [==============================] - 19s 48ms/step - loss: 0.0756 - acc: 0.9728 - val_loss: 0.7520 - val_acc: 0.8396\n",
            "Epoch 98/100\n",
            "390/390 [==============================] - 19s 48ms/step - loss: 0.0759 - acc: 0.9719 - val_loss: 0.7379 - val_acc: 0.8395\n",
            "Epoch 99/100\n",
            "390/390 [==============================] - 19s 48ms/step - loss: 0.0753 - acc: 0.9727 - val_loss: 0.7468 - val_acc: 0.8371\n",
            "Epoch 100/100\n",
            "390/390 [==============================] - 19s 48ms/step - loss: 0.0763 - acc: 0.9726 - val_loss: 0.7743 - val_acc: 0.8376\n",
            "Accuracy on test data is: 83.76\n"
          ],
          "name": "stdout"
        }
      ]
    },
    {
      "cell_type": "code",
      "metadata": {
        "id": "Nir8RwM5BKlb",
        "colab_type": "code",
        "colab": {}
      },
      "source": [
        "#model.save(\"cifar10.h5\")"
      ],
      "execution_count": 0,
      "outputs": []
    },
    {
      "cell_type": "code",
      "metadata": {
        "id": "L4fL1bnhPfg4",
        "colab_type": "code",
        "colab": {}
      },
      "source": [
        "#model = load_model('cifar10.h5')"
      ],
      "execution_count": 0,
      "outputs": []
    },
    {
      "cell_type": "code",
      "metadata": {
        "id": "U0Ialm37QUx6",
        "colab_type": "code",
        "colab": {}
      },
      "source": [
        "  # file: string (name of existing file)\n",
        "  # title: string (name which you want to give to the file being uploaded to Drive)\n",
        "  # returns the file_id of the uploaded file on Drive\n",
        "def upload_file_to_drive(file, title):\n",
        "  auth.authenticate_user()\n",
        "  gauth = GoogleAuth()\n",
        "  gauth.credentials = GoogleCredentials.get_application_default()\n",
        "  drive = GoogleDrive(gauth)\n",
        "\n",
        "  export = drive.CreateFile({'title':title})  \n",
        "  export.SetContentFile(file)\n",
        "  export.Upload()\n",
        "\n",
        "  return export['id']\n",
        "\n",
        "\n",
        "  # file_id: string (id of the file you want to download)\n",
        "  # title: string (name which you want to give to the file being downloaded)\n",
        "def download_file_from_drive(file_id, title):\n",
        "  auth.authenticate_user()\n",
        "  gauth = GoogleAuth()\n",
        "  gauth.credentials = GoogleCredentials.get_application_default()\n",
        "  drive = GoogleDrive(gauth)\n",
        "  \n",
        "  download = drive.CreateFile({'id': file_id})\n",
        "  download.GetContentFile(title)"
      ],
      "execution_count": 0,
      "outputs": []
    },
    {
      "cell_type": "code",
      "metadata": {
        "id": "eVqJHkovRX5y",
        "colab_type": "code",
        "colab": {}
      },
      "source": [
        "#modelid = upload_file_to_drive(\"cifar10.h5\",\"cifar100model\")\n",
        "\n",
        "#print(modelid)"
      ],
      "execution_count": 0,
      "outputs": []
    },
    {
      "cell_type": "code",
      "metadata": {
        "id": "JMUlZq1ISf0F",
        "colab_type": "code",
        "colab": {}
      },
      "source": [
        "#modelfile = download_file_from_drive(\"1LVnpbvm0han62oEGFacAgsjRcjVILAqK\",\"cifar100model\")"
      ],
      "execution_count": 0,
      "outputs": []
    },
    {
      "cell_type": "code",
      "metadata": {
        "id": "Afx_CvB1S6ZX",
        "colab_type": "code",
        "colab": {}
      },
      "source": [
        "#model1 = load_model('cifar100model')\n"
      ],
      "execution_count": 0,
      "outputs": []
    },
    {
      "cell_type": "code",
      "metadata": {
        "id": "XRWap41zUJ7t",
        "colab_type": "code",
        "colab": {}
      },
      "source": [
        "def grad_cam(img_path, model,rows,cols,lastlayer,lastlayerdepth):\n",
        " img = image.load_img(img_path, target_size=(rows, cols))\n",
        " x = image.img_to_array(img)\n",
        " x = np.expand_dims(x, axis=0)\n",
        " x = preprocess_input(x)\n",
        " preds = model.predict(x)\n",
        " class_idx = np.argmax(preds[0])\n",
        " class_output = model.output[:, class_idx]\n",
        " last_conv_layer = model.get_layer(lastlayer)\n",
        " grads = K.gradients(class_output, last_conv_layer.output)[0]\n",
        " pooled_grads = K.mean(grads, axis=(0, 1, 2))\n",
        " iterate = K.function([model.input], [pooled_grads, last_conv_layer.output[0]])\n",
        " pooled_grads_value, conv_layer_output_value = iterate([x])\n",
        " for i in range(lastlayerdepth):\n",
        "  conv_layer_output_value[:, :, i] *= pooled_grads_value[i]\n",
        "  \n",
        " heatmap = np.mean(conv_layer_output_value, axis=-1)\n",
        " heatmap = np.maximum(heatmap, 0)\n",
        " heatmap /= np.max(heatmap)\n",
        " img = cv2.imread(img_path)\n",
        " heatmap = cv2.resize(heatmap, (img.shape[1], img.shape[0]))\n",
        " heatmap = np.uint8(255 * heatmap)\n",
        " heatmap = cv2.applyColorMap(heatmap, cv2.COLORMAP_JET)\n",
        " superimposed_img = cv2.addWeighted(img, 0.6, heatmap, 0.4, 0)\n",
        " return img,superimposed_img\n"
      ],
      "execution_count": 0,
      "outputs": []
    },
    {
      "cell_type": "code",
      "metadata": {
        "id": "9LYcTE56ZuV1",
        "colab_type": "code",
        "outputId": "482a18d0-6ab7-4bd4-a971-308be55fdf2a",
        "colab": {
          "base_uri": "https://localhost:8080/",
          "height": 417
        }
      },
      "source": [
        "plane_img_path = \"cifar10_test_images/airplane4.png\"\n",
        "\n",
        "horse_img_path = \"cifar10_test_images/horse6.png\"\n",
        "\n",
        "dog_img_path = \"cifar10_test_images/dog4.png\"\n",
        "\n",
        "truck_img_path = \"cifar10_test_images/truck5.png\"\n",
        "\n",
        "lastlayer = \"conv2d_33\"\n",
        "lastlayerdepth = 10\n",
        "rows = 32\n",
        "cols = 32\n",
        "\n",
        "plane_img,superimposed_plane = grad_cam(plane_img_path, model,rows,cols,lastlayer,lastlayerdepth)\n",
        "\n",
        "img_horse,superimposed_horse = grad_cam(horse_img_path, model,rows,cols,lastlayer,lastlayerdepth)\n",
        "\n",
        "img_dog,superimposed_dog = grad_cam(dog_img_path, model,rows,cols,lastlayer,lastlayerdepth)\n",
        "\n",
        "img_truck,superimposed_truck = grad_cam(truck_img_path, model,rows,cols,lastlayer,lastlayerdepth)\n",
        "\n",
        "\n",
        "\n",
        "fig, axs = plt.subplots(ncols=4, nrows=2)\n",
        "fig.suptitle('GRAD-CAM Usage Illustration', y=0.95)\n",
        "\n",
        "F = plt.gcf()\n",
        "Size = F.get_size_inches()\n",
        "F.set_size_inches(Size[0]*1.5, Size[1]*1.5, forward=True)#Set forward to True to resize window along with plot in figure.\n",
        "\n",
        "axs[0, 0].imshow(plane_img)\n",
        "axs[0, 0].set(xlabel='Plane')\n",
        "\n",
        "axs[0, 1].imshow(img_horse)\n",
        "axs[0, 1].set(xlabel='Horse')\n",
        "\n",
        "axs[0, 2].imshow(img_dog)\n",
        "axs[0, 2].set(xlabel='Dog')\n",
        "\n",
        "axs[0, 3].imshow(img_truck)\n",
        "axs[0, 3].set(xlabel='Truck')\n",
        "\n",
        "axs[1, 0].imshow(superimposed_plane)\n",
        "axs[1, 0].set(xlabel='Plane (Gradcam)')\n",
        "\n",
        "axs[1, 1].imshow(superimposed_horse)\n",
        "axs[1, 1].set(xlabel='Horse (Gradcam)')\n",
        "\n",
        "axs[1, 2].imshow(superimposed_dog)\n",
        "axs[1, 2].set(xlabel='Dog (Gradcam)')\n",
        "\n",
        "axs[1, 3].imshow(superimposed_truck)\n",
        "axs[1, 3].set(xlabel='Truck (Gradcam)')"
      ],
      "execution_count": 89,
      "outputs": [
        {
          "output_type": "execute_result",
          "data": {
            "text/plain": [
              "[Text(0.5, 0, 'Truck (Gradcam)')]"
            ]
          },
          "metadata": {
            "tags": []
          },
          "execution_count": 89
        },
        {
          "output_type": "display_data",
          "data": {
            "image/png": "[encoded data removed]",
            "text/plain": [
              "<Figure size 648x432 with 8 Axes>"
            ]
          },
          "metadata": {
            "tags": []
          }
        }
      ]
    }
  ]
}